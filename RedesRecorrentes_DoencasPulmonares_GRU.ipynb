{
  "nbformat": 4,
  "nbformat_minor": 0,
  "metadata": {
    "colab": {
      "name": "RedesRecorrentes_DoencasPulmonares_GRU.ipynb",
      "provenance": [],
      "collapsed_sections": [],
      "include_colab_link": true
    },
    "kernelspec": {
      "name": "python3",
      "display_name": "Python 3",
      "language": "python"
    },
    "accelerator": "TPU"
  },
  "cells": [
    {
      "cell_type": "markdown",
      "metadata": {
        "id": "view-in-github",
        "colab_type": "text"
      },
      "source": [
        "<a href=\"https://colab.research.google.com/github/rrfsantos/Projeto-Rede-Neurais--Series-Temporais/blob/main/RedesRecorrentes_DoencasPulmonares_GRU.ipynb\" target=\"_parent\"><img src=\"https://colab.research.google.com/assets/colab-badge.svg\" alt=\"Open In Colab\"/></a>"
      ]
    },
    {
      "cell_type": "markdown",
      "metadata": {
        "id": "bgc8yb4c2W0g"
      },
      "source": [
        "# Recurrent Neural Network - LSTM\n"
      ]
    },
    {
      "cell_type": "markdown",
      "metadata": {
        "id": "aew2N81e35Uc"
      },
      "source": [
        "## Parte 1 - Preprocessamento de Dados"
      ]
    },
    {
      "cell_type": "markdown",
      "metadata": {
        "id": "Z0vulSxH2hHu"
      },
      "source": [
        "### Importar as bibliotecas"
      ]
    },
    {
      "cell_type": "code",
      "metadata": {
        "id": "p2SjiqlE2O08"
      },
      "source": [
        "import numpy as np\n",
        "import matplotlib.pyplot as plt\n",
        "import pandas as pd\n",
        "import os\n",
        "import math\n",
        "from keras.models import Sequential\n",
        "from keras.layers import Dense\n",
        "from keras.layers import LSTM, GRU\n",
        "from keras.layers import Dropout\n",
        "from sklearn.metrics import mean_absolute_error, mean_squared_error\n",
        "np.random.seed(0)"
      ],
      "execution_count": 1,
      "outputs": []
    },
    {
      "cell_type": "markdown",
      "metadata": {
        "id": "36Q16Udt2l3W"
      },
      "source": [
        "### Importar a base de dados"
      ]
    },
    {
      "cell_type": "code",
      "metadata": {
        "colab": {
          "base_uri": "https://localhost:8080/"
        },
        "id": "or7UuAX_PgCb",
        "outputId": "224eb402-e1f8-42e3-c5a7-1686d37a9212"
      },
      "source": [
        "from google.colab import drive\n",
        "drive.mount('/content/drive')\n",
        "\n",
        "import os\n",
        "workdir_path = '/content/drive/My Drive/Trabalho Redes Neurais/'  # Inserir o local da pasta onde estão os arquivos de entrada (treino e teste)\n",
        "os.chdir(workdir_path)"
      ],
      "execution_count": 2,
      "outputs": [
        {
          "output_type": "stream",
          "text": [
            "Mounted at /content/drive\n"
          ],
          "name": "stdout"
        }
      ]
    },
    {
      "cell_type": "code",
      "metadata": {
        "id": "1ivhnWxD2eEG"
      },
      "source": [
        "dataset_train = pd.read_csv('train.csv')\n",
        "training_set = dataset_train.iloc[:, 1:2].values #só coluna da série em si"
      ],
      "execution_count": 3,
      "outputs": []
    },
    {
      "cell_type": "markdown",
      "metadata": {
        "id": "kd39T1zK2ql1"
      },
      "source": [
        "### gráfico da série temporal"
      ]
    },
    {
      "cell_type": "code",
      "metadata": {
        "id": "vMsAFuya2rhr",
        "colab": {
          "base_uri": "https://localhost:8080/",
          "height": 295
        },
        "outputId": "e2805297-6c16-4828-e197-6bf754587738"
      },
      "source": [
        "plt.plot(training_set)\n",
        "plt.xlabel(\"Tempo\")\n",
        "plt.ylabel(\"Numero de Mortes\")\n",
        "plt.title(\"Doenças Pulmonares\")\n",
        "plt.show()"
      ],
      "execution_count": 4,
      "outputs": [
        {
          "output_type": "display_data",
          "data": {
            "image/png": "[encoded data removed]",
            "text/plain": [
              "<Figure size 432x288 with 1 Axes>"
            ]
          },
          "metadata": {
            "tags": [],
            "needs_background": "light"
          }
        }
      ]
    },
    {
      "cell_type": "markdown",
      "metadata": {
        "id": "7p1F7HdB2uJU"
      },
      "source": [
        "### Normalização"
      ]
    },
    {
      "cell_type": "code",
      "metadata": {
        "id": "foeHRZr-2u-L"
      },
      "source": [
        "from sklearn.preprocessing import MinMaxScaler\n",
        "sc = MinMaxScaler(feature_range = (0, 1))\n",
        "training_set_scaled = sc.fit_transform(training_set)"
      ],
      "execution_count": 5,
      "outputs": []
    },
    {
      "cell_type": "markdown",
      "metadata": {
        "id": "uQP8Q7MI21Y9"
      },
      "source": [
        "### Criar a estrutura de dados com janela 15 e output 1"
      ]
    },
    {
      "cell_type": "code",
      "metadata": {
        "id": "C6Ge9ql922cb"
      },
      "source": [
        "window = 15\n",
        "trainSize = len(training_set_scaled)\n",
        "X_train = []\n",
        "y_train = []\n",
        "for i in range(window, trainSize):\n",
        "    X_train.append(training_set_scaled[i-window:i, 0])\n",
        "    y_train.append(training_set_scaled[i, 0])\n",
        "X_train, y_train = np.array(X_train), np.array(y_train)"
      ],
      "execution_count": 6,
      "outputs": []
    },
    {
      "cell_type": "markdown",
      "metadata": {
        "id": "LPBC2LoG24dU"
      },
      "source": [
        "### Reshaping"
      ]
    },
    {
      "cell_type": "code",
      "metadata": {
        "id": "oGwgQUDbdmnS",
        "colab": {
          "base_uri": "https://localhost:8080/"
        },
        "outputId": "a5249953-04f7-419f-adea-4be01229fdd7"
      },
      "source": [
        "X_train.shape"
      ],
      "execution_count": 7,
      "outputs": [
        {
          "output_type": "execute_result",
          "data": {
            "text/plain": [
              "(45, 15)"
            ]
          },
          "metadata": {
            "tags": []
          },
          "execution_count": 7
        }
      ]
    },
    {
      "cell_type": "code",
      "metadata": {
        "id": "b9ZfLlGH25fr"
      },
      "source": [
        "X_train = np.reshape(X_train, (X_train.shape[0], X_train.shape[1], 1))"
      ],
      "execution_count": 8,
      "outputs": []
    },
    {
      "cell_type": "code",
      "metadata": {
        "id": "RxU0axM9diHO",
        "colab": {
          "base_uri": "https://localhost:8080/"
        },
        "outputId": "04f0afca-31ca-4248-f579-c06fcf8fd7aa"
      },
      "source": [
        "X_train.shape"
      ],
      "execution_count": 9,
      "outputs": [
        {
          "output_type": "execute_result",
          "data": {
            "text/plain": [
              "(45, 15, 1)"
            ]
          },
          "metadata": {
            "tags": []
          },
          "execution_count": 9
        }
      ]
    },
    {
      "cell_type": "markdown",
      "metadata": {
        "id": "fZhjp7Tf282b"
      },
      "source": [
        "## Parte 2 - Construção da RNN"
      ]
    },
    {
      "cell_type": "markdown",
      "metadata": {
        "id": "kordpD0_3H7b"
      },
      "source": [
        "### Construção da Rede completa"
      ]
    },
    {
      "cell_type": "code",
      "metadata": {
        "id": "EskB17uo3Iso",
        "colab": {
          "base_uri": "https://localhost:8080/"
        },
        "outputId": "43c37980-f051-4a8b-f91d-9a769081d79f"
      },
      "source": [
        "# Inicializar a RNN\n",
        "regressor = Sequential()\n",
        "\n",
        "# Adicionar a primeira camada LSTM e Dropout \n",
        "regressor.add(GRU(units = 48, return_sequences = True, input_shape = (X_train.shape[1], 1)))\n",
        "regressor.add(Dropout(0.2))\n",
        " \n",
        "# Adicionar a segunda camada LSTM e Dropout\n",
        "regressor.add(GRU(units = 80, return_sequences = False))\n",
        "regressor.add(Dropout(0.2))\n",
        " \n",
        "# Adicionar a terceira camada LSTM e Dropout\n",
        "#regressor.add(LSTM(units = 50))\n",
        "#regressor.add(Dropout(0.2))\n",
        " \n",
        "# camada de saída\n",
        "regressor.add(Dense(units = 1))\n",
        " \n",
        "# Compilar a rede\n",
        "regressor.compile(optimizer = 'adam', loss = 'mean_squared_error')\n",
        "\n",
        "# Visualizar a rede\n",
        "regressor.summary()"
      ],
      "execution_count": 10,
      "outputs": [
        {
          "output_type": "stream",
          "text": [
            "Model: \"sequential\"\n",
            "_________________________________________________________________\n",
            "Layer (type)                 Output Shape              Param #   \n",
            "=================================================================\n",
            "gru (GRU)                    (None, 15, 48)            7344      \n",
            "_________________________________________________________________\n",
            "dropout (Dropout)            (None, 15, 48)            0         \n",
            "_________________________________________________________________\n",
            "gru_1 (GRU)                  (None, 80)                31200     \n",
            "_________________________________________________________________\n",
            "dropout_1 (Dropout)          (None, 80)                0         \n",
            "_________________________________________________________________\n",
            "dense (Dense)                (None, 1)                 81        \n",
            "=================================================================\n",
            "Total params: 38,625\n",
            "Trainable params: 38,625\n",
            "Non-trainable params: 0\n",
            "_________________________________________________________________\n"
          ],
          "name": "stdout"
        }
      ]
    },
    {
      "cell_type": "markdown",
      "metadata": {
        "id": "5j1w28g83iSR"
      },
      "source": [
        "### Treinamento"
      ]
    },
    {
      "cell_type": "code",
      "metadata": {
        "id": "xWKAuKyp3jXv",
        "colab": {
          "base_uri": "https://localhost:8080/"
        },
        "outputId": "d6cd6cad-139c-4f1b-e5be-a384462e2388"
      },
      "source": [
        "regressor.fit(X_train, y_train, epochs = 500, batch_size = 32)"
      ],
      "execution_count": 11,
      "outputs": [
        {
          "output_type": "stream",
          "text": [
            "Epoch 1/500\n",
            "2/2 [==============================] - 4s 24ms/step - loss: 0.1093\n",
            "Epoch 2/500\n",
            "2/2 [==============================] - 0s 20ms/step - loss: 0.0776\n",
            "Epoch 3/500\n",
            "2/2 [==============================] - 0s 21ms/step - loss: 0.0596\n",
            "Epoch 4/500\n",
            "2/2 [==============================] - 0s 20ms/step - loss: 0.0643\n",
            "Epoch 5/500\n",
            "2/2 [==============================] - 0s 19ms/step - loss: 0.0592\n",
            "Epoch 6/500\n",
            "2/2 [==============================] - 0s 35ms/step - loss: 0.0589\n",
            "Epoch 7/500\n",
            "2/2 [==============================] - 0s 23ms/step - loss: 0.0528\n",
            "Epoch 8/500\n",
            "2/2 [==============================] - 0s 19ms/step - loss: 0.0481\n",
            "Epoch 9/500\n",
            "2/2 [==============================] - 0s 19ms/step - loss: 0.0501\n",
            "Epoch 10/500\n",
            "2/2 [==============================] - 0s 25ms/step - loss: 0.0500\n",
            "Epoch 11/500\n",
            "2/2 [==============================] - 0s 19ms/step - loss: 0.0522\n",
            "Epoch 12/500\n",
            "2/2 [==============================] - 0s 19ms/step - loss: 0.0416\n",
            "Epoch 13/500\n",
            "2/2 [==============================] - 0s 19ms/step - loss: 0.0410\n",
            "Epoch 14/500\n",
            "2/2 [==============================] - 0s 18ms/step - loss: 0.0409\n",
            "Epoch 15/500\n",
            "2/2 [==============================] - 0s 19ms/step - loss: 0.0386\n",
            "Epoch 16/500\n",
            "2/2 [==============================] - 0s 19ms/step - loss: 0.0383\n",
            "Epoch 17/500\n",
            "2/2 [==============================] - 0s 22ms/step - loss: 0.0367\n",
            "Epoch 18/500\n",
            "2/2 [==============================] - 0s 20ms/step - loss: 0.0354\n",
            "Epoch 19/500\n",
            "2/2 [==============================] - 0s 19ms/step - loss: 0.0324\n",
            "Epoch 20/500\n",
            "2/2 [==============================] - 0s 19ms/step - loss: 0.0328\n",
            "Epoch 21/500\n",
            "2/2 [==============================] - 0s 19ms/step - loss: 0.0331\n",
            "Epoch 22/500\n",
            "2/2 [==============================] - 0s 18ms/step - loss: 0.0251\n",
            "Epoch 23/500\n",
            "2/2 [==============================] - 0s 18ms/step - loss: 0.0232\n",
            "Epoch 24/500\n",
            "2/2 [==============================] - 0s 19ms/step - loss: 0.0245\n",
            "Epoch 25/500\n",
            "2/2 [==============================] - 0s 19ms/step - loss: 0.0198\n",
            "Epoch 26/500\n",
            "2/2 [==============================] - 0s 21ms/step - loss: 0.0233\n",
            "Epoch 27/500\n",
            "2/2 [==============================] - 0s 19ms/step - loss: 0.0171\n",
            "Epoch 28/500\n",
            "2/2 [==============================] - 0s 24ms/step - loss: 0.0170\n",
            "Epoch 29/500\n",
            "2/2 [==============================] - 0s 19ms/step - loss: 0.0206\n",
            "Epoch 30/500\n",
            "2/2 [==============================] - 0s 18ms/step - loss: 0.0186\n",
            "Epoch 31/500\n",
            "2/2 [==============================] - 0s 20ms/step - loss: 0.0168\n",
            "Epoch 32/500\n",
            "2/2 [==============================] - 0s 21ms/step - loss: 0.0189\n",
            "Epoch 33/500\n",
            "2/2 [==============================] - 0s 19ms/step - loss: 0.0174\n",
            "Epoch 34/500\n",
            "2/2 [==============================] - 0s 30ms/step - loss: 0.0195\n",
            "Epoch 35/500\n",
            "2/2 [==============================] - 0s 19ms/step - loss: 0.0126\n",
            "Epoch 36/500\n",
            "2/2 [==============================] - 0s 18ms/step - loss: 0.0168\n",
            "Epoch 37/500\n",
            "2/2 [==============================] - 0s 18ms/step - loss: 0.0170\n",
            "Epoch 38/500\n",
            "2/2 [==============================] - 0s 18ms/step - loss: 0.0129\n",
            "Epoch 39/500\n",
            "2/2 [==============================] - 0s 19ms/step - loss: 0.0191\n",
            "Epoch 40/500\n",
            "2/2 [==============================] - 0s 19ms/step - loss: 0.0162\n",
            "Epoch 41/500\n",
            "2/2 [==============================] - 0s 20ms/step - loss: 0.0149\n",
            "Epoch 42/500\n",
            "2/2 [==============================] - 0s 19ms/step - loss: 0.0194\n",
            "Epoch 43/500\n",
            "2/2 [==============================] - 0s 20ms/step - loss: 0.0170\n",
            "Epoch 44/500\n",
            "2/2 [==============================] - 0s 24ms/step - loss: 0.0221\n",
            "Epoch 45/500\n",
            "2/2 [==============================] - 0s 19ms/step - loss: 0.0180\n",
            "Epoch 46/500\n",
            "2/2 [==============================] - 0s 19ms/step - loss: 0.0218\n",
            "Epoch 47/500\n",
            "2/2 [==============================] - 0s 21ms/step - loss: 0.0184\n",
            "Epoch 48/500\n",
            "2/2 [==============================] - 0s 24ms/step - loss: 0.0161\n",
            "Epoch 49/500\n",
            "2/2 [==============================] - 0s 19ms/step - loss: 0.0181\n",
            "Epoch 50/500\n",
            "2/2 [==============================] - 0s 18ms/step - loss: 0.0174\n",
            "Epoch 51/500\n",
            "2/2 [==============================] - 0s 18ms/step - loss: 0.0160\n",
            "Epoch 52/500\n",
            "2/2 [==============================] - 0s 19ms/step - loss: 0.0190\n",
            "Epoch 53/500\n",
            "2/2 [==============================] - 0s 19ms/step - loss: 0.0152\n",
            "Epoch 54/500\n",
            "2/2 [==============================] - 0s 18ms/step - loss: 0.0190\n",
            "Epoch 55/500\n",
            "2/2 [==============================] - 0s 21ms/step - loss: 0.0171\n",
            "Epoch 56/500\n",
            "2/2 [==============================] - 0s 25ms/step - loss: 0.0139\n",
            "Epoch 57/500\n",
            "2/2 [==============================] - 0s 20ms/step - loss: 0.0177\n",
            "Epoch 58/500\n",
            "2/2 [==============================] - 0s 19ms/step - loss: 0.0174\n",
            "Epoch 59/500\n",
            "2/2 [==============================] - 0s 19ms/step - loss: 0.0163\n",
            "Epoch 60/500\n",
            "2/2 [==============================] - 0s 24ms/step - loss: 0.0142\n",
            "Epoch 61/500\n",
            "2/2 [==============================] - 0s 20ms/step - loss: 0.0193\n",
            "Epoch 62/500\n",
            "2/2 [==============================] - 0s 20ms/step - loss: 0.0157\n",
            "Epoch 63/500\n",
            "2/2 [==============================] - 0s 20ms/step - loss: 0.0149\n",
            "Epoch 64/500\n",
            "2/2 [==============================] - 0s 20ms/step - loss: 0.0166\n",
            "Epoch 65/500\n",
            "2/2 [==============================] - 0s 21ms/step - loss: 0.0192\n",
            "Epoch 66/500\n",
            "2/2 [==============================] - 0s 22ms/step - loss: 0.0117\n",
            "Epoch 67/500\n",
            "2/2 [==============================] - 0s 19ms/step - loss: 0.0159\n",
            "Epoch 68/500\n",
            "2/2 [==============================] - 0s 20ms/step - loss: 0.0162\n",
            "Epoch 69/500\n",
            "2/2 [==============================] - 0s 19ms/step - loss: 0.0153\n",
            "Epoch 70/500\n",
            "2/2 [==============================] - 0s 20ms/step - loss: 0.0186\n",
            "Epoch 71/500\n",
            "2/2 [==============================] - 0s 19ms/step - loss: 0.0131\n",
            "Epoch 72/500\n",
            "2/2 [==============================] - 0s 18ms/step - loss: 0.0154\n",
            "Epoch 73/500\n",
            "2/2 [==============================] - 0s 18ms/step - loss: 0.0124\n",
            "Epoch 74/500\n",
            "2/2 [==============================] - 0s 20ms/step - loss: 0.0128\n",
            "Epoch 75/500\n",
            "2/2 [==============================] - 0s 20ms/step - loss: 0.0142\n",
            "Epoch 76/500\n",
            "2/2 [==============================] - 0s 24ms/step - loss: 0.0161\n",
            "Epoch 77/500\n",
            "2/2 [==============================] - 0s 29ms/step - loss: 0.0175\n",
            "Epoch 78/500\n",
            "2/2 [==============================] - 0s 18ms/step - loss: 0.0140\n",
            "Epoch 79/500\n",
            "2/2 [==============================] - 0s 21ms/step - loss: 0.0129\n",
            "Epoch 80/500\n",
            "2/2 [==============================] - 0s 24ms/step - loss: 0.0110\n",
            "Epoch 81/500\n",
            "2/2 [==============================] - 0s 19ms/step - loss: 0.0141\n",
            "Epoch 82/500\n",
            "2/2 [==============================] - 0s 20ms/step - loss: 0.0141\n",
            "Epoch 83/500\n",
            "2/2 [==============================] - 0s 19ms/step - loss: 0.0123\n",
            "Epoch 84/500\n",
            "2/2 [==============================] - 0s 18ms/step - loss: 0.0107\n",
            "Epoch 85/500\n",
            "2/2 [==============================] - 0s 22ms/step - loss: 0.0127\n",
            "Epoch 86/500\n",
            "2/2 [==============================] - 0s 19ms/step - loss: 0.0145\n",
            "Epoch 87/500\n",
            "2/2 [==============================] - 0s 18ms/step - loss: 0.0128\n",
            "Epoch 88/500\n",
            "2/2 [==============================] - 0s 19ms/step - loss: 0.0177\n",
            "Epoch 89/500\n",
            "2/2 [==============================] - 0s 20ms/step - loss: 0.0143\n",
            "Epoch 90/500\n",
            "2/2 [==============================] - 0s 19ms/step - loss: 0.0140\n",
            "Epoch 91/500\n",
            "2/2 [==============================] - 0s 22ms/step - loss: 0.0160\n",
            "Epoch 92/500\n",
            "2/2 [==============================] - 0s 22ms/step - loss: 0.0146\n",
            "Epoch 93/500\n",
            "2/2 [==============================] - 0s 20ms/step - loss: 0.0160\n",
            "Epoch 94/500\n",
            "2/2 [==============================] - 0s 19ms/step - loss: 0.0118\n",
            "Epoch 95/500\n",
            "2/2 [==============================] - 0s 17ms/step - loss: 0.0132\n",
            "Epoch 96/500\n",
            "2/2 [==============================] - 0s 18ms/step - loss: 0.0130\n",
            "Epoch 97/500\n",
            "2/2 [==============================] - 0s 19ms/step - loss: 0.0136\n",
            "Epoch 98/500\n",
            "2/2 [==============================] - 0s 19ms/step - loss: 0.0153\n",
            "Epoch 99/500\n",
            "2/2 [==============================] - 0s 21ms/step - loss: 0.0132\n",
            "Epoch 100/500\n",
            "2/2 [==============================] - 0s 21ms/step - loss: 0.0155\n",
            "Epoch 101/500\n",
            "2/2 [==============================] - 0s 27ms/step - loss: 0.0134\n",
            "Epoch 102/500\n",
            "2/2 [==============================] - 0s 20ms/step - loss: 0.0193\n",
            "Epoch 103/500\n",
            "2/2 [==============================] - 0s 20ms/step - loss: 0.0135\n",
            "Epoch 104/500\n",
            "2/2 [==============================] - 0s 20ms/step - loss: 0.0179\n",
            "Epoch 105/500\n",
            "2/2 [==============================] - 0s 25ms/step - loss: 0.0122\n",
            "Epoch 106/500\n",
            "2/2 [==============================] - 0s 19ms/step - loss: 0.0134\n",
            "Epoch 107/500\n",
            "2/2 [==============================] - 0s 21ms/step - loss: 0.0122\n",
            "Epoch 108/500\n",
            "2/2 [==============================] - 0s 20ms/step - loss: 0.0117\n",
            "Epoch 109/500\n",
            "2/2 [==============================] - 0s 20ms/step - loss: 0.0126\n",
            "Epoch 110/500\n",
            "2/2 [==============================] - 0s 22ms/step - loss: 0.0146\n",
            "Epoch 111/500\n",
            "2/2 [==============================] - 0s 19ms/step - loss: 0.0161\n",
            "Epoch 112/500\n",
            "2/2 [==============================] - 0s 24ms/step - loss: 0.0136\n",
            "Epoch 113/500\n",
            "2/2 [==============================] - 0s 22ms/step - loss: 0.0126\n",
            "Epoch 114/500\n",
            "2/2 [==============================] - 0s 20ms/step - loss: 0.0102\n",
            "Epoch 115/500\n",
            "2/2 [==============================] - 0s 23ms/step - loss: 0.0105\n",
            "Epoch 116/500\n",
            "2/2 [==============================] - 0s 19ms/step - loss: 0.0141\n",
            "Epoch 117/500\n",
            "2/2 [==============================] - 0s 19ms/step - loss: 0.0155\n",
            "Epoch 118/500\n",
            "2/2 [==============================] - 0s 18ms/step - loss: 0.0127\n",
            "Epoch 119/500\n",
            "2/2 [==============================] - 0s 26ms/step - loss: 0.0113\n",
            "Epoch 120/500\n",
            "2/2 [==============================] - 0s 23ms/step - loss: 0.0141\n",
            "Epoch 121/500\n",
            "2/2 [==============================] - 0s 25ms/step - loss: 0.0127\n",
            "Epoch 122/500\n",
            "2/2 [==============================] - 0s 19ms/step - loss: 0.0086\n",
            "Epoch 123/500\n",
            "2/2 [==============================] - 0s 19ms/step - loss: 0.0087\n",
            "Epoch 124/500\n",
            "2/2 [==============================] - 0s 18ms/step - loss: 0.0150\n",
            "Epoch 125/500\n",
            "2/2 [==============================] - 0s 21ms/step - loss: 0.0136\n",
            "Epoch 126/500\n",
            "2/2 [==============================] - 0s 20ms/step - loss: 0.0146\n",
            "Epoch 127/500\n",
            "2/2 [==============================] - 0s 22ms/step - loss: 0.0097\n",
            "Epoch 128/500\n",
            "2/2 [==============================] - 0s 19ms/step - loss: 0.0107\n",
            "Epoch 129/500\n",
            "2/2 [==============================] - 0s 19ms/step - loss: 0.0085\n",
            "Epoch 130/500\n",
            "2/2 [==============================] - 0s 20ms/step - loss: 0.0083\n",
            "Epoch 131/500\n",
            "2/2 [==============================] - 0s 24ms/step - loss: 0.0126\n",
            "Epoch 132/500\n",
            "2/2 [==============================] - 0s 23ms/step - loss: 0.0130\n",
            "Epoch 133/500\n",
            "2/2 [==============================] - 0s 20ms/step - loss: 0.0092\n",
            "Epoch 134/500\n",
            "2/2 [==============================] - 0s 18ms/step - loss: 0.0102\n",
            "Epoch 135/500\n",
            "2/2 [==============================] - 0s 21ms/step - loss: 0.0146\n",
            "Epoch 136/500\n",
            "2/2 [==============================] - 0s 18ms/step - loss: 0.0108\n",
            "Epoch 137/500\n",
            "2/2 [==============================] - 0s 19ms/step - loss: 0.0105\n",
            "Epoch 138/500\n",
            "2/2 [==============================] - 0s 21ms/step - loss: 0.0099\n",
            "Epoch 139/500\n",
            "2/2 [==============================] - 0s 21ms/step - loss: 0.0102\n",
            "Epoch 140/500\n",
            "2/2 [==============================] - 0s 22ms/step - loss: 0.0116\n",
            "Epoch 141/500\n",
            "2/2 [==============================] - 0s 18ms/step - loss: 0.0094\n",
            "Epoch 142/500\n",
            "2/2 [==============================] - 0s 19ms/step - loss: 0.0122\n",
            "Epoch 143/500\n",
            "2/2 [==============================] - 0s 20ms/step - loss: 0.0083\n",
            "Epoch 144/500\n",
            "2/2 [==============================] - 0s 19ms/step - loss: 0.0121\n",
            "Epoch 145/500\n",
            "2/2 [==============================] - 0s 21ms/step - loss: 0.0136\n",
            "Epoch 146/500\n",
            "2/2 [==============================] - 0s 18ms/step - loss: 0.0132\n",
            "Epoch 147/500\n",
            "2/2 [==============================] - 0s 20ms/step - loss: 0.0114\n",
            "Epoch 148/500\n",
            "2/2 [==============================] - 0s 20ms/step - loss: 0.0098\n",
            "Epoch 149/500\n",
            "2/2 [==============================] - 0s 21ms/step - loss: 0.0097\n",
            "Epoch 150/500\n",
            "2/2 [==============================] - 0s 20ms/step - loss: 0.0110\n",
            "Epoch 151/500\n",
            "2/2 [==============================] - 0s 21ms/step - loss: 0.0093\n",
            "Epoch 152/500\n",
            "2/2 [==============================] - 0s 18ms/step - loss: 0.0093\n",
            "Epoch 153/500\n",
            "2/2 [==============================] - 0s 24ms/step - loss: 0.0139\n",
            "Epoch 154/500\n",
            "2/2 [==============================] - 0s 19ms/step - loss: 0.0106\n",
            "Epoch 155/500\n",
            "2/2 [==============================] - 0s 18ms/step - loss: 0.0122\n",
            "Epoch 156/500\n",
            "2/2 [==============================] - 0s 20ms/step - loss: 0.0100\n",
            "Epoch 157/500\n",
            "2/2 [==============================] - 0s 20ms/step - loss: 0.0105\n",
            "Epoch 158/500\n",
            "2/2 [==============================] - 0s 22ms/step - loss: 0.0096\n",
            "Epoch 159/500\n",
            "2/2 [==============================] - 0s 26ms/step - loss: 0.0124\n",
            "Epoch 160/500\n",
            "2/2 [==============================] - 0s 22ms/step - loss: 0.0113\n",
            "Epoch 161/500\n",
            "2/2 [==============================] - 0s 28ms/step - loss: 0.0128\n",
            "Epoch 162/500\n",
            "2/2 [==============================] - 0s 20ms/step - loss: 0.0069\n",
            "Epoch 163/500\n",
            "2/2 [==============================] - 0s 22ms/step - loss: 0.0102\n",
            "Epoch 164/500\n",
            "2/2 [==============================] - 0s 22ms/step - loss: 0.0103\n",
            "Epoch 165/500\n",
            "2/2 [==============================] - 0s 19ms/step - loss: 0.0124\n",
            "Epoch 166/500\n",
            "2/2 [==============================] - 0s 18ms/step - loss: 0.0126\n",
            "Epoch 167/500\n",
            "2/2 [==============================] - 0s 22ms/step - loss: 0.0091\n",
            "Epoch 168/500\n",
            "2/2 [==============================] - 0s 22ms/step - loss: 0.0103\n",
            "Epoch 169/500\n",
            "2/2 [==============================] - 0s 21ms/step - loss: 0.0109\n",
            "Epoch 170/500\n",
            "2/2 [==============================] - 0s 25ms/step - loss: 0.0104\n",
            "Epoch 171/500\n",
            "2/2 [==============================] - 0s 20ms/step - loss: 0.0125\n",
            "Epoch 172/500\n",
            "2/2 [==============================] - 0s 21ms/step - loss: 0.0089\n",
            "Epoch 173/500\n",
            "2/2 [==============================] - 0s 20ms/step - loss: 0.0101\n",
            "Epoch 174/500\n",
            "2/2 [==============================] - 0s 20ms/step - loss: 0.0102\n",
            "Epoch 175/500\n",
            "2/2 [==============================] - 0s 20ms/step - loss: 0.0126\n",
            "Epoch 176/500\n",
            "2/2 [==============================] - 0s 20ms/step - loss: 0.0089\n",
            "Epoch 177/500\n",
            "2/2 [==============================] - 0s 21ms/step - loss: 0.0091\n",
            "Epoch 178/500\n",
            "2/2 [==============================] - 0s 20ms/step - loss: 0.0103\n",
            "Epoch 179/500\n",
            "2/2 [==============================] - 0s 22ms/step - loss: 0.0078\n",
            "Epoch 180/500\n",
            "2/2 [==============================] - 0s 23ms/step - loss: 0.0091\n",
            "Epoch 181/500\n",
            "2/2 [==============================] - 0s 20ms/step - loss: 0.0111\n",
            "Epoch 182/500\n",
            "2/2 [==============================] - 0s 22ms/step - loss: 0.0106\n",
            "Epoch 183/500\n",
            "2/2 [==============================] - 0s 20ms/step - loss: 0.0092\n",
            "Epoch 184/500\n",
            "2/2 [==============================] - 0s 22ms/step - loss: 0.0081\n",
            "Epoch 185/500\n",
            "2/2 [==============================] - 0s 19ms/step - loss: 0.0105\n",
            "Epoch 186/500\n",
            "2/2 [==============================] - 0s 21ms/step - loss: 0.0117\n",
            "Epoch 187/500\n",
            "2/2 [==============================] - 0s 23ms/step - loss: 0.0072\n",
            "Epoch 188/500\n",
            "2/2 [==============================] - 0s 23ms/step - loss: 0.0109\n",
            "Epoch 189/500\n",
            "2/2 [==============================] - 0s 19ms/step - loss: 0.0093\n",
            "Epoch 190/500\n",
            "2/2 [==============================] - 0s 21ms/step - loss: 0.0137\n",
            "Epoch 191/500\n",
            "2/2 [==============================] - 0s 19ms/step - loss: 0.0083\n",
            "Epoch 192/500\n",
            "2/2 [==============================] - 0s 21ms/step - loss: 0.0083\n",
            "Epoch 193/500\n",
            "2/2 [==============================] - 0s 21ms/step - loss: 0.0129\n",
            "Epoch 194/500\n",
            "2/2 [==============================] - 0s 37ms/step - loss: 0.0088\n",
            "Epoch 195/500\n",
            "2/2 [==============================] - 0s 22ms/step - loss: 0.0138\n",
            "Epoch 196/500\n",
            "2/2 [==============================] - 0s 20ms/step - loss: 0.0126\n",
            "Epoch 197/500\n",
            "2/2 [==============================] - 0s 20ms/step - loss: 0.0157\n",
            "Epoch 198/500\n",
            "2/2 [==============================] - 0s 21ms/step - loss: 0.0078\n",
            "Epoch 199/500\n",
            "2/2 [==============================] - 0s 19ms/step - loss: 0.0118\n",
            "Epoch 200/500\n",
            "2/2 [==============================] - 0s 21ms/step - loss: 0.0140\n",
            "Epoch 201/500\n",
            "2/2 [==============================] - 0s 20ms/step - loss: 0.0104\n",
            "Epoch 202/500\n",
            "2/2 [==============================] - 0s 26ms/step - loss: 0.0108\n",
            "Epoch 203/500\n",
            "2/2 [==============================] - 0s 22ms/step - loss: 0.0109\n",
            "Epoch 204/500\n",
            "2/2 [==============================] - 0s 22ms/step - loss: 0.0111\n",
            "Epoch 205/500\n",
            "2/2 [==============================] - 0s 21ms/step - loss: 0.0129\n",
            "Epoch 206/500\n",
            "2/2 [==============================] - 0s 19ms/step - loss: 0.0095\n",
            "Epoch 207/500\n",
            "2/2 [==============================] - 0s 24ms/step - loss: 0.0106\n",
            "Epoch 208/500\n",
            "2/2 [==============================] - 0s 19ms/step - loss: 0.0135\n",
            "Epoch 209/500\n",
            "2/2 [==============================] - 0s 24ms/step - loss: 0.0110\n",
            "Epoch 210/500\n",
            "2/2 [==============================] - 0s 23ms/step - loss: 0.0112\n",
            "Epoch 211/500\n",
            "2/2 [==============================] - 0s 24ms/step - loss: 0.0092\n",
            "Epoch 212/500\n",
            "2/2 [==============================] - 0s 19ms/step - loss: 0.0114\n",
            "Epoch 213/500\n",
            "2/2 [==============================] - 0s 19ms/step - loss: 0.0103\n",
            "Epoch 214/500\n",
            "2/2 [==============================] - 0s 20ms/step - loss: 0.0119\n",
            "Epoch 215/500\n",
            "2/2 [==============================] - 0s 21ms/step - loss: 0.0109\n",
            "Epoch 216/500\n",
            "2/2 [==============================] - 0s 30ms/step - loss: 0.0092\n",
            "Epoch 217/500\n",
            "2/2 [==============================] - 0s 23ms/step - loss: 0.0113\n",
            "Epoch 218/500\n",
            "2/2 [==============================] - 0s 22ms/step - loss: 0.0099\n",
            "Epoch 219/500\n",
            "2/2 [==============================] - 0s 20ms/step - loss: 0.0070\n",
            "Epoch 220/500\n",
            "2/2 [==============================] - 0s 22ms/step - loss: 0.0089\n",
            "Epoch 221/500\n",
            "2/2 [==============================] - 0s 21ms/step - loss: 0.0073\n",
            "Epoch 222/500\n",
            "2/2 [==============================] - 0s 22ms/step - loss: 0.0102\n",
            "Epoch 223/500\n",
            "2/2 [==============================] - 0s 27ms/step - loss: 0.0093\n",
            "Epoch 224/500\n",
            "2/2 [==============================] - 0s 22ms/step - loss: 0.0112\n",
            "Epoch 225/500\n",
            "2/2 [==============================] - 0s 22ms/step - loss: 0.0097\n",
            "Epoch 226/500\n",
            "2/2 [==============================] - 0s 23ms/step - loss: 0.0103\n",
            "Epoch 227/500\n",
            "2/2 [==============================] - 0s 22ms/step - loss: 0.0096\n",
            "Epoch 228/500\n",
            "2/2 [==============================] - 0s 20ms/step - loss: 0.0120\n",
            "Epoch 229/500\n",
            "2/2 [==============================] - 0s 21ms/step - loss: 0.0123\n",
            "Epoch 230/500\n",
            "2/2 [==============================] - 0s 20ms/step - loss: 0.0081\n",
            "Epoch 231/500\n",
            "2/2 [==============================] - 0s 26ms/step - loss: 0.0081\n",
            "Epoch 232/500\n",
            "2/2 [==============================] - 0s 20ms/step - loss: 0.0070\n",
            "Epoch 233/500\n",
            "2/2 [==============================] - 0s 22ms/step - loss: 0.0100\n",
            "Epoch 234/500\n",
            "2/2 [==============================] - 0s 23ms/step - loss: 0.0087\n",
            "Epoch 235/500\n",
            "2/2 [==============================] - 0s 18ms/step - loss: 0.0113\n",
            "Epoch 236/500\n",
            "2/2 [==============================] - 0s 19ms/step - loss: 0.0094\n",
            "Epoch 237/500\n",
            "2/2 [==============================] - 0s 19ms/step - loss: 0.0089\n",
            "Epoch 238/500\n",
            "2/2 [==============================] - 0s 33ms/step - loss: 0.0100\n",
            "Epoch 239/500\n",
            "2/2 [==============================] - 0s 20ms/step - loss: 0.0094\n",
            "Epoch 240/500\n",
            "2/2 [==============================] - 0s 21ms/step - loss: 0.0135\n",
            "Epoch 241/500\n",
            "2/2 [==============================] - 0s 22ms/step - loss: 0.0078\n",
            "Epoch 242/500\n",
            "2/2 [==============================] - 0s 23ms/step - loss: 0.0103\n",
            "Epoch 243/500\n",
            "2/2 [==============================] - 0s 25ms/step - loss: 0.0105\n",
            "Epoch 244/500\n",
            "2/2 [==============================] - 0s 23ms/step - loss: 0.0105\n",
            "Epoch 245/500\n",
            "2/2 [==============================] - 0s 19ms/step - loss: 0.0095\n",
            "Epoch 246/500\n",
            "2/2 [==============================] - 0s 22ms/step - loss: 0.0081\n",
            "Epoch 247/500\n",
            "2/2 [==============================] - 0s 20ms/step - loss: 0.0132\n",
            "Epoch 248/500\n",
            "2/2 [==============================] - 0s 20ms/step - loss: 0.0099\n",
            "Epoch 249/500\n",
            "2/2 [==============================] - 0s 20ms/step - loss: 0.0089\n",
            "Epoch 250/500\n",
            "2/2 [==============================] - 0s 28ms/step - loss: 0.0104\n",
            "Epoch 251/500\n",
            "2/2 [==============================] - 0s 24ms/step - loss: 0.0079\n",
            "Epoch 252/500\n",
            "2/2 [==============================] - 0s 19ms/step - loss: 0.0105\n",
            "Epoch 253/500\n",
            "2/2 [==============================] - 0s 18ms/step - loss: 0.0103\n",
            "Epoch 254/500\n",
            "2/2 [==============================] - 0s 23ms/step - loss: 0.0115\n",
            "Epoch 255/500\n",
            "2/2 [==============================] - 0s 22ms/step - loss: 0.0079\n",
            "Epoch 256/500\n",
            "2/2 [==============================] - 0s 20ms/step - loss: 0.0102\n",
            "Epoch 257/500\n",
            "2/2 [==============================] - 0s 21ms/step - loss: 0.0133\n",
            "Epoch 258/500\n",
            "2/2 [==============================] - 0s 31ms/step - loss: 0.0117\n",
            "Epoch 259/500\n",
            "2/2 [==============================] - 0s 26ms/step - loss: 0.0082\n",
            "Epoch 260/500\n",
            "2/2 [==============================] - 0s 22ms/step - loss: 0.0116\n",
            "Epoch 261/500\n",
            "2/2 [==============================] - 0s 28ms/step - loss: 0.0122\n",
            "Epoch 262/500\n",
            "2/2 [==============================] - 0s 19ms/step - loss: 0.0107\n",
            "Epoch 263/500\n",
            "2/2 [==============================] - 0s 19ms/step - loss: 0.0105\n",
            "Epoch 264/500\n",
            "2/2 [==============================] - 0s 22ms/step - loss: 0.0105\n",
            "Epoch 265/500\n",
            "2/2 [==============================] - 0s 21ms/step - loss: 0.0114\n",
            "Epoch 266/500\n",
            "2/2 [==============================] - 0s 21ms/step - loss: 0.0116\n",
            "Epoch 267/500\n",
            "2/2 [==============================] - 0s 19ms/step - loss: 0.0121\n",
            "Epoch 268/500\n",
            "2/2 [==============================] - 0s 21ms/step - loss: 0.0114\n",
            "Epoch 269/500\n",
            "2/2 [==============================] - 0s 24ms/step - loss: 0.0088\n",
            "Epoch 270/500\n",
            "2/2 [==============================] - 0s 23ms/step - loss: 0.0143\n",
            "Epoch 271/500\n",
            "2/2 [==============================] - 0s 20ms/step - loss: 0.0064\n",
            "Epoch 272/500\n",
            "2/2 [==============================] - 0s 24ms/step - loss: 0.0089\n",
            "Epoch 273/500\n",
            "2/2 [==============================] - 0s 24ms/step - loss: 0.0107\n",
            "Epoch 274/500\n",
            "2/2 [==============================] - 0s 19ms/step - loss: 0.0110\n",
            "Epoch 275/500\n",
            "2/2 [==============================] - 0s 19ms/step - loss: 0.0116\n",
            "Epoch 276/500\n",
            "2/2 [==============================] - 0s 19ms/step - loss: 0.0114\n",
            "Epoch 277/500\n",
            "2/2 [==============================] - 0s 25ms/step - loss: 0.0107\n",
            "Epoch 278/500\n",
            "2/2 [==============================] - 0s 20ms/step - loss: 0.0073\n",
            "Epoch 279/500\n",
            "2/2 [==============================] - 0s 19ms/step - loss: 0.0110\n",
            "Epoch 280/500\n",
            "2/2 [==============================] - 0s 20ms/step - loss: 0.0089\n",
            "Epoch 281/500\n",
            "2/2 [==============================] - 0s 25ms/step - loss: 0.0087\n",
            "Epoch 282/500\n",
            "2/2 [==============================] - 0s 18ms/step - loss: 0.0075\n",
            "Epoch 283/500\n",
            "2/2 [==============================] - 0s 20ms/step - loss: 0.0104\n",
            "Epoch 284/500\n",
            "2/2 [==============================] - 0s 18ms/step - loss: 0.0084\n",
            "Epoch 285/500\n",
            "2/2 [==============================] - 0s 24ms/step - loss: 0.0087\n",
            "Epoch 286/500\n",
            "2/2 [==============================] - 0s 19ms/step - loss: 0.0107\n",
            "Epoch 287/500\n",
            "2/2 [==============================] - 0s 20ms/step - loss: 0.0074\n",
            "Epoch 288/500\n",
            "2/2 [==============================] - 0s 25ms/step - loss: 0.0085\n",
            "Epoch 289/500\n",
            "2/2 [==============================] - 0s 21ms/step - loss: 0.0096\n",
            "Epoch 290/500\n",
            "2/2 [==============================] - 0s 18ms/step - loss: 0.0102\n",
            "Epoch 291/500\n",
            "2/2 [==============================] - 0s 18ms/step - loss: 0.0088\n",
            "Epoch 292/500\n",
            "2/2 [==============================] - 0s 22ms/step - loss: 0.0090\n",
            "Epoch 293/500\n",
            "2/2 [==============================] - 0s 23ms/step - loss: 0.0099\n",
            "Epoch 294/500\n",
            "2/2 [==============================] - 0s 23ms/step - loss: 0.0100\n",
            "Epoch 295/500\n",
            "2/2 [==============================] - 0s 22ms/step - loss: 0.0092\n",
            "Epoch 296/500\n",
            "2/2 [==============================] - 0s 21ms/step - loss: 0.0114\n",
            "Epoch 297/500\n",
            "2/2 [==============================] - 0s 22ms/step - loss: 0.0105\n",
            "Epoch 298/500\n",
            "2/2 [==============================] - 0s 20ms/step - loss: 0.0101\n",
            "Epoch 299/500\n",
            "2/2 [==============================] - 0s 21ms/step - loss: 0.0098\n",
            "Epoch 300/500\n",
            "2/2 [==============================] - 0s 22ms/step - loss: 0.0082\n",
            "Epoch 301/500\n",
            "2/2 [==============================] - 0s 22ms/step - loss: 0.0085\n",
            "Epoch 302/500\n",
            "2/2 [==============================] - 0s 29ms/step - loss: 0.0103\n",
            "Epoch 303/500\n",
            "2/2 [==============================] - 0s 19ms/step - loss: 0.0084\n",
            "Epoch 304/500\n",
            "2/2 [==============================] - 0s 20ms/step - loss: 0.0075\n",
            "Epoch 305/500\n",
            "2/2 [==============================] - 0s 21ms/step - loss: 0.0100\n",
            "Epoch 306/500\n",
            "2/2 [==============================] - 0s 21ms/step - loss: 0.0061\n",
            "Epoch 307/500\n",
            "2/2 [==============================] - 0s 26ms/step - loss: 0.0079\n",
            "Epoch 308/500\n",
            "2/2 [==============================] - 0s 19ms/step - loss: 0.0096\n",
            "Epoch 309/500\n",
            "2/2 [==============================] - 0s 19ms/step - loss: 0.0111\n",
            "Epoch 310/500\n",
            "2/2 [==============================] - 0s 21ms/step - loss: 0.0103\n",
            "Epoch 311/500\n",
            "2/2 [==============================] - 0s 24ms/step - loss: 0.0101\n",
            "Epoch 312/500\n",
            "2/2 [==============================] - 0s 22ms/step - loss: 0.0082\n",
            "Epoch 313/500\n",
            "2/2 [==============================] - 0s 19ms/step - loss: 0.0095\n",
            "Epoch 314/500\n",
            "2/2 [==============================] - 0s 22ms/step - loss: 0.0086\n",
            "Epoch 315/500\n",
            "2/2 [==============================] - 0s 27ms/step - loss: 0.0089\n",
            "Epoch 316/500\n",
            "2/2 [==============================] - 0s 19ms/step - loss: 0.0103\n",
            "Epoch 317/500\n",
            "2/2 [==============================] - 0s 20ms/step - loss: 0.0096\n",
            "Epoch 318/500\n",
            "2/2 [==============================] - 0s 24ms/step - loss: 0.0085\n",
            "Epoch 319/500\n",
            "2/2 [==============================] - 0s 24ms/step - loss: 0.0097\n",
            "Epoch 320/500\n",
            "2/2 [==============================] - 0s 22ms/step - loss: 0.0102\n",
            "Epoch 321/500\n",
            "2/2 [==============================] - 0s 25ms/step - loss: 0.0081\n",
            "Epoch 322/500\n",
            "2/2 [==============================] - 0s 37ms/step - loss: 0.0091\n",
            "Epoch 323/500\n",
            "2/2 [==============================] - 0s 22ms/step - loss: 0.0089\n",
            "Epoch 324/500\n",
            "2/2 [==============================] - 0s 30ms/step - loss: 0.0103\n",
            "Epoch 325/500\n",
            "2/2 [==============================] - 0s 23ms/step - loss: 0.0083\n",
            "Epoch 326/500\n",
            "2/2 [==============================] - 0s 21ms/step - loss: 0.0076\n",
            "Epoch 327/500\n",
            "2/2 [==============================] - 0s 19ms/step - loss: 0.0082\n",
            "Epoch 328/500\n",
            "2/2 [==============================] - 0s 19ms/step - loss: 0.0104\n",
            "Epoch 329/500\n",
            "2/2 [==============================] - 0s 21ms/step - loss: 0.0080\n",
            "Epoch 330/500\n",
            "2/2 [==============================] - 0s 22ms/step - loss: 0.0096\n",
            "Epoch 331/500\n",
            "2/2 [==============================] - 0s 23ms/step - loss: 0.0077\n",
            "Epoch 332/500\n",
            "2/2 [==============================] - 0s 19ms/step - loss: 0.0063\n",
            "Epoch 333/500\n",
            "2/2 [==============================] - 0s 19ms/step - loss: 0.0092\n",
            "Epoch 334/500\n",
            "2/2 [==============================] - 0s 21ms/step - loss: 0.0088\n",
            "Epoch 335/500\n",
            "2/2 [==============================] - 0s 18ms/step - loss: 0.0085\n",
            "Epoch 336/500\n",
            "2/2 [==============================] - 0s 24ms/step - loss: 0.0089\n",
            "Epoch 337/500\n",
            "2/2 [==============================] - 0s 19ms/step - loss: 0.0083\n",
            "Epoch 338/500\n",
            "2/2 [==============================] - 0s 24ms/step - loss: 0.0083\n",
            "Epoch 339/500\n",
            "2/2 [==============================] - 0s 19ms/step - loss: 0.0081\n",
            "Epoch 340/500\n",
            "2/2 [==============================] - 0s 25ms/step - loss: 0.0096\n",
            "Epoch 341/500\n",
            "2/2 [==============================] - 0s 21ms/step - loss: 0.0104\n",
            "Epoch 342/500\n",
            "2/2 [==============================] - 0s 21ms/step - loss: 0.0088\n",
            "Epoch 343/500\n",
            "2/2 [==============================] - 0s 20ms/step - loss: 0.0094\n",
            "Epoch 344/500\n",
            "2/2 [==============================] - 0s 22ms/step - loss: 0.0071\n",
            "Epoch 345/500\n",
            "2/2 [==============================] - 0s 20ms/step - loss: 0.0098\n",
            "Epoch 346/500\n",
            "2/2 [==============================] - 0s 20ms/step - loss: 0.0082\n",
            "Epoch 347/500\n",
            "2/2 [==============================] - 0s 21ms/step - loss: 0.0098\n",
            "Epoch 348/500\n",
            "2/2 [==============================] - 0s 19ms/step - loss: 0.0085\n",
            "Epoch 349/500\n",
            "2/2 [==============================] - 0s 22ms/step - loss: 0.0100\n",
            "Epoch 350/500\n",
            "2/2 [==============================] - 0s 21ms/step - loss: 0.0074\n",
            "Epoch 351/500\n",
            "2/2 [==============================] - 0s 29ms/step - loss: 0.0079\n",
            "Epoch 352/500\n",
            "2/2 [==============================] - 0s 21ms/step - loss: 0.0094\n",
            "Epoch 353/500\n",
            "2/2 [==============================] - 0s 26ms/step - loss: 0.0082\n",
            "Epoch 354/500\n",
            "2/2 [==============================] - 0s 22ms/step - loss: 0.0070\n",
            "Epoch 355/500\n",
            "2/2 [==============================] - 0s 20ms/step - loss: 0.0087\n",
            "Epoch 356/500\n",
            "2/2 [==============================] - 0s 21ms/step - loss: 0.0109\n",
            "Epoch 357/500\n",
            "2/2 [==============================] - 0s 28ms/step - loss: 0.0085\n",
            "Epoch 358/500\n",
            "2/2 [==============================] - 0s 19ms/step - loss: 0.0086\n",
            "Epoch 359/500\n",
            "2/2 [==============================] - 0s 19ms/step - loss: 0.0123\n",
            "Epoch 360/500\n",
            "2/2 [==============================] - 0s 21ms/step - loss: 0.0076\n",
            "Epoch 361/500\n",
            "2/2 [==============================] - 0s 27ms/step - loss: 0.0086\n",
            "Epoch 362/500\n",
            "2/2 [==============================] - 0s 20ms/step - loss: 0.0090\n",
            "Epoch 363/500\n",
            "2/2 [==============================] - 0s 22ms/step - loss: 0.0093\n",
            "Epoch 364/500\n",
            "2/2 [==============================] - 0s 21ms/step - loss: 0.0096\n",
            "Epoch 365/500\n",
            "2/2 [==============================] - 0s 20ms/step - loss: 0.0101\n",
            "Epoch 366/500\n",
            "2/2 [==============================] - 0s 22ms/step - loss: 0.0098\n",
            "Epoch 367/500\n",
            "2/2 [==============================] - 0s 22ms/step - loss: 0.0089\n",
            "Epoch 368/500\n",
            "2/2 [==============================] - 0s 26ms/step - loss: 0.0072\n",
            "Epoch 369/500\n",
            "2/2 [==============================] - 0s 25ms/step - loss: 0.0096\n",
            "Epoch 370/500\n",
            "2/2 [==============================] - 0s 22ms/step - loss: 0.0099\n",
            "Epoch 371/500\n",
            "2/2 [==============================] - 0s 21ms/step - loss: 0.0081\n",
            "Epoch 372/500\n",
            "2/2 [==============================] - 0s 27ms/step - loss: 0.0107\n",
            "Epoch 373/500\n",
            "2/2 [==============================] - 0s 20ms/step - loss: 0.0099\n",
            "Epoch 374/500\n",
            "2/2 [==============================] - 0s 23ms/step - loss: 0.0088\n",
            "Epoch 375/500\n",
            "2/2 [==============================] - 0s 20ms/step - loss: 0.0084\n",
            "Epoch 376/500\n",
            "2/2 [==============================] - 0s 22ms/step - loss: 0.0079\n",
            "Epoch 377/500\n",
            "2/2 [==============================] - 0s 22ms/step - loss: 0.0103\n",
            "Epoch 378/500\n",
            "2/2 [==============================] - 0s 22ms/step - loss: 0.0097\n",
            "Epoch 379/500\n",
            "2/2 [==============================] - 0s 22ms/step - loss: 0.0105\n",
            "Epoch 380/500\n",
            "2/2 [==============================] - 0s 23ms/step - loss: 0.0109\n",
            "Epoch 381/500\n",
            "2/2 [==============================] - 0s 24ms/step - loss: 0.0089\n",
            "Epoch 382/500\n",
            "2/2 [==============================] - 0s 20ms/step - loss: 0.0082\n",
            "Epoch 383/500\n",
            "2/2 [==============================] - 0s 21ms/step - loss: 0.0112\n",
            "Epoch 384/500\n",
            "2/2 [==============================] - 0s 25ms/step - loss: 0.0084\n",
            "Epoch 385/500\n",
            "2/2 [==============================] - 0s 22ms/step - loss: 0.0116\n",
            "Epoch 386/500\n",
            "2/2 [==============================] - 0s 22ms/step - loss: 0.0096\n",
            "Epoch 387/500\n",
            "2/2 [==============================] - 0s 26ms/step - loss: 0.0077\n",
            "Epoch 388/500\n",
            "2/2 [==============================] - 0s 20ms/step - loss: 0.0092\n",
            "Epoch 389/500\n",
            "2/2 [==============================] - 0s 20ms/step - loss: 0.0096\n",
            "Epoch 390/500\n",
            "2/2 [==============================] - 0s 23ms/step - loss: 0.0085\n",
            "Epoch 391/500\n",
            "2/2 [==============================] - 0s 20ms/step - loss: 0.0077\n",
            "Epoch 392/500\n",
            "2/2 [==============================] - 0s 19ms/step - loss: 0.0084\n",
            "Epoch 393/500\n",
            "2/2 [==============================] - 0s 19ms/step - loss: 0.0096\n",
            "Epoch 394/500\n",
            "2/2 [==============================] - 0s 21ms/step - loss: 0.0102\n",
            "Epoch 395/500\n",
            "2/2 [==============================] - 0s 20ms/step - loss: 0.0090\n",
            "Epoch 396/500\n",
            "2/2 [==============================] - 0s 20ms/step - loss: 0.0101\n",
            "Epoch 397/500\n",
            "2/2 [==============================] - 0s 22ms/step - loss: 0.0097\n",
            "Epoch 398/500\n",
            "2/2 [==============================] - 0s 19ms/step - loss: 0.0079\n",
            "Epoch 399/500\n",
            "2/2 [==============================] - 0s 21ms/step - loss: 0.0113\n",
            "Epoch 400/500\n",
            "2/2 [==============================] - 0s 30ms/step - loss: 0.0074\n",
            "Epoch 401/500\n",
            "2/2 [==============================] - 0s 20ms/step - loss: 0.0098\n",
            "Epoch 402/500\n",
            "2/2 [==============================] - 0s 26ms/step - loss: 0.0079\n",
            "Epoch 403/500\n",
            "2/2 [==============================] - 0s 26ms/step - loss: 0.0074\n",
            "Epoch 404/500\n",
            "2/2 [==============================] - 0s 22ms/step - loss: 0.0087\n",
            "Epoch 405/500\n",
            "2/2 [==============================] - 0s 21ms/step - loss: 0.0112\n",
            "Epoch 406/500\n",
            "2/2 [==============================] - 0s 20ms/step - loss: 0.0087\n",
            "Epoch 407/500\n",
            "2/2 [==============================] - 0s 23ms/step - loss: 0.0088\n",
            "Epoch 408/500\n",
            "2/2 [==============================] - 0s 23ms/step - loss: 0.0084\n",
            "Epoch 409/500\n",
            "2/2 [==============================] - 0s 19ms/step - loss: 0.0074\n",
            "Epoch 410/500\n",
            "2/2 [==============================] - 0s 27ms/step - loss: 0.0098\n",
            "Epoch 411/500\n",
            "2/2 [==============================] - 0s 22ms/step - loss: 0.0078\n",
            "Epoch 412/500\n",
            "2/2 [==============================] - 0s 22ms/step - loss: 0.0087\n",
            "Epoch 413/500\n",
            "2/2 [==============================] - 0s 23ms/step - loss: 0.0077\n",
            "Epoch 414/500\n",
            "2/2 [==============================] - 0s 23ms/step - loss: 0.0088\n",
            "Epoch 415/500\n",
            "2/2 [==============================] - 0s 19ms/step - loss: 0.0064\n",
            "Epoch 416/500\n",
            "2/2 [==============================] - 0s 21ms/step - loss: 0.0069\n",
            "Epoch 417/500\n",
            "2/2 [==============================] - 0s 29ms/step - loss: 0.0074\n",
            "Epoch 418/500\n",
            "2/2 [==============================] - 0s 20ms/step - loss: 0.0081\n",
            "Epoch 419/500\n",
            "2/2 [==============================] - 0s 20ms/step - loss: 0.0088\n",
            "Epoch 420/500\n",
            "2/2 [==============================] - 0s 23ms/step - loss: 0.0098\n",
            "Epoch 421/500\n",
            "2/2 [==============================] - 0s 24ms/step - loss: 0.0073\n",
            "Epoch 422/500\n",
            "2/2 [==============================] - 0s 21ms/step - loss: 0.0088\n",
            "Epoch 423/500\n",
            "2/2 [==============================] - 0s 22ms/step - loss: 0.0083\n",
            "Epoch 424/500\n",
            "2/2 [==============================] - 0s 22ms/step - loss: 0.0074\n",
            "Epoch 425/500\n",
            "2/2 [==============================] - 0s 19ms/step - loss: 0.0077\n",
            "Epoch 426/500\n",
            "2/2 [==============================] - 0s 23ms/step - loss: 0.0091\n",
            "Epoch 427/500\n",
            "2/2 [==============================] - 0s 20ms/step - loss: 0.0089\n",
            "Epoch 428/500\n",
            "2/2 [==============================] - 0s 20ms/step - loss: 0.0081\n",
            "Epoch 429/500\n",
            "2/2 [==============================] - 0s 22ms/step - loss: 0.0093\n",
            "Epoch 430/500\n",
            "2/2 [==============================] - 0s 21ms/step - loss: 0.0070\n",
            "Epoch 431/500\n",
            "2/2 [==============================] - 0s 23ms/step - loss: 0.0095\n",
            "Epoch 432/500\n",
            "2/2 [==============================] - 0s 23ms/step - loss: 0.0065\n",
            "Epoch 433/500\n",
            "2/2 [==============================] - 0s 24ms/step - loss: 0.0075\n",
            "Epoch 434/500\n",
            "2/2 [==============================] - 0s 20ms/step - loss: 0.0084\n",
            "Epoch 435/500\n",
            "2/2 [==============================] - 0s 21ms/step - loss: 0.0074\n",
            "Epoch 436/500\n",
            "2/2 [==============================] - 0s 21ms/step - loss: 0.0077\n",
            "Epoch 437/500\n",
            "2/2 [==============================] - 0s 19ms/step - loss: 0.0063\n",
            "Epoch 438/500\n",
            "2/2 [==============================] - 0s 26ms/step - loss: 0.0067\n",
            "Epoch 439/500\n",
            "2/2 [==============================] - 0s 28ms/step - loss: 0.0067\n",
            "Epoch 440/500\n",
            "2/2 [==============================] - 0s 25ms/step - loss: 0.0072\n",
            "Epoch 441/500\n",
            "2/2 [==============================] - 0s 22ms/step - loss: 0.0084\n",
            "Epoch 442/500\n",
            "2/2 [==============================] - 0s 22ms/step - loss: 0.0098\n",
            "Epoch 443/500\n",
            "2/2 [==============================] - 0s 23ms/step - loss: 0.0077\n",
            "Epoch 444/500\n",
            "2/2 [==============================] - 0s 25ms/step - loss: 0.0067\n",
            "Epoch 445/500\n",
            "2/2 [==============================] - 0s 19ms/step - loss: 0.0071\n",
            "Epoch 446/500\n",
            "2/2 [==============================] - 0s 22ms/step - loss: 0.0067\n",
            "Epoch 447/500\n",
            "2/2 [==============================] - 0s 20ms/step - loss: 0.0078\n",
            "Epoch 448/500\n",
            "2/2 [==============================] - 0s 20ms/step - loss: 0.0075\n",
            "Epoch 449/500\n",
            "2/2 [==============================] - 0s 28ms/step - loss: 0.0101\n",
            "Epoch 450/500\n",
            "2/2 [==============================] - 0s 22ms/step - loss: 0.0059\n",
            "Epoch 451/500\n",
            "2/2 [==============================] - 0s 20ms/step - loss: 0.0094\n",
            "Epoch 452/500\n",
            "2/2 [==============================] - 0s 26ms/step - loss: 0.0068\n",
            "Epoch 453/500\n",
            "2/2 [==============================] - 0s 20ms/step - loss: 0.0074\n",
            "Epoch 454/500\n",
            "2/2 [==============================] - 0s 22ms/step - loss: 0.0068\n",
            "Epoch 455/500\n",
            "2/2 [==============================] - 0s 23ms/step - loss: 0.0084\n",
            "Epoch 456/500\n",
            "2/2 [==============================] - 0s 25ms/step - loss: 0.0065\n",
            "Epoch 457/500\n",
            "2/2 [==============================] - 0s 23ms/step - loss: 0.0078\n",
            "Epoch 458/500\n",
            "2/2 [==============================] - 0s 22ms/step - loss: 0.0078\n",
            "Epoch 459/500\n",
            "2/2 [==============================] - 0s 27ms/step - loss: 0.0091\n",
            "Epoch 460/500\n",
            "2/2 [==============================] - 0s 20ms/step - loss: 0.0081\n",
            "Epoch 461/500\n",
            "2/2 [==============================] - 0s 22ms/step - loss: 0.0079\n",
            "Epoch 462/500\n",
            "2/2 [==============================] - 0s 23ms/step - loss: 0.0084\n",
            "Epoch 463/500\n",
            "2/2 [==============================] - 0s 20ms/step - loss: 0.0080\n",
            "Epoch 464/500\n",
            "2/2 [==============================] - 0s 23ms/step - loss: 0.0073\n",
            "Epoch 465/500\n",
            "2/2 [==============================] - 0s 21ms/step - loss: 0.0073\n",
            "Epoch 466/500\n",
            "2/2 [==============================] - 0s 20ms/step - loss: 0.0084\n",
            "Epoch 467/500\n",
            "2/2 [==============================] - 0s 22ms/step - loss: 0.0092\n",
            "Epoch 468/500\n",
            "2/2 [==============================] - 0s 22ms/step - loss: 0.0078\n",
            "Epoch 469/500\n",
            "2/2 [==============================] - 0s 20ms/step - loss: 0.0098\n",
            "Epoch 470/500\n",
            "2/2 [==============================] - 0s 24ms/step - loss: 0.0066\n",
            "Epoch 471/500\n",
            "2/2 [==============================] - 0s 20ms/step - loss: 0.0084\n",
            "Epoch 472/500\n",
            "2/2 [==============================] - 0s 24ms/step - loss: 0.0084\n",
            "Epoch 473/500\n",
            "2/2 [==============================] - 0s 21ms/step - loss: 0.0083\n",
            "Epoch 474/500\n",
            "2/2 [==============================] - 0s 22ms/step - loss: 0.0084\n",
            "Epoch 475/500\n",
            "2/2 [==============================] - 0s 21ms/step - loss: 0.0095\n",
            "Epoch 476/500\n",
            "2/2 [==============================] - 0s 20ms/step - loss: 0.0075\n",
            "Epoch 477/500\n",
            "2/2 [==============================] - 0s 23ms/step - loss: 0.0099\n",
            "Epoch 478/500\n",
            "2/2 [==============================] - 0s 28ms/step - loss: 0.0060\n",
            "Epoch 479/500\n",
            "2/2 [==============================] - 0s 20ms/step - loss: 0.0101\n",
            "Epoch 480/500\n",
            "2/2 [==============================] - 0s 24ms/step - loss: 0.0096\n",
            "Epoch 481/500\n",
            "2/2 [==============================] - 0s 21ms/step - loss: 0.0081\n",
            "Epoch 482/500\n",
            "2/2 [==============================] - 0s 24ms/step - loss: 0.0054\n",
            "Epoch 483/500\n",
            "2/2 [==============================] - 0s 23ms/step - loss: 0.0080\n",
            "Epoch 484/500\n",
            "2/2 [==============================] - 0s 26ms/step - loss: 0.0103\n",
            "Epoch 485/500\n",
            "2/2 [==============================] - 0s 21ms/step - loss: 0.0082\n",
            "Epoch 486/500\n",
            "2/2 [==============================] - 0s 26ms/step - loss: 0.0074\n",
            "Epoch 487/500\n",
            "2/2 [==============================] - 0s 22ms/step - loss: 0.0075\n",
            "Epoch 488/500\n",
            "2/2 [==============================] - 0s 20ms/step - loss: 0.0096\n",
            "Epoch 489/500\n",
            "2/2 [==============================] - 0s 20ms/step - loss: 0.0061\n",
            "Epoch 490/500\n",
            "2/2 [==============================] - 0s 21ms/step - loss: 0.0056\n",
            "Epoch 491/500\n",
            "2/2 [==============================] - 0s 20ms/step - loss: 0.0099\n",
            "Epoch 492/500\n",
            "2/2 [==============================] - 0s 22ms/step - loss: 0.0062\n",
            "Epoch 493/500\n",
            "2/2 [==============================] - 0s 23ms/step - loss: 0.0088\n",
            "Epoch 494/500\n",
            "2/2 [==============================] - 0s 22ms/step - loss: 0.0091\n",
            "Epoch 495/500\n",
            "2/2 [==============================] - 0s 21ms/step - loss: 0.0080\n",
            "Epoch 496/500\n",
            "2/2 [==============================] - 0s 21ms/step - loss: 0.0063\n",
            "Epoch 497/500\n",
            "2/2 [==============================] - 0s 20ms/step - loss: 0.0062\n",
            "Epoch 498/500\n",
            "2/2 [==============================] - 0s 21ms/step - loss: 0.0053\n",
            "Epoch 499/500\n",
            "2/2 [==============================] - 0s 23ms/step - loss: 0.0070\n",
            "Epoch 500/500\n",
            "2/2 [==============================] - 0s 21ms/step - loss: 0.0088\n"
          ],
          "name": "stdout"
        },
        {
          "output_type": "execute_result",
          "data": {
            "text/plain": [
              "<tensorflow.python.keras.callbacks.History at 0x7f76757248d0>"
            ]
          },
          "metadata": {
            "tags": []
          },
          "execution_count": 11
        }
      ]
    },
    {
      "cell_type": "markdown",
      "metadata": {
        "id": "gwpyImwA3yon"
      },
      "source": [
        "## Parte 3 - Fazer as previsões e analisar os resultados"
      ]
    },
    {
      "cell_type": "markdown",
      "metadata": {
        "id": "wkXRvDjT4V-B"
      },
      "source": [
        "### Base de teste"
      ]
    },
    {
      "cell_type": "code",
      "metadata": {
        "id": "Bn_n72dh30K-"
      },
      "source": [
        "dataset_test = pd.read_csv('test.csv')\n",
        "test_pul = dataset_test.iloc[:, 1:2].values"
      ],
      "execution_count": 12,
      "outputs": []
    },
    {
      "cell_type": "markdown",
      "metadata": {
        "id": "EOo84exH4bfs"
      },
      "source": [
        "### Construir a estrutura para teste"
      ]
    },
    {
      "cell_type": "code",
      "metadata": {
        "id": "ob_-mGA_B5px"
      },
      "source": [
        "dataset_total = pd.concat((dataset_train.iloc[:,1], dataset_test.iloc[:,1]), axis = 0)\n",
        "testLength = len(dataset_test)\n",
        "inputs = dataset_total[len(dataset_total) - testLength - window:].values\n",
        "inputs = inputs.reshape(inputs.shape[0],1)\n",
        "\n",
        "inputs = sc.transform(inputs)\n",
        "X_test = []\n",
        "for i in range(window, inputs.shape[0]): \n",
        "    X_test.append(inputs[i-window:i, 0])\n",
        "X_test = np.array(X_test)\n",
        "\n",
        "X_test = np.reshape(X_test, (X_test.shape[0], X_test.shape[1], 1))"
      ],
      "execution_count": 13,
      "outputs": []
    },
    {
      "cell_type": "markdown",
      "metadata": {
        "id": "rtkB4NA74e1B"
      },
      "source": [
        "### Fazer as previsões"
      ]
    },
    {
      "cell_type": "code",
      "metadata": {
        "id": "nKIq1h-E4g9Z"
      },
      "source": [
        "predicted = regressor.predict(X_test)\n",
        "predicted = sc.inverse_transform(predicted)"
      ],
      "execution_count": 14,
      "outputs": []
    },
    {
      "cell_type": "markdown",
      "metadata": {
        "id": "guvk7yXr4o0g"
      },
      "source": [
        "### Visualizar os resultados de treino e teste"
      ]
    },
    {
      "cell_type": "code",
      "metadata": {
        "id": "tstXl2oS4rIo",
        "colab": {
          "base_uri": "https://localhost:8080/",
          "height": 295
        },
        "outputId": "387de7b0-c7f5-4c84-c655-5447e7be62db"
      },
      "source": [
        "allTargetData = np.vstack((training_set, test_pul))\n",
        "training_predicted = regressor.predict(X_train)\n",
        "training_predicted = sc.inverse_transform(training_predicted)\n",
        "allForecastedData = np.vstack((training_set[0:window], training_predicted, predicted))\n",
        "plt.plot(allTargetData, color = 'red', label = 'Real')\n",
        "plt.plot(allForecastedData, color = 'blue', label = 'Previsto')\n",
        "plt.xlabel(\"Tempo\")\n",
        "plt.ylabel(\"Numero de Mortes\")\n",
        "plt.title(\"Doenças Pulmonares\")\n",
        "plt.legend()\n",
        "plt.savefig('predictions_training_test.svg')\n",
        "plt.show()"
      ],
      "execution_count": 15,
      "outputs": [
        {
          "output_type": "display_data",
          "data": {
            "image/png": "[encoded data removed]",
            "text/plain": [
              "<Figure size 432x288 with 1 Axes>"
            ]
          },
          "metadata": {
            "tags": [],
            "needs_background": "light"
          }
        }
      ]
    },
    {
      "cell_type": "markdown",
      "metadata": {
        "id": "ytEVhQht4we3"
      },
      "source": [
        "## Parte 4 - Métricas de avaliação"
      ]
    },
    {
      "cell_type": "code",
      "metadata": {
        "id": "rqOonVj64ydu",
        "colab": {
          "base_uri": "https://localhost:8080/"
        },
        "outputId": "5e244922-2dd9-43b8-87ba-31ea2fc15bf9"
      },
      "source": [
        "rmse = math.sqrt(mean_squared_error(test_pul, predicted))\n",
        "print('RMSE: ', rmse)"
      ],
      "execution_count": 16,
      "outputs": [
        {
          "output_type": "stream",
          "text": [
            "RMSE:  194.65751948392472\n"
          ],
          "name": "stdout"
        }
      ]
    },
    {
      "cell_type": "code",
      "metadata": {
        "id": "ODeley1K42WW",
        "colab": {
          "base_uri": "https://localhost:8080/"
        },
        "outputId": "913535d8-6017-404b-b05e-448ffe89b1f7"
      },
      "source": [
        "mse = mean_squared_error(test_pul, predicted)\n",
        "print('MSE: ',mse)"
      ],
      "execution_count": 17,
      "outputs": [
        {
          "output_type": "stream",
          "text": [
            "MSE:  37891.54989163453\n"
          ],
          "name": "stdout"
        }
      ]
    },
    {
      "cell_type": "code",
      "metadata": {
        "id": "L7_uU_8T44QA",
        "colab": {
          "base_uri": "https://localhost:8080/"
        },
        "outputId": "a6d8e395-6da9-4e9e-be41-9ec0a90fa2a9"
      },
      "source": [
        "mape = np.mean(np.abs((test_pul - predicted) / test_pul)) * 100\n",
        "print('MAPE: ',mape, '%')"
      ],
      "execution_count": 18,
      "outputs": [
        {
          "output_type": "stream",
          "text": [
            "MAPE:  7.848280972351739 %\n"
          ],
          "name": "stdout"
        }
      ]
    },
    {
      "cell_type": "code",
      "metadata": {
        "id": "mgmtdSOq7rG0",
        "colab": {
          "base_uri": "https://localhost:8080/"
        },
        "outputId": "8f8d5ed3-3f3c-4b12-f648-cd0052baea71"
      },
      "source": [
        "mae = mean_absolute_error(test_pul, predicted)\n",
        "print('MAE: ',mae)"
      ],
      "execution_count": 19,
      "outputs": [
        {
          "output_type": "stream",
          "text": [
            "MAE:  156.87832641601562\n"
          ],
          "name": "stdout"
        }
      ]
    }
  ]
}