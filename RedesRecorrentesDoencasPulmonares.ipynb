{
  "nbformat": 4,
  "nbformat_minor": 0,
  "metadata": {
    "colab": {
      "name": "RedesRecorrentesDoencasPulmonares.ipynb",
      "provenance": [],
      "collapsed_sections": [],
      "include_colab_link": true
    },
    "kernelspec": {
      "name": "python3",
      "display_name": "Python 3",
      "language": "python"
    },
    "accelerator": "TPU"
  },
  "cells": [
    {
      "cell_type": "markdown",
      "metadata": {
        "id": "view-in-github",
        "colab_type": "text"
      },
      "source": [
        "<a href=\"https://colab.research.google.com/github/rrfsantos/Projeto-Rede-Neurais-LSTM--Doencas-Pulmonares/blob/main/RedesRecorrentesDoencasPulmonares.ipynb\" target=\"_parent\"><img src=\"https://colab.research.google.com/assets/colab-badge.svg\" alt=\"Open In Colab\"/></a>"
      ]
    },
    {
      "cell_type": "markdown",
      "metadata": {
        "id": "bgc8yb4c2W0g"
      },
      "source": [
        "# Recurrent Neural Network - LSTM\n"
      ]
    },
    {
      "cell_type": "markdown",
      "metadata": {
        "id": "aew2N81e35Uc"
      },
      "source": [
        "## Parte 1 - Preprocessamento de Dados"
      ]
    },
    {
      "cell_type": "markdown",
      "metadata": {
        "id": "Z0vulSxH2hHu"
      },
      "source": [
        "### Importar as bibliotecas"
      ]
    },
    {
      "cell_type": "code",
      "metadata": {
        "id": "p2SjiqlE2O08",
        "colab": {
          "base_uri": "https://localhost:8080/"
        },
        "outputId": "bc402d41-076d-41ea-adf9-633568749d35"
      },
      "source": [
        "%tensorflow_version 1.x\n",
        "import numpy as np\n",
        "import matplotlib.pyplot as plt\n",
        "import pandas as pd\n",
        "import os"
      ],
      "execution_count": 1,
      "outputs": [
        {
          "output_type": "stream",
          "text": [
            "TensorFlow 1.x selected.\n"
          ],
          "name": "stdout"
        }
      ]
    },
    {
      "cell_type": "markdown",
      "metadata": {
        "id": "36Q16Udt2l3W"
      },
      "source": [
        "### Importar a base de dados"
      ]
    },
    {
      "cell_type": "code",
      "metadata": {
        "id": "1ivhnWxD2eEG"
      },
      "source": [
        "dataset_train = pd.read_csv('/content/train.csv')\n",
        "training_set = dataset_train.iloc[:, 1:2].values #só coluna da série em si"
      ],
      "execution_count": 2,
      "outputs": []
    },
    {
      "cell_type": "markdown",
      "metadata": {
        "id": "kd39T1zK2ql1"
      },
      "source": [
        "### gráfico da série temporal"
      ]
    },
    {
      "cell_type": "code",
      "metadata": {
        "id": "vMsAFuya2rhr",
        "colab": {
          "base_uri": "https://localhost:8080/",
          "height": 295
        },
        "outputId": "ae68644c-f8b7-4e8b-d415-ebf9b1393cc7"
      },
      "source": [
        "plt.plot(training_set)\n",
        "plt.xlabel(\"Tempo\")\n",
        "plt.ylabel(\"Mortes\")\n",
        "plt.title(\"Doenças pulmonares\")\n",
        "plt.show()"
      ],
      "execution_count": 3,
      "outputs": [
        {
          "output_type": "display_data",
          "data": {
            "image/png": "[encoded data removed]",
            "text/plain": [
              "<Figure size 432x288 with 1 Axes>"
            ]
          },
          "metadata": {
            "tags": [],
            "needs_background": "light"
          }
        }
      ]
    },
    {
      "cell_type": "markdown",
      "metadata": {
        "id": "7p1F7HdB2uJU"
      },
      "source": [
        "### Normalização para input no modelo"
      ]
    },
    {
      "cell_type": "code",
      "metadata": {
        "id": "foeHRZr-2u-L"
      },
      "source": [
        "from sklearn.preprocessing import MinMaxScaler\n",
        "sc = MinMaxScaler(feature_range = (0, 1))\n",
        "training_set_scaled = sc.fit_transform(training_set)"
      ],
      "execution_count": 4,
      "outputs": []
    },
    {
      "cell_type": "markdown",
      "metadata": {
        "id": "uQP8Q7MI21Y9"
      },
      "source": [
        "### Criar a estrutura de dados com janela 10 e output 1"
      ]
    },
    {
      "cell_type": "code",
      "metadata": {
        "id": "C6Ge9ql922cb"
      },
      "source": [
        "window = 10\n",
        "trainSize = len(training_set_scaled)\n",
        "X_train = []\n",
        "y_train = []\n",
        "for i in range(window, trainSize):\n",
        "    X_train.append(training_set_scaled[i-window:i, 0])\n",
        "    y_train.append(training_set_scaled[i, 0])\n",
        "X_train, y_train = np.array(X_train), np.array(y_train)"
      ],
      "execution_count": 5,
      "outputs": []
    },
    {
      "cell_type": "markdown",
      "metadata": {
        "id": "LPBC2LoG24dU"
      },
      "source": [
        "### Reshaping"
      ]
    },
    {
      "cell_type": "code",
      "metadata": {
        "id": "oGwgQUDbdmnS",
        "colab": {
          "base_uri": "https://localhost:8080/"
        },
        "outputId": "21958ca3-9400-45ed-8819-5242a1ea67e9"
      },
      "source": [
        "X_train.shape"
      ],
      "execution_count": 6,
      "outputs": [
        {
          "output_type": "execute_result",
          "data": {
            "text/plain": [
              "(50, 10)"
            ]
          },
          "metadata": {
            "tags": []
          },
          "execution_count": 6
        }
      ]
    },
    {
      "cell_type": "code",
      "metadata": {
        "id": "b9ZfLlGH25fr"
      },
      "source": [
        "X_train = np.reshape(X_train, (X_train.shape[0], X_train.shape[1], 1))"
      ],
      "execution_count": 7,
      "outputs": []
    },
    {
      "cell_type": "code",
      "metadata": {
        "id": "RxU0axM9diHO",
        "colab": {
          "base_uri": "https://localhost:8080/"
        },
        "outputId": "f08e8fa1-8265-47b6-d825-f7746a6945e3"
      },
      "source": [
        "X_train.shape"
      ],
      "execution_count": 8,
      "outputs": [
        {
          "output_type": "execute_result",
          "data": {
            "text/plain": [
              "(50, 10, 1)"
            ]
          },
          "metadata": {
            "tags": []
          },
          "execution_count": 8
        }
      ]
    },
    {
      "cell_type": "markdown",
      "metadata": {
        "id": "fZhjp7Tf282b"
      },
      "source": [
        "## Parte 2 - Construção da RNN"
      ]
    },
    {
      "cell_type": "markdown",
      "metadata": {
        "id": "RDkAxmMl3EXr"
      },
      "source": [
        "### Bibliotecas necessárias"
      ]
    },
    {
      "cell_type": "code",
      "metadata": {
        "id": "Ifhh9yUo3DpT",
        "colab": {
          "base_uri": "https://localhost:8080/"
        },
        "outputId": "4195d74f-8c9f-494b-e138-ed68a2be383d"
      },
      "source": [
        "from keras.models import Sequential\n",
        "from keras.layers import Dense\n",
        "from keras.layers import LSTM\n",
        "from keras.layers import Dropout\n",
        "from sklearn.metrics import mean_absolute_error\n",
        "from keras.callbacks import EarlyStopping\n",
        "from keras.optimizers import Adam"
      ],
      "execution_count": 9,
      "outputs": [
        {
          "output_type": "stream",
          "text": [
            "Using TensorFlow backend.\n"
          ],
          "name": "stderr"
        }
      ]
    },
    {
      "cell_type": "markdown",
      "metadata": {
        "id": "kordpD0_3H7b"
      },
      "source": [
        "### Construção da Rede completa"
      ]
    },
    {
      "cell_type": "code",
      "metadata": {
        "id": "4vPoHslKIyOT"
      },
      "source": [
        "num_epoch = 500\r\n",
        "learning_rate = 0.01\r\n",
        "batch_size = 32"
      ],
      "execution_count": 10,
      "outputs": []
    },
    {
      "cell_type": "code",
      "metadata": {
        "colab": {
          "base_uri": "https://localhost:8080/"
        },
        "id": "oRqDxSKhHiVj",
        "outputId": "b4cb35be-0e7f-4942-9c93-bd46e14466b5"
      },
      "source": [
        "callback = [EarlyStopping(monitor=\"loss\", min_delta = 0.0001, patience = 50, mode = 'min', restore_best_weights=True)]\r\n",
        "adam = Adam(lr=learning_rate)"
      ],
      "execution_count": 11,
      "outputs": [
        {
          "output_type": "stream",
          "text": [
            "WARNING:tensorflow:From /tensorflow-1.15.2/python3.7/tensorflow_core/python/ops/resource_variable_ops.py:1630: calling BaseResourceVariable.__init__ (from tensorflow.python.ops.resource_variable_ops) with constraint is deprecated and will be removed in a future version.\n",
            "Instructions for updating:\n",
            "If using Keras pass *_constraint arguments to layers.\n"
          ],
          "name": "stdout"
        }
      ]
    },
    {
      "cell_type": "code",
      "metadata": {
        "id": "EskB17uo3Iso",
        "colab": {
          "base_uri": "https://localhost:8080/"
        },
        "outputId": "02fed1cd-1a3e-4452-b2cc-6e192a4b7fce"
      },
      "source": [
        "# Inicializar a RNN\n",
        "regressor = Sequential()\n",
        "\n",
        "# Adicionar a primeira camada LSTM e Dropout \n",
        "regressor.add(LSTM(units = 48, return_sequences = True, input_shape = (X_train.shape[1], 1)))\n",
        "regressor.add(Dropout(0.2))\n",
        " \n",
        "# Adicionar a segunda camada LSTM e Dropout\n",
        "regressor.add(LSTM(units = 80, return_sequences = True))\n",
        "regressor.add(Dropout(0.2))\n",
        " \n",
        "# Adicionar a terceira camada LSTM e Dropout\n",
        "regressor.add(LSTM(units = 50))\n",
        "regressor.add(Dropout(0.2))\n",
        "\n",
        "# camada de saída\n",
        "regressor.add(Dense(units = 1))\n",
        " \n",
        "# Compilar a rede\n",
        "regressor.compile(optimizer = adam, loss = 'mean_squared_error', metrics = ['mean_absolute_error'])\n",
        "\n",
        "# Visualizar a rede\n",
        "regressor.summary()"
      ],
      "execution_count": 12,
      "outputs": [
        {
          "output_type": "stream",
          "text": [
            "Model: \"sequential_1\"\n",
            "_________________________________________________________________\n",
            "Layer (type)                 Output Shape              Param #   \n",
            "=================================================================\n",
            "lstm_1 (LSTM)                (None, 10, 48)            9600      \n",
            "_________________________________________________________________\n",
            "dropout_1 (Dropout)          (None, 10, 48)            0         \n",
            "_________________________________________________________________\n",
            "lstm_2 (LSTM)                (None, 10, 80)            41280     \n",
            "_________________________________________________________________\n",
            "dropout_2 (Dropout)          (None, 10, 80)            0         \n",
            "_________________________________________________________________\n",
            "lstm_3 (LSTM)                (None, 50)                26200     \n",
            "_________________________________________________________________\n",
            "dropout_3 (Dropout)          (None, 50)                0         \n",
            "_________________________________________________________________\n",
            "dense_1 (Dense)              (None, 1)                 51        \n",
            "=================================================================\n",
            "Total params: 77,131\n",
            "Trainable params: 77,131\n",
            "Non-trainable params: 0\n",
            "_________________________________________________________________\n"
          ],
          "name": "stdout"
        }
      ]
    },
    {
      "cell_type": "markdown",
      "metadata": {
        "id": "5j1w28g83iSR"
      },
      "source": [
        "### Treinamento"
      ]
    },
    {
      "cell_type": "code",
      "metadata": {
        "id": "xWKAuKyp3jXv",
        "colab": {
          "base_uri": "https://localhost:8080/"
        },
        "outputId": "0ae1c3d1-0412-445c-cd3b-9f0759c14bc9"
      },
      "source": [
        "regressor.fit(X_train, y_train, epochs = num_epoch, batch_size = batch_size, callbacks = callback)"
      ],
      "execution_count": 13,
      "outputs": [
        {
          "output_type": "stream",
          "text": [
            "WARNING:tensorflow:From /tensorflow-1.15.2/python3.7/keras/backend/tensorflow_backend.py:422: The name tf.global_variables is deprecated. Please use tf.compat.v1.global_variables instead.\n",
            "\n",
            "Epoch 1/500\n",
            "50/50 [==============================] - 1s 25ms/step - loss: 0.1124 - mean_absolute_error: 0.2675\n",
            "Epoch 2/500\n",
            "50/50 [==============================] - 0s 917us/step - loss: 0.3985 - mean_absolute_error: 0.5189\n",
            "Epoch 3/500\n",
            "50/50 [==============================] - 0s 1ms/step - loss: 0.1150 - mean_absolute_error: 0.2496\n",
            "Epoch 4/500\n",
            "50/50 [==============================] - 0s 1ms/step - loss: 0.1049 - mean_absolute_error: 0.2319\n",
            "Epoch 5/500\n",
            "50/50 [==============================] - 0s 925us/step - loss: 0.0774 - mean_absolute_error: 0.2203\n",
            "Epoch 6/500\n",
            "50/50 [==============================] - 0s 1ms/step - loss: 0.0656 - mean_absolute_error: 0.2271\n",
            "Epoch 7/500\n",
            "50/50 [==============================] - 0s 975us/step - loss: 0.0696 - mean_absolute_error: 0.2295\n",
            "Epoch 8/500\n",
            "50/50 [==============================] - 0s 999us/step - loss: 0.0637 - mean_absolute_error: 0.2163\n",
            "Epoch 9/500\n",
            "50/50 [==============================] - 0s 884us/step - loss: 0.0644 - mean_absolute_error: 0.2089\n",
            "Epoch 10/500\n",
            "50/50 [==============================] - 0s 1ms/step - loss: 0.0623 - mean_absolute_error: 0.2030\n",
            "Epoch 11/500\n",
            "50/50 [==============================] - 0s 894us/step - loss: 0.0546 - mean_absolute_error: 0.1956\n",
            "Epoch 12/500\n",
            "50/50 [==============================] - 0s 1ms/step - loss: 0.0628 - mean_absolute_error: 0.2230\n",
            "Epoch 13/500\n",
            "50/50 [==============================] - 0s 1ms/step - loss: 0.0580 - mean_absolute_error: 0.2121\n",
            "Epoch 14/500\n",
            "50/50 [==============================] - 0s 961us/step - loss: 0.0563 - mean_absolute_error: 0.2039\n",
            "Epoch 15/500\n",
            "50/50 [==============================] - 0s 905us/step - loss: 0.0569 - mean_absolute_error: 0.1969\n",
            "Epoch 16/500\n",
            "50/50 [==============================] - 0s 970us/step - loss: 0.0563 - mean_absolute_error: 0.1936\n",
            "Epoch 17/500\n",
            "50/50 [==============================] - 0s 1ms/step - loss: 0.0536 - mean_absolute_error: 0.1999\n",
            "Epoch 18/500\n",
            "50/50 [==============================] - 0s 1ms/step - loss: 0.0530 - mean_absolute_error: 0.1982\n",
            "Epoch 19/500\n",
            "50/50 [==============================] - 0s 1ms/step - loss: 0.0484 - mean_absolute_error: 0.1915\n",
            "Epoch 20/500\n",
            "50/50 [==============================] - 0s 1ms/step - loss: 0.0429 - mean_absolute_error: 0.1740\n",
            "Epoch 21/500\n",
            "50/50 [==============================] - 0s 982us/step - loss: 0.0441 - mean_absolute_error: 0.1643\n",
            "Epoch 22/500\n",
            "50/50 [==============================] - 0s 1ms/step - loss: 0.0383 - mean_absolute_error: 0.1584\n",
            "Epoch 23/500\n",
            "50/50 [==============================] - 0s 1ms/step - loss: 0.0291 - mean_absolute_error: 0.1429\n",
            "Epoch 24/500\n",
            "50/50 [==============================] - 0s 1ms/step - loss: 0.0232 - mean_absolute_error: 0.1264\n",
            "Epoch 25/500\n",
            "50/50 [==============================] - 0s 1ms/step - loss: 0.0257 - mean_absolute_error: 0.1334\n",
            "Epoch 26/500\n",
            "50/50 [==============================] - 0s 1ms/step - loss: 0.0247 - mean_absolute_error: 0.1267\n",
            "Epoch 27/500\n",
            "50/50 [==============================] - 0s 1ms/step - loss: 0.0250 - mean_absolute_error: 0.1191\n",
            "Epoch 28/500\n",
            "50/50 [==============================] - 0s 931us/step - loss: 0.0226 - mean_absolute_error: 0.1249\n",
            "Epoch 29/500\n",
            "50/50 [==============================] - 0s 1ms/step - loss: 0.0241 - mean_absolute_error: 0.1229\n",
            "Epoch 30/500\n",
            "50/50 [==============================] - 0s 988us/step - loss: 0.0206 - mean_absolute_error: 0.1152\n",
            "Epoch 31/500\n",
            "50/50 [==============================] - 0s 1ms/step - loss: 0.0262 - mean_absolute_error: 0.1292\n",
            "Epoch 32/500\n",
            "50/50 [==============================] - 0s 1ms/step - loss: 0.0228 - mean_absolute_error: 0.1174\n",
            "Epoch 33/500\n",
            "50/50 [==============================] - 0s 952us/step - loss: 0.0255 - mean_absolute_error: 0.1187\n",
            "Epoch 34/500\n",
            "50/50 [==============================] - 0s 936us/step - loss: 0.0208 - mean_absolute_error: 0.1105\n",
            "Epoch 35/500\n",
            "50/50 [==============================] - 0s 977us/step - loss: 0.0244 - mean_absolute_error: 0.1189\n",
            "Epoch 36/500\n",
            "50/50 [==============================] - 0s 1ms/step - loss: 0.0170 - mean_absolute_error: 0.1006\n",
            "Epoch 37/500\n",
            "50/50 [==============================] - 0s 1ms/step - loss: 0.0245 - mean_absolute_error: 0.1230\n",
            "Epoch 38/500\n",
            "50/50 [==============================] - 0s 969us/step - loss: 0.0178 - mean_absolute_error: 0.1016\n",
            "Epoch 39/500\n",
            "50/50 [==============================] - 0s 1ms/step - loss: 0.0215 - mean_absolute_error: 0.1072\n",
            "Epoch 40/500\n",
            "50/50 [==============================] - 0s 1ms/step - loss: 0.0207 - mean_absolute_error: 0.1113\n",
            "Epoch 41/500\n",
            "50/50 [==============================] - 0s 1ms/step - loss: 0.0170 - mean_absolute_error: 0.0969\n",
            "Epoch 42/500\n",
            "50/50 [==============================] - 0s 1ms/step - loss: 0.0199 - mean_absolute_error: 0.1063\n",
            "Epoch 43/500\n",
            "50/50 [==============================] - 0s 1ms/step - loss: 0.0141 - mean_absolute_error: 0.0882\n",
            "Epoch 44/500\n",
            "50/50 [==============================] - 0s 959us/step - loss: 0.0124 - mean_absolute_error: 0.0842\n",
            "Epoch 45/500\n",
            "50/50 [==============================] - 0s 983us/step - loss: 0.0178 - mean_absolute_error: 0.0912\n",
            "Epoch 46/500\n",
            "50/50 [==============================] - 0s 1ms/step - loss: 0.0119 - mean_absolute_error: 0.0802\n",
            "Epoch 47/500\n",
            "50/50 [==============================] - 0s 865us/step - loss: 0.0148 - mean_absolute_error: 0.0915\n",
            "Epoch 48/500\n",
            "50/50 [==============================] - 0s 962us/step - loss: 0.0189 - mean_absolute_error: 0.0987\n",
            "Epoch 49/500\n",
            "50/50 [==============================] - 0s 1ms/step - loss: 0.0124 - mean_absolute_error: 0.0863\n",
            "Epoch 50/500\n",
            "50/50 [==============================] - 0s 996us/step - loss: 0.0152 - mean_absolute_error: 0.0882\n",
            "Epoch 51/500\n",
            "50/50 [==============================] - 0s 893us/step - loss: 0.0134 - mean_absolute_error: 0.0815\n",
            "Epoch 52/500\n",
            "50/50 [==============================] - 0s 949us/step - loss: 0.0119 - mean_absolute_error: 0.0837\n",
            "Epoch 53/500\n",
            "50/50 [==============================] - 0s 997us/step - loss: 0.0121 - mean_absolute_error: 0.0851\n",
            "Epoch 54/500\n",
            "50/50 [==============================] - 0s 1ms/step - loss: 0.0153 - mean_absolute_error: 0.0931\n",
            "Epoch 55/500\n",
            "50/50 [==============================] - 0s 1ms/step - loss: 0.0113 - mean_absolute_error: 0.0827\n",
            "Epoch 56/500\n",
            "50/50 [==============================] - 0s 1ms/step - loss: 0.0133 - mean_absolute_error: 0.0790\n",
            "Epoch 57/500\n",
            "50/50 [==============================] - 0s 1ms/step - loss: 0.0126 - mean_absolute_error: 0.0807\n",
            "Epoch 58/500\n",
            "50/50 [==============================] - 0s 956us/step - loss: 0.0124 - mean_absolute_error: 0.0840\n",
            "Epoch 59/500\n",
            "50/50 [==============================] - 0s 1ms/step - loss: 0.0116 - mean_absolute_error: 0.0794\n",
            "Epoch 60/500\n",
            "50/50 [==============================] - 0s 934us/step - loss: 0.0121 - mean_absolute_error: 0.0782\n",
            "Epoch 61/500\n",
            "50/50 [==============================] - 0s 932us/step - loss: 0.0113 - mean_absolute_error: 0.0704\n",
            "Epoch 62/500\n",
            "50/50 [==============================] - 0s 1ms/step - loss: 0.0099 - mean_absolute_error: 0.0763\n",
            "Epoch 63/500\n",
            "50/50 [==============================] - 0s 938us/step - loss: 0.0102 - mean_absolute_error: 0.0731\n",
            "Epoch 64/500\n",
            "50/50 [==============================] - 0s 1ms/step - loss: 0.0114 - mean_absolute_error: 0.0773\n",
            "Epoch 65/500\n",
            "50/50 [==============================] - 0s 1ms/step - loss: 0.0118 - mean_absolute_error: 0.0771\n",
            "Epoch 66/500\n",
            "50/50 [==============================] - 0s 1ms/step - loss: 0.0147 - mean_absolute_error: 0.0809\n",
            "Epoch 67/500\n",
            "50/50 [==============================] - 0s 1ms/step - loss: 0.0131 - mean_absolute_error: 0.0831\n",
            "Epoch 68/500\n",
            "50/50 [==============================] - 0s 1ms/step - loss: 0.0130 - mean_absolute_error: 0.0796\n",
            "Epoch 69/500\n",
            "50/50 [==============================] - 0s 954us/step - loss: 0.0096 - mean_absolute_error: 0.0713\n",
            "Epoch 70/500\n",
            "50/50 [==============================] - 0s 1ms/step - loss: 0.0124 - mean_absolute_error: 0.0773\n",
            "Epoch 71/500\n",
            "50/50 [==============================] - 0s 1ms/step - loss: 0.0108 - mean_absolute_error: 0.0742\n",
            "Epoch 72/500\n",
            "50/50 [==============================] - 0s 952us/step - loss: 0.0122 - mean_absolute_error: 0.0835\n",
            "Epoch 73/500\n",
            "50/50 [==============================] - 0s 1ms/step - loss: 0.0095 - mean_absolute_error: 0.0741\n",
            "Epoch 74/500\n",
            "50/50 [==============================] - 0s 973us/step - loss: 0.0125 - mean_absolute_error: 0.0784\n",
            "Epoch 75/500\n",
            "50/50 [==============================] - 0s 1ms/step - loss: 0.0105 - mean_absolute_error: 0.0691\n",
            "Epoch 76/500\n",
            "50/50 [==============================] - 0s 944us/step - loss: 0.0128 - mean_absolute_error: 0.0782\n",
            "Epoch 77/500\n",
            "50/50 [==============================] - 0s 1ms/step - loss: 0.0117 - mean_absolute_error: 0.0741\n",
            "Epoch 78/500\n",
            "50/50 [==============================] - 0s 1ms/step - loss: 0.0136 - mean_absolute_error: 0.0820\n",
            "Epoch 79/500\n",
            "50/50 [==============================] - 0s 986us/step - loss: 0.0092 - mean_absolute_error: 0.0725\n",
            "Epoch 80/500\n",
            "50/50 [==============================] - 0s 1ms/step - loss: 0.0117 - mean_absolute_error: 0.0810\n",
            "Epoch 81/500\n",
            "50/50 [==============================] - 0s 982us/step - loss: 0.0116 - mean_absolute_error: 0.0785\n",
            "Epoch 82/500\n",
            "50/50 [==============================] - 0s 975us/step - loss: 0.0123 - mean_absolute_error: 0.0765\n",
            "Epoch 83/500\n",
            "50/50 [==============================] - 0s 1ms/step - loss: 0.0109 - mean_absolute_error: 0.0731\n",
            "Epoch 84/500\n",
            "50/50 [==============================] - 0s 977us/step - loss: 0.0126 - mean_absolute_error: 0.0819\n",
            "Epoch 85/500\n",
            "50/50 [==============================] - 0s 998us/step - loss: 0.0136 - mean_absolute_error: 0.0823\n",
            "Epoch 86/500\n",
            "50/50 [==============================] - 0s 983us/step - loss: 0.0108 - mean_absolute_error: 0.0717\n",
            "Epoch 87/500\n",
            "50/50 [==============================] - 0s 1ms/step - loss: 0.0084 - mean_absolute_error: 0.0661\n",
            "Epoch 88/500\n",
            "50/50 [==============================] - 0s 1ms/step - loss: 0.0090 - mean_absolute_error: 0.0666\n",
            "Epoch 89/500\n",
            "50/50 [==============================] - 0s 982us/step - loss: 0.0115 - mean_absolute_error: 0.0847\n",
            "Epoch 90/500\n",
            "50/50 [==============================] - 0s 1ms/step - loss: 0.0086 - mean_absolute_error: 0.0665\n",
            "Epoch 91/500\n",
            "50/50 [==============================] - 0s 973us/step - loss: 0.0106 - mean_absolute_error: 0.0739\n",
            "Epoch 92/500\n",
            "50/50 [==============================] - 0s 949us/step - loss: 0.0104 - mean_absolute_error: 0.0689\n",
            "Epoch 93/500\n",
            "50/50 [==============================] - 0s 1ms/step - loss: 0.0097 - mean_absolute_error: 0.0738\n",
            "Epoch 94/500\n",
            "50/50 [==============================] - 0s 930us/step - loss: 0.0109 - mean_absolute_error: 0.0779\n",
            "Epoch 95/500\n",
            "50/50 [==============================] - 0s 1ms/step - loss: 0.0131 - mean_absolute_error: 0.0849\n",
            "Epoch 96/500\n",
            "50/50 [==============================] - 0s 1ms/step - loss: 0.0135 - mean_absolute_error: 0.0773\n",
            "Epoch 97/500\n",
            "50/50 [==============================] - 0s 907us/step - loss: 0.0111 - mean_absolute_error: 0.0806\n",
            "Epoch 98/500\n",
            "50/50 [==============================] - 0s 967us/step - loss: 0.0135 - mean_absolute_error: 0.0821\n",
            "Epoch 99/500\n",
            "50/50 [==============================] - 0s 980us/step - loss: 0.0109 - mean_absolute_error: 0.0765\n",
            "Epoch 100/500\n",
            "50/50 [==============================] - 0s 1ms/step - loss: 0.0093 - mean_absolute_error: 0.0718\n",
            "Epoch 101/500\n",
            "50/50 [==============================] - 0s 995us/step - loss: 0.0098 - mean_absolute_error: 0.0718\n",
            "Epoch 102/500\n",
            "50/50 [==============================] - 0s 1ms/step - loss: 0.0121 - mean_absolute_error: 0.0837\n",
            "Epoch 103/500\n",
            "50/50 [==============================] - 0s 1ms/step - loss: 0.0108 - mean_absolute_error: 0.0793\n",
            "Epoch 104/500\n",
            "50/50 [==============================] - 0s 1ms/step - loss: 0.0123 - mean_absolute_error: 0.0804\n",
            "Epoch 105/500\n",
            "50/50 [==============================] - 0s 965us/step - loss: 0.0121 - mean_absolute_error: 0.0851\n",
            "Epoch 106/500\n",
            "50/50 [==============================] - 0s 856us/step - loss: 0.0116 - mean_absolute_error: 0.0815\n",
            "Epoch 107/500\n",
            "50/50 [==============================] - 0s 1ms/step - loss: 0.0111 - mean_absolute_error: 0.0799\n",
            "Epoch 108/500\n",
            "50/50 [==============================] - 0s 1ms/step - loss: 0.0111 - mean_absolute_error: 0.0742\n",
            "Epoch 109/500\n",
            "50/50 [==============================] - 0s 957us/step - loss: 0.0150 - mean_absolute_error: 0.0876\n",
            "Epoch 110/500\n",
            "50/50 [==============================] - 0s 1ms/step - loss: 0.0129 - mean_absolute_error: 0.0798\n",
            "Epoch 111/500\n",
            "50/50 [==============================] - 0s 1ms/step - loss: 0.0111 - mean_absolute_error: 0.0790\n",
            "Epoch 112/500\n",
            "50/50 [==============================] - 0s 1ms/step - loss: 0.0109 - mean_absolute_error: 0.0762\n",
            "Epoch 113/500\n",
            "50/50 [==============================] - 0s 1ms/step - loss: 0.0134 - mean_absolute_error: 0.0865\n",
            "Epoch 114/500\n",
            "50/50 [==============================] - 0s 961us/step - loss: 0.0090 - mean_absolute_error: 0.0663\n",
            "Epoch 115/500\n",
            "50/50 [==============================] - 0s 1ms/step - loss: 0.0097 - mean_absolute_error: 0.0726\n",
            "Epoch 116/500\n",
            "50/50 [==============================] - 0s 1ms/step - loss: 0.0139 - mean_absolute_error: 0.0802\n",
            "Epoch 117/500\n",
            "50/50 [==============================] - 0s 896us/step - loss: 0.0126 - mean_absolute_error: 0.0813\n",
            "Epoch 118/500\n",
            "50/50 [==============================] - 0s 1ms/step - loss: 0.0117 - mean_absolute_error: 0.0760\n",
            "Epoch 119/500\n",
            "50/50 [==============================] - 0s 1ms/step - loss: 0.0090 - mean_absolute_error: 0.0629\n",
            "Epoch 120/500\n",
            "50/50 [==============================] - 0s 1ms/step - loss: 0.0098 - mean_absolute_error: 0.0658\n",
            "Epoch 121/500\n",
            "50/50 [==============================] - 0s 1ms/step - loss: 0.0122 - mean_absolute_error: 0.0809\n",
            "Epoch 122/500\n",
            "50/50 [==============================] - 0s 1ms/step - loss: 0.0114 - mean_absolute_error: 0.0781\n",
            "Epoch 123/500\n",
            "50/50 [==============================] - 0s 1ms/step - loss: 0.0084 - mean_absolute_error: 0.0711\n",
            "Epoch 124/500\n",
            "50/50 [==============================] - 0s 1ms/step - loss: 0.0111 - mean_absolute_error: 0.0723\n",
            "Epoch 125/500\n",
            "50/50 [==============================] - 0s 986us/step - loss: 0.0114 - mean_absolute_error: 0.0737\n",
            "Epoch 126/500\n",
            "50/50 [==============================] - 0s 1ms/step - loss: 0.0110 - mean_absolute_error: 0.0685\n",
            "Epoch 127/500\n",
            "50/50 [==============================] - 0s 1ms/step - loss: 0.0113 - mean_absolute_error: 0.0739\n",
            "Epoch 128/500\n",
            "50/50 [==============================] - 0s 1ms/step - loss: 0.0097 - mean_absolute_error: 0.0709\n",
            "Epoch 129/500\n",
            "50/50 [==============================] - 0s 1ms/step - loss: 0.0093 - mean_absolute_error: 0.0676\n",
            "Epoch 130/500\n",
            "50/50 [==============================] - 0s 1ms/step - loss: 0.0098 - mean_absolute_error: 0.0673\n",
            "Epoch 131/500\n",
            "50/50 [==============================] - 0s 1ms/step - loss: 0.0117 - mean_absolute_error: 0.0755\n",
            "Epoch 132/500\n",
            "50/50 [==============================] - 0s 1ms/step - loss: 0.0085 - mean_absolute_error: 0.0643\n",
            "Epoch 133/500\n",
            "50/50 [==============================] - 0s 1ms/step - loss: 0.0087 - mean_absolute_error: 0.0661\n",
            "Epoch 134/500\n",
            "50/50 [==============================] - 0s 1ms/step - loss: 0.0083 - mean_absolute_error: 0.0659\n",
            "Epoch 135/500\n",
            "50/50 [==============================] - 0s 1ms/step - loss: 0.0109 - mean_absolute_error: 0.0714\n",
            "Epoch 136/500\n",
            "50/50 [==============================] - 0s 1ms/step - loss: 0.0111 - mean_absolute_error: 0.0766\n",
            "Epoch 137/500\n",
            "50/50 [==============================] - 0s 1ms/step - loss: 0.0096 - mean_absolute_error: 0.0713\n",
            "Epoch 138/500\n",
            "50/50 [==============================] - 0s 1ms/step - loss: 0.0098 - mean_absolute_error: 0.0724\n",
            "Epoch 139/500\n",
            "50/50 [==============================] - 0s 1ms/step - loss: 0.0082 - mean_absolute_error: 0.0615\n",
            "Epoch 140/500\n",
            "50/50 [==============================] - 0s 955us/step - loss: 0.0115 - mean_absolute_error: 0.0679\n",
            "Epoch 141/500\n",
            "50/50 [==============================] - 0s 1ms/step - loss: 0.0115 - mean_absolute_error: 0.0793\n",
            "Epoch 142/500\n",
            "50/50 [==============================] - 0s 971us/step - loss: 0.0094 - mean_absolute_error: 0.0701\n",
            "Epoch 143/500\n",
            "50/50 [==============================] - 0s 1ms/step - loss: 0.0107 - mean_absolute_error: 0.0732\n",
            "Epoch 144/500\n",
            "50/50 [==============================] - 0s 1ms/step - loss: 0.0080 - mean_absolute_error: 0.0638\n",
            "Epoch 145/500\n",
            "50/50 [==============================] - 0s 1ms/step - loss: 0.0098 - mean_absolute_error: 0.0747\n",
            "Epoch 146/500\n",
            "50/50 [==============================] - 0s 1ms/step - loss: 0.0109 - mean_absolute_error: 0.0765\n",
            "Epoch 147/500\n",
            "50/50 [==============================] - 0s 1ms/step - loss: 0.0089 - mean_absolute_error: 0.0702\n",
            "Epoch 148/500\n",
            "50/50 [==============================] - 0s 1ms/step - loss: 0.0068 - mean_absolute_error: 0.0593\n",
            "Epoch 149/500\n",
            "50/50 [==============================] - 0s 1ms/step - loss: 0.0072 - mean_absolute_error: 0.0629\n",
            "Epoch 150/500\n",
            "50/50 [==============================] - 0s 1ms/step - loss: 0.0097 - mean_absolute_error: 0.0667\n",
            "Epoch 151/500\n",
            "50/50 [==============================] - 0s 1ms/step - loss: 0.0097 - mean_absolute_error: 0.0738\n",
            "Epoch 152/500\n",
            "50/50 [==============================] - 0s 1ms/step - loss: 0.0113 - mean_absolute_error: 0.0732\n",
            "Epoch 153/500\n",
            "50/50 [==============================] - 0s 983us/step - loss: 0.0101 - mean_absolute_error: 0.0725\n",
            "Epoch 154/500\n",
            "50/50 [==============================] - 0s 1ms/step - loss: 0.0094 - mean_absolute_error: 0.0742\n",
            "Epoch 155/500\n",
            "50/50 [==============================] - 0s 1ms/step - loss: 0.0107 - mean_absolute_error: 0.0767\n",
            "Epoch 156/500\n",
            "50/50 [==============================] - 0s 1ms/step - loss: 0.0066 - mean_absolute_error: 0.0608\n",
            "Epoch 157/500\n",
            "50/50 [==============================] - 0s 1ms/step - loss: 0.0091 - mean_absolute_error: 0.0663\n",
            "Epoch 158/500\n",
            "50/50 [==============================] - 0s 1ms/step - loss: 0.0104 - mean_absolute_error: 0.0709\n",
            "Epoch 159/500\n",
            "50/50 [==============================] - 0s 1ms/step - loss: 0.0075 - mean_absolute_error: 0.0656\n",
            "Epoch 160/500\n",
            "50/50 [==============================] - 0s 1ms/step - loss: 0.0087 - mean_absolute_error: 0.0680\n",
            "Epoch 161/500\n",
            "50/50 [==============================] - 0s 1ms/step - loss: 0.0069 - mean_absolute_error: 0.0651\n",
            "Epoch 162/500\n",
            "50/50 [==============================] - 0s 942us/step - loss: 0.0093 - mean_absolute_error: 0.0661\n",
            "Epoch 163/500\n",
            "50/50 [==============================] - 0s 1ms/step - loss: 0.0082 - mean_absolute_error: 0.0597\n",
            "Epoch 164/500\n",
            "50/50 [==============================] - 0s 1ms/step - loss: 0.0081 - mean_absolute_error: 0.0669\n",
            "Epoch 165/500\n",
            "50/50 [==============================] - 0s 1ms/step - loss: 0.0081 - mean_absolute_error: 0.0642\n",
            "Epoch 166/500\n",
            "50/50 [==============================] - 0s 993us/step - loss: 0.0083 - mean_absolute_error: 0.0636\n",
            "Epoch 167/500\n",
            "50/50 [==============================] - 0s 1ms/step - loss: 0.0081 - mean_absolute_error: 0.0651\n",
            "Epoch 168/500\n",
            "50/50 [==============================] - 0s 1ms/step - loss: 0.0101 - mean_absolute_error: 0.0741\n",
            "Epoch 169/500\n",
            "50/50 [==============================] - 0s 1ms/step - loss: 0.0073 - mean_absolute_error: 0.0590\n",
            "Epoch 170/500\n",
            "50/50 [==============================] - 0s 1ms/step - loss: 0.0078 - mean_absolute_error: 0.0579\n",
            "Epoch 171/500\n",
            "50/50 [==============================] - 0s 1ms/step - loss: 0.0084 - mean_absolute_error: 0.0664\n",
            "Epoch 172/500\n",
            "50/50 [==============================] - 0s 1ms/step - loss: 0.0098 - mean_absolute_error: 0.0691\n",
            "Epoch 173/500\n",
            "50/50 [==============================] - 0s 971us/step - loss: 0.0063 - mean_absolute_error: 0.0568\n",
            "Epoch 174/500\n",
            "50/50 [==============================] - 0s 997us/step - loss: 0.0096 - mean_absolute_error: 0.0683\n",
            "Epoch 175/500\n",
            "50/50 [==============================] - 0s 1ms/step - loss: 0.0105 - mean_absolute_error: 0.0769\n",
            "Epoch 176/500\n",
            "50/50 [==============================] - 0s 1ms/step - loss: 0.0097 - mean_absolute_error: 0.0680\n",
            "Epoch 177/500\n",
            "50/50 [==============================] - 0s 1ms/step - loss: 0.0075 - mean_absolute_error: 0.0644\n",
            "Epoch 178/500\n",
            "50/50 [==============================] - 0s 1ms/step - loss: 0.0083 - mean_absolute_error: 0.0643\n",
            "Epoch 179/500\n",
            "50/50 [==============================] - 0s 1ms/step - loss: 0.0076 - mean_absolute_error: 0.0594\n",
            "Epoch 180/500\n",
            "50/50 [==============================] - 0s 1ms/step - loss: 0.0113 - mean_absolute_error: 0.0762\n",
            "Epoch 181/500\n",
            "50/50 [==============================] - 0s 966us/step - loss: 0.0081 - mean_absolute_error: 0.0645\n",
            "Epoch 182/500\n",
            "50/50 [==============================] - 0s 1ms/step - loss: 0.0099 - mean_absolute_error: 0.0725\n",
            "Epoch 183/500\n",
            "50/50 [==============================] - 0s 1ms/step - loss: 0.0075 - mean_absolute_error: 0.0655\n",
            "Epoch 184/500\n",
            "50/50 [==============================] - 0s 1ms/step - loss: 0.0065 - mean_absolute_error: 0.0582\n",
            "Epoch 185/500\n",
            "50/50 [==============================] - 0s 1ms/step - loss: 0.0090 - mean_absolute_error: 0.0709\n",
            "Epoch 186/500\n",
            "50/50 [==============================] - 0s 1ms/step - loss: 0.0060 - mean_absolute_error: 0.0563\n",
            "Epoch 187/500\n",
            "50/50 [==============================] - 0s 1ms/step - loss: 0.0092 - mean_absolute_error: 0.0649\n",
            "Epoch 188/500\n",
            "50/50 [==============================] - 0s 1ms/step - loss: 0.0080 - mean_absolute_error: 0.0623\n",
            "Epoch 189/500\n",
            "50/50 [==============================] - 0s 1ms/step - loss: 0.0084 - mean_absolute_error: 0.0633\n",
            "Epoch 190/500\n",
            "50/50 [==============================] - 0s 1ms/step - loss: 0.0084 - mean_absolute_error: 0.0686\n",
            "Epoch 191/500\n",
            "50/50 [==============================] - 0s 1ms/step - loss: 0.0081 - mean_absolute_error: 0.0662\n",
            "Epoch 192/500\n",
            "50/50 [==============================] - 0s 1ms/step - loss: 0.0093 - mean_absolute_error: 0.0681\n",
            "Epoch 193/500\n",
            "50/50 [==============================] - 0s 1ms/step - loss: 0.0079 - mean_absolute_error: 0.0644\n",
            "Epoch 194/500\n",
            "50/50 [==============================] - 0s 1ms/step - loss: 0.0098 - mean_absolute_error: 0.0715\n",
            "Epoch 195/500\n",
            "50/50 [==============================] - 0s 1ms/step - loss: 0.0091 - mean_absolute_error: 0.0647\n",
            "Epoch 196/500\n",
            "50/50 [==============================] - 0s 1ms/step - loss: 0.0066 - mean_absolute_error: 0.0597\n",
            "Epoch 197/500\n",
            "50/50 [==============================] - 0s 1ms/step - loss: 0.0082 - mean_absolute_error: 0.0669\n",
            "Epoch 198/500\n",
            "50/50 [==============================] - 0s 1ms/step - loss: 0.0074 - mean_absolute_error: 0.0600\n",
            "Epoch 199/500\n",
            "50/50 [==============================] - 0s 1ms/step - loss: 0.0085 - mean_absolute_error: 0.0644\n",
            "Epoch 200/500\n",
            "50/50 [==============================] - 0s 1ms/step - loss: 0.0080 - mean_absolute_error: 0.0660\n",
            "Epoch 201/500\n",
            "50/50 [==============================] - 0s 1ms/step - loss: 0.0070 - mean_absolute_error: 0.0606\n",
            "Epoch 202/500\n",
            "50/50 [==============================] - 0s 988us/step - loss: 0.0084 - mean_absolute_error: 0.0681\n",
            "Epoch 203/500\n",
            "50/50 [==============================] - 0s 1ms/step - loss: 0.0085 - mean_absolute_error: 0.0667\n",
            "Epoch 204/500\n",
            "50/50 [==============================] - 0s 1ms/step - loss: 0.0068 - mean_absolute_error: 0.0610\n",
            "Epoch 205/500\n",
            "50/50 [==============================] - 0s 1ms/step - loss: 0.0097 - mean_absolute_error: 0.0738\n",
            "Epoch 206/500\n",
            "50/50 [==============================] - 0s 1ms/step - loss: 0.0086 - mean_absolute_error: 0.0674\n",
            "Epoch 207/500\n",
            "50/50 [==============================] - 0s 1ms/step - loss: 0.0080 - mean_absolute_error: 0.0684\n",
            "Epoch 208/500\n",
            "50/50 [==============================] - 0s 977us/step - loss: 0.0077 - mean_absolute_error: 0.0636\n",
            "Epoch 209/500\n",
            "50/50 [==============================] - 0s 1ms/step - loss: 0.0067 - mean_absolute_error: 0.0592\n",
            "Epoch 210/500\n",
            "50/50 [==============================] - 0s 1ms/step - loss: 0.0082 - mean_absolute_error: 0.0657\n",
            "Epoch 211/500\n",
            "50/50 [==============================] - 0s 1ms/step - loss: 0.0069 - mean_absolute_error: 0.0636\n",
            "Epoch 212/500\n",
            "50/50 [==============================] - 0s 1ms/step - loss: 0.0089 - mean_absolute_error: 0.0676\n",
            "Epoch 213/500\n",
            "50/50 [==============================] - 0s 1ms/step - loss: 0.0079 - mean_absolute_error: 0.0675\n",
            "Epoch 214/500\n",
            "50/50 [==============================] - 0s 992us/step - loss: 0.0082 - mean_absolute_error: 0.0628\n",
            "Epoch 215/500\n",
            "50/50 [==============================] - 0s 1ms/step - loss: 0.0061 - mean_absolute_error: 0.0587\n",
            "Epoch 216/500\n",
            "50/50 [==============================] - 0s 983us/step - loss: 0.0068 - mean_absolute_error: 0.0613\n",
            "Epoch 217/500\n",
            "50/50 [==============================] - 0s 1ms/step - loss: 0.0062 - mean_absolute_error: 0.0605\n",
            "Epoch 218/500\n",
            "50/50 [==============================] - 0s 1ms/step - loss: 0.0072 - mean_absolute_error: 0.0602\n",
            "Epoch 219/500\n",
            "50/50 [==============================] - 0s 1ms/step - loss: 0.0070 - mean_absolute_error: 0.0623\n",
            "Epoch 220/500\n",
            "50/50 [==============================] - 0s 1ms/step - loss: 0.0070 - mean_absolute_error: 0.0629\n",
            "Epoch 221/500\n",
            "50/50 [==============================] - 0s 1ms/step - loss: 0.0117 - mean_absolute_error: 0.0722\n",
            "Epoch 222/500\n",
            "50/50 [==============================] - 0s 1ms/step - loss: 0.0085 - mean_absolute_error: 0.0659\n",
            "Epoch 223/500\n",
            "50/50 [==============================] - 0s 1ms/step - loss: 0.0091 - mean_absolute_error: 0.0677\n",
            "Epoch 224/500\n",
            "50/50 [==============================] - 0s 1ms/step - loss: 0.0098 - mean_absolute_error: 0.0754\n",
            "Epoch 225/500\n",
            "50/50 [==============================] - 0s 1ms/step - loss: 0.0071 - mean_absolute_error: 0.0598\n",
            "Epoch 226/500\n",
            "50/50 [==============================] - 0s 1ms/step - loss: 0.0081 - mean_absolute_error: 0.0615\n",
            "Epoch 227/500\n",
            "50/50 [==============================] - 0s 1ms/step - loss: 0.0111 - mean_absolute_error: 0.0739\n",
            "Epoch 228/500\n",
            "50/50 [==============================] - 0s 1ms/step - loss: 0.0062 - mean_absolute_error: 0.0577\n",
            "Epoch 229/500\n",
            "50/50 [==============================] - 0s 1ms/step - loss: 0.0089 - mean_absolute_error: 0.0666\n",
            "Epoch 230/500\n",
            "50/50 [==============================] - 0s 1ms/step - loss: 0.0071 - mean_absolute_error: 0.0677\n",
            "Epoch 231/500\n",
            "50/50 [==============================] - 0s 1ms/step - loss: 0.0074 - mean_absolute_error: 0.0629\n",
            "Epoch 232/500\n",
            "50/50 [==============================] - 0s 1ms/step - loss: 0.0073 - mean_absolute_error: 0.0600\n",
            "Epoch 233/500\n",
            "50/50 [==============================] - 0s 1ms/step - loss: 0.0078 - mean_absolute_error: 0.0624\n",
            "Epoch 234/500\n",
            "50/50 [==============================] - 0s 1ms/step - loss: 0.0055 - mean_absolute_error: 0.0575\n",
            "Epoch 235/500\n",
            "50/50 [==============================] - 0s 1ms/step - loss: 0.0088 - mean_absolute_error: 0.0666\n",
            "Epoch 236/500\n",
            "50/50 [==============================] - 0s 1ms/step - loss: 0.0068 - mean_absolute_error: 0.0638\n",
            "Epoch 237/500\n",
            "50/50 [==============================] - 0s 1ms/step - loss: 0.0083 - mean_absolute_error: 0.0731\n",
            "Epoch 238/500\n",
            "50/50 [==============================] - 0s 1ms/step - loss: 0.0063 - mean_absolute_error: 0.0603\n",
            "Epoch 239/500\n",
            "50/50 [==============================] - 0s 1ms/step - loss: 0.0079 - mean_absolute_error: 0.0677\n",
            "Epoch 240/500\n",
            "50/50 [==============================] - 0s 1ms/step - loss: 0.0086 - mean_absolute_error: 0.0702\n",
            "Epoch 241/500\n",
            "50/50 [==============================] - 0s 1ms/step - loss: 0.0069 - mean_absolute_error: 0.0615\n",
            "Epoch 242/500\n",
            "50/50 [==============================] - 0s 1ms/step - loss: 0.0087 - mean_absolute_error: 0.0699\n",
            "Epoch 243/500\n",
            "50/50 [==============================] - 0s 1ms/step - loss: 0.0074 - mean_absolute_error: 0.0643\n",
            "Epoch 244/500\n",
            "50/50 [==============================] - 0s 1ms/step - loss: 0.0074 - mean_absolute_error: 0.0645\n",
            "Epoch 245/500\n",
            "50/50 [==============================] - 0s 1ms/step - loss: 0.0076 - mean_absolute_error: 0.0649\n",
            "Epoch 246/500\n",
            "50/50 [==============================] - 0s 1ms/step - loss: 0.0052 - mean_absolute_error: 0.0570\n",
            "Epoch 247/500\n",
            "50/50 [==============================] - 0s 979us/step - loss: 0.0058 - mean_absolute_error: 0.0587\n",
            "Epoch 248/500\n",
            "50/50 [==============================] - 0s 1ms/step - loss: 0.0071 - mean_absolute_error: 0.0622\n",
            "Epoch 249/500\n",
            "50/50 [==============================] - 0s 1ms/step - loss: 0.0051 - mean_absolute_error: 0.0537\n",
            "Epoch 250/500\n",
            "50/50 [==============================] - 0s 1ms/step - loss: 0.0048 - mean_absolute_error: 0.0520\n",
            "Epoch 251/500\n",
            "50/50 [==============================] - 0s 1ms/step - loss: 0.0064 - mean_absolute_error: 0.0589\n",
            "Epoch 252/500\n",
            "50/50 [==============================] - 0s 1ms/step - loss: 0.0059 - mean_absolute_error: 0.0587\n",
            "Epoch 253/500\n",
            "50/50 [==============================] - 0s 1ms/step - loss: 0.0040 - mean_absolute_error: 0.0481\n",
            "Epoch 254/500\n",
            "50/50 [==============================] - 0s 1ms/step - loss: 0.0055 - mean_absolute_error: 0.0605\n",
            "Epoch 255/500\n",
            "50/50 [==============================] - 0s 1ms/step - loss: 0.0084 - mean_absolute_error: 0.0654\n",
            "Epoch 256/500\n",
            "50/50 [==============================] - 0s 1ms/step - loss: 0.0059 - mean_absolute_error: 0.0565\n",
            "Epoch 257/500\n",
            "50/50 [==============================] - 0s 1ms/step - loss: 0.0062 - mean_absolute_error: 0.0598\n",
            "Epoch 258/500\n",
            "50/50 [==============================] - 0s 1ms/step - loss: 0.0065 - mean_absolute_error: 0.0596\n",
            "Epoch 259/500\n",
            "50/50 [==============================] - 0s 1ms/step - loss: 0.0059 - mean_absolute_error: 0.0554\n",
            "Epoch 260/500\n",
            "50/50 [==============================] - 0s 1ms/step - loss: 0.0059 - mean_absolute_error: 0.0577\n",
            "Epoch 261/500\n",
            "50/50 [==============================] - 0s 1ms/step - loss: 0.0091 - mean_absolute_error: 0.0734\n",
            "Epoch 262/500\n",
            "50/50 [==============================] - 0s 1ms/step - loss: 0.0066 - mean_absolute_error: 0.0591\n",
            "Epoch 263/500\n",
            "50/50 [==============================] - 0s 1ms/step - loss: 0.0059 - mean_absolute_error: 0.0562\n",
            "Epoch 264/500\n",
            "50/50 [==============================] - 0s 1ms/step - loss: 0.0049 - mean_absolute_error: 0.0530\n",
            "Epoch 265/500\n",
            "50/50 [==============================] - 0s 1ms/step - loss: 0.0071 - mean_absolute_error: 0.0660\n",
            "Epoch 266/500\n",
            "50/50 [==============================] - 0s 1ms/step - loss: 0.0048 - mean_absolute_error: 0.0541\n",
            "Epoch 267/500\n",
            "50/50 [==============================] - 0s 1ms/step - loss: 0.0062 - mean_absolute_error: 0.0569\n",
            "Epoch 268/500\n",
            "50/50 [==============================] - 0s 1ms/step - loss: 0.0075 - mean_absolute_error: 0.0650\n",
            "Epoch 269/500\n",
            "50/50 [==============================] - 0s 1ms/step - loss: 0.0056 - mean_absolute_error: 0.0550\n",
            "Epoch 270/500\n",
            "50/50 [==============================] - 0s 1ms/step - loss: 0.0063 - mean_absolute_error: 0.0576\n",
            "Epoch 271/500\n",
            "50/50 [==============================] - 0s 1ms/step - loss: 0.0049 - mean_absolute_error: 0.0560\n",
            "Epoch 272/500\n",
            "50/50 [==============================] - 0s 1ms/step - loss: 0.0060 - mean_absolute_error: 0.0605\n",
            "Epoch 273/500\n",
            "50/50 [==============================] - 0s 1ms/step - loss: 0.0058 - mean_absolute_error: 0.0543\n",
            "Epoch 274/500\n",
            "50/50 [==============================] - 0s 1ms/step - loss: 0.0072 - mean_absolute_error: 0.0602\n",
            "Epoch 275/500\n",
            "50/50 [==============================] - 0s 1ms/step - loss: 0.0066 - mean_absolute_error: 0.0624\n",
            "Epoch 276/500\n",
            "50/50 [==============================] - 0s 1ms/step - loss: 0.0053 - mean_absolute_error: 0.0542\n",
            "Epoch 277/500\n",
            "50/50 [==============================] - 0s 1ms/step - loss: 0.0056 - mean_absolute_error: 0.0564\n",
            "Epoch 278/500\n",
            "50/50 [==============================] - 0s 1ms/step - loss: 0.0060 - mean_absolute_error: 0.0562\n",
            "Epoch 279/500\n",
            "50/50 [==============================] - 0s 1ms/step - loss: 0.0077 - mean_absolute_error: 0.0581\n",
            "Epoch 280/500\n",
            "50/50 [==============================] - 0s 1ms/step - loss: 0.0109 - mean_absolute_error: 0.0648\n",
            "Epoch 281/500\n",
            "50/50 [==============================] - 0s 1ms/step - loss: 0.0060 - mean_absolute_error: 0.0544\n",
            "Epoch 282/500\n",
            "50/50 [==============================] - 0s 1ms/step - loss: 0.0072 - mean_absolute_error: 0.0637\n",
            "Epoch 283/500\n",
            "50/50 [==============================] - 0s 1ms/step - loss: 0.0051 - mean_absolute_error: 0.0520\n",
            "Epoch 284/500\n",
            "50/50 [==============================] - 0s 1ms/step - loss: 0.0044 - mean_absolute_error: 0.0517\n",
            "Epoch 285/500\n",
            "50/50 [==============================] - 0s 1ms/step - loss: 0.0089 - mean_absolute_error: 0.0653\n",
            "Epoch 286/500\n",
            "50/50 [==============================] - 0s 1ms/step - loss: 0.0079 - mean_absolute_error: 0.0604\n",
            "Epoch 287/500\n",
            "50/50 [==============================] - 0s 1ms/step - loss: 0.0072 - mean_absolute_error: 0.0574\n",
            "Epoch 288/500\n",
            "50/50 [==============================] - 0s 1ms/step - loss: 0.0082 - mean_absolute_error: 0.0676\n",
            "Epoch 289/500\n",
            "50/50 [==============================] - 0s 1ms/step - loss: 0.0079 - mean_absolute_error: 0.0685\n",
            "Epoch 290/500\n",
            "50/50 [==============================] - 0s 1ms/step - loss: 0.0085 - mean_absolute_error: 0.0671\n",
            "Epoch 291/500\n",
            "50/50 [==============================] - 0s 1ms/step - loss: 0.0060 - mean_absolute_error: 0.0593\n",
            "Epoch 292/500\n",
            "50/50 [==============================] - 0s 1ms/step - loss: 0.0062 - mean_absolute_error: 0.0592\n",
            "Epoch 293/500\n",
            "50/50 [==============================] - 0s 1ms/step - loss: 0.0074 - mean_absolute_error: 0.0639\n",
            "Epoch 294/500\n",
            "50/50 [==============================] - 0s 1ms/step - loss: 0.0058 - mean_absolute_error: 0.0572\n",
            "Epoch 295/500\n",
            "50/50 [==============================] - 0s 1ms/step - loss: 0.0064 - mean_absolute_error: 0.0573\n",
            "Epoch 296/500\n",
            "50/50 [==============================] - 0s 1ms/step - loss: 0.0064 - mean_absolute_error: 0.0639\n",
            "Epoch 297/500\n",
            "50/50 [==============================] - 0s 1ms/step - loss: 0.0046 - mean_absolute_error: 0.0540\n",
            "Epoch 298/500\n",
            "50/50 [==============================] - 0s 1ms/step - loss: 0.0039 - mean_absolute_error: 0.0477\n",
            "Epoch 299/500\n",
            "50/50 [==============================] - 0s 1ms/step - loss: 0.0040 - mean_absolute_error: 0.0469\n",
            "Epoch 300/500\n",
            "50/50 [==============================] - 0s 2ms/step - loss: 0.0081 - mean_absolute_error: 0.0662\n",
            "Epoch 301/500\n",
            "50/50 [==============================] - 0s 1ms/step - loss: 0.0056 - mean_absolute_error: 0.0513\n",
            "Epoch 302/500\n",
            "50/50 [==============================] - 0s 1ms/step - loss: 0.0062 - mean_absolute_error: 0.0545\n",
            "Epoch 303/500\n",
            "50/50 [==============================] - 0s 978us/step - loss: 0.0035 - mean_absolute_error: 0.0479\n",
            "Epoch 304/500\n",
            "50/50 [==============================] - 0s 1ms/step - loss: 0.0050 - mean_absolute_error: 0.0546\n",
            "Epoch 305/500\n",
            "50/50 [==============================] - 0s 1ms/step - loss: 0.0053 - mean_absolute_error: 0.0522\n",
            "Epoch 306/500\n",
            "50/50 [==============================] - 0s 1ms/step - loss: 0.0057 - mean_absolute_error: 0.0583\n",
            "Epoch 307/500\n",
            "50/50 [==============================] - 0s 1ms/step - loss: 0.0050 - mean_absolute_error: 0.0554\n",
            "Epoch 308/500\n",
            "50/50 [==============================] - 0s 1ms/step - loss: 0.0045 - mean_absolute_error: 0.0479\n",
            "Epoch 309/500\n",
            "50/50 [==============================] - 0s 982us/step - loss: 0.0048 - mean_absolute_error: 0.0513\n",
            "Epoch 310/500\n",
            "50/50 [==============================] - 0s 1ms/step - loss: 0.0041 - mean_absolute_error: 0.0500\n",
            "Epoch 311/500\n",
            "50/50 [==============================] - 0s 1ms/step - loss: 0.0044 - mean_absolute_error: 0.0487\n",
            "Epoch 312/500\n",
            "50/50 [==============================] - 0s 1ms/step - loss: 0.0042 - mean_absolute_error: 0.0502\n",
            "Epoch 313/500\n",
            "50/50 [==============================] - 0s 1ms/step - loss: 0.0047 - mean_absolute_error: 0.0522\n",
            "Epoch 314/500\n",
            "50/50 [==============================] - 0s 1ms/step - loss: 0.0049 - mean_absolute_error: 0.0532\n",
            "Epoch 315/500\n",
            "50/50 [==============================] - 0s 1ms/step - loss: 0.0039 - mean_absolute_error: 0.0473\n",
            "Epoch 316/500\n",
            "50/50 [==============================] - 0s 1ms/step - loss: 0.0053 - mean_absolute_error: 0.0520\n",
            "Epoch 317/500\n",
            "50/50 [==============================] - 0s 1ms/step - loss: 0.0049 - mean_absolute_error: 0.0511\n",
            "Epoch 318/500\n",
            "50/50 [==============================] - 0s 1ms/step - loss: 0.0046 - mean_absolute_error: 0.0451\n",
            "Epoch 319/500\n",
            "50/50 [==============================] - 0s 1ms/step - loss: 0.0054 - mean_absolute_error: 0.0535\n",
            "Epoch 320/500\n",
            "50/50 [==============================] - 0s 1ms/step - loss: 0.0040 - mean_absolute_error: 0.0494\n",
            "Epoch 321/500\n",
            "50/50 [==============================] - 0s 1ms/step - loss: 0.0047 - mean_absolute_error: 0.0526\n",
            "Epoch 322/500\n",
            "50/50 [==============================] - 0s 1ms/step - loss: 0.0057 - mean_absolute_error: 0.0551\n",
            "Epoch 323/500\n",
            "50/50 [==============================] - 0s 1ms/step - loss: 0.0054 - mean_absolute_error: 0.0562\n",
            "Epoch 324/500\n",
            "50/50 [==============================] - 0s 1ms/step - loss: 0.0045 - mean_absolute_error: 0.0488\n",
            "Epoch 325/500\n",
            "50/50 [==============================] - 0s 1ms/step - loss: 0.0055 - mean_absolute_error: 0.0589\n",
            "Epoch 326/500\n",
            "50/50 [==============================] - 0s 1ms/step - loss: 0.0060 - mean_absolute_error: 0.0538\n",
            "Epoch 327/500\n",
            "50/50 [==============================] - 0s 1ms/step - loss: 0.0058 - mean_absolute_error: 0.0569\n",
            "Epoch 328/500\n",
            "50/50 [==============================] - 0s 1ms/step - loss: 0.0045 - mean_absolute_error: 0.0528\n",
            "Epoch 329/500\n",
            "50/50 [==============================] - 0s 1ms/step - loss: 0.0051 - mean_absolute_error: 0.0563\n",
            "Epoch 330/500\n",
            "50/50 [==============================] - 0s 1ms/step - loss: 0.0044 - mean_absolute_error: 0.0464\n",
            "Epoch 331/500\n",
            "50/50 [==============================] - 0s 1ms/step - loss: 0.0059 - mean_absolute_error: 0.0561\n",
            "Epoch 332/500\n",
            "50/50 [==============================] - 0s 1ms/step - loss: 0.0055 - mean_absolute_error: 0.0566\n",
            "Epoch 333/500\n",
            "50/50 [==============================] - 0s 1ms/step - loss: 0.0060 - mean_absolute_error: 0.0608\n",
            "Epoch 334/500\n",
            "50/50 [==============================] - 0s 1ms/step - loss: 0.0035 - mean_absolute_error: 0.0482\n",
            "Epoch 335/500\n",
            "50/50 [==============================] - 0s 1ms/step - loss: 0.0045 - mean_absolute_error: 0.0477\n",
            "Epoch 336/500\n",
            "50/50 [==============================] - 0s 1ms/step - loss: 0.0052 - mean_absolute_error: 0.0533\n",
            "Epoch 337/500\n",
            "50/50 [==============================] - 0s 1ms/step - loss: 0.0032 - mean_absolute_error: 0.0395\n",
            "Epoch 338/500\n",
            "50/50 [==============================] - 0s 1ms/step - loss: 0.0051 - mean_absolute_error: 0.0495\n",
            "Epoch 339/500\n",
            "50/50 [==============================] - 0s 1ms/step - loss: 0.0052 - mean_absolute_error: 0.0526\n",
            "Epoch 340/500\n",
            "50/50 [==============================] - 0s 1ms/step - loss: 0.0040 - mean_absolute_error: 0.0450\n",
            "Epoch 341/500\n",
            "50/50 [==============================] - 0s 1ms/step - loss: 0.0040 - mean_absolute_error: 0.0431\n",
            "Epoch 342/500\n",
            "50/50 [==============================] - 0s 1ms/step - loss: 0.0061 - mean_absolute_error: 0.0565\n",
            "Epoch 343/500\n",
            "50/50 [==============================] - 0s 1ms/step - loss: 0.0047 - mean_absolute_error: 0.0547\n",
            "Epoch 344/500\n",
            "50/50 [==============================] - 0s 1ms/step - loss: 0.0052 - mean_absolute_error: 0.0565\n",
            "Epoch 345/500\n",
            "50/50 [==============================] - 0s 1ms/step - loss: 0.0070 - mean_absolute_error: 0.0639\n",
            "Epoch 346/500\n",
            "50/50 [==============================] - 0s 1ms/step - loss: 0.0067 - mean_absolute_error: 0.0606\n",
            "Epoch 347/500\n",
            "50/50 [==============================] - 0s 1ms/step - loss: 0.0068 - mean_absolute_error: 0.0602\n",
            "Epoch 348/500\n",
            "50/50 [==============================] - 0s 1ms/step - loss: 0.0051 - mean_absolute_error: 0.0557\n",
            "Epoch 349/500\n",
            "50/50 [==============================] - 0s 1ms/step - loss: 0.0058 - mean_absolute_error: 0.0617\n",
            "Epoch 350/500\n",
            "50/50 [==============================] - 0s 1ms/step - loss: 0.0062 - mean_absolute_error: 0.0602\n",
            "Epoch 351/500\n",
            "50/50 [==============================] - 0s 1ms/step - loss: 0.0049 - mean_absolute_error: 0.0538\n",
            "Epoch 352/500\n",
            "50/50 [==============================] - 0s 1ms/step - loss: 0.0054 - mean_absolute_error: 0.0536\n",
            "Epoch 353/500\n",
            "50/50 [==============================] - 0s 1ms/step - loss: 0.0048 - mean_absolute_error: 0.0523\n",
            "Epoch 354/500\n",
            "50/50 [==============================] - 0s 1ms/step - loss: 0.0045 - mean_absolute_error: 0.0529\n",
            "Epoch 355/500\n",
            "50/50 [==============================] - 0s 1ms/step - loss: 0.0040 - mean_absolute_error: 0.0481\n",
            "Epoch 356/500\n",
            "50/50 [==============================] - 0s 1ms/step - loss: 0.0047 - mean_absolute_error: 0.0518\n",
            "Epoch 357/500\n",
            "50/50 [==============================] - 0s 1ms/step - loss: 0.0064 - mean_absolute_error: 0.0568\n",
            "Epoch 358/500\n",
            "50/50 [==============================] - 0s 1ms/step - loss: 0.0060 - mean_absolute_error: 0.0530\n",
            "Epoch 359/500\n",
            "50/50 [==============================] - 0s 1ms/step - loss: 0.0067 - mean_absolute_error: 0.0578\n",
            "Epoch 360/500\n",
            "50/50 [==============================] - 0s 1ms/step - loss: 0.0056 - mean_absolute_error: 0.0596\n",
            "Epoch 361/500\n",
            "50/50 [==============================] - 0s 1ms/step - loss: 0.0053 - mean_absolute_error: 0.0536\n",
            "Epoch 362/500\n",
            "50/50 [==============================] - 0s 1ms/step - loss: 0.0051 - mean_absolute_error: 0.0520\n",
            "Epoch 363/500\n",
            "50/50 [==============================] - 0s 1ms/step - loss: 0.0059 - mean_absolute_error: 0.0547\n",
            "Epoch 364/500\n",
            "50/50 [==============================] - 0s 1ms/step - loss: 0.0050 - mean_absolute_error: 0.0513\n",
            "Epoch 365/500\n",
            "50/50 [==============================] - 0s 1ms/step - loss: 0.0064 - mean_absolute_error: 0.0575\n",
            "Epoch 366/500\n",
            "50/50 [==============================] - 0s 1ms/step - loss: 0.0038 - mean_absolute_error: 0.0508\n",
            "Epoch 367/500\n",
            "50/50 [==============================] - 0s 1ms/step - loss: 0.0068 - mean_absolute_error: 0.0643\n",
            "Epoch 368/500\n",
            "50/50 [==============================] - 0s 1ms/step - loss: 0.0037 - mean_absolute_error: 0.0497\n",
            "Epoch 369/500\n",
            "50/50 [==============================] - 0s 1ms/step - loss: 0.0046 - mean_absolute_error: 0.0523\n",
            "Epoch 370/500\n",
            "50/50 [==============================] - 0s 1ms/step - loss: 0.0051 - mean_absolute_error: 0.0558\n",
            "Epoch 371/500\n",
            "50/50 [==============================] - 0s 1ms/step - loss: 0.0038 - mean_absolute_error: 0.0483\n",
            "Epoch 372/500\n",
            "50/50 [==============================] - 0s 1ms/step - loss: 0.0037 - mean_absolute_error: 0.0426\n",
            "Epoch 373/500\n",
            "50/50 [==============================] - 0s 1ms/step - loss: 0.0047 - mean_absolute_error: 0.0502\n",
            "Epoch 374/500\n",
            "50/50 [==============================] - 0s 1ms/step - loss: 0.0043 - mean_absolute_error: 0.0463\n",
            "Epoch 375/500\n",
            "50/50 [==============================] - 0s 1ms/step - loss: 0.0030 - mean_absolute_error: 0.0426\n",
            "Epoch 376/500\n",
            "50/50 [==============================] - 0s 1ms/step - loss: 0.0033 - mean_absolute_error: 0.0452\n",
            "Epoch 377/500\n",
            "50/50 [==============================] - 0s 1ms/step - loss: 0.0047 - mean_absolute_error: 0.0587\n",
            "Epoch 378/500\n",
            "50/50 [==============================] - 0s 1ms/step - loss: 0.0034 - mean_absolute_error: 0.0476\n",
            "Epoch 379/500\n",
            "50/50 [==============================] - 0s 1ms/step - loss: 0.0052 - mean_absolute_error: 0.0563\n",
            "Epoch 380/500\n",
            "50/50 [==============================] - 0s 1ms/step - loss: 0.0067 - mean_absolute_error: 0.0594\n",
            "Epoch 381/500\n",
            "50/50 [==============================] - 0s 1ms/step - loss: 0.0036 - mean_absolute_error: 0.0438\n",
            "Epoch 382/500\n",
            "50/50 [==============================] - 0s 1ms/step - loss: 0.0030 - mean_absolute_error: 0.0438\n",
            "Epoch 383/500\n",
            "50/50 [==============================] - 0s 1ms/step - loss: 0.0038 - mean_absolute_error: 0.0433\n",
            "Epoch 384/500\n",
            "50/50 [==============================] - 0s 1ms/step - loss: 0.0044 - mean_absolute_error: 0.0499\n",
            "Epoch 385/500\n",
            "50/50 [==============================] - 0s 1ms/step - loss: 0.0040 - mean_absolute_error: 0.0471\n",
            "Epoch 386/500\n",
            "50/50 [==============================] - 0s 1ms/step - loss: 0.0042 - mean_absolute_error: 0.0520\n",
            "Epoch 387/500\n",
            "50/50 [==============================] - 0s 1ms/step - loss: 0.0036 - mean_absolute_error: 0.0491\n",
            "Epoch 388/500\n",
            "50/50 [==============================] - 0s 1ms/step - loss: 0.0033 - mean_absolute_error: 0.0405\n",
            "Epoch 389/500\n",
            "50/50 [==============================] - 0s 1ms/step - loss: 0.0048 - mean_absolute_error: 0.0481\n",
            "Epoch 390/500\n",
            "50/50 [==============================] - 0s 1ms/step - loss: 0.0042 - mean_absolute_error: 0.0487\n",
            "Epoch 391/500\n",
            "50/50 [==============================] - 0s 1ms/step - loss: 0.0036 - mean_absolute_error: 0.0460\n",
            "Epoch 392/500\n",
            "50/50 [==============================] - 0s 1ms/step - loss: 0.0030 - mean_absolute_error: 0.0420\n",
            "Epoch 393/500\n",
            "50/50 [==============================] - 0s 1ms/step - loss: 0.0034 - mean_absolute_error: 0.0467\n",
            "Epoch 394/500\n",
            "50/50 [==============================] - 0s 1ms/step - loss: 0.0028 - mean_absolute_error: 0.0389\n",
            "Epoch 395/500\n",
            "50/50 [==============================] - 0s 1ms/step - loss: 0.0041 - mean_absolute_error: 0.0488\n",
            "Epoch 396/500\n",
            "50/50 [==============================] - 0s 1ms/step - loss: 0.0039 - mean_absolute_error: 0.0475\n",
            "Epoch 397/500\n",
            "50/50 [==============================] - 0s 1ms/step - loss: 0.0027 - mean_absolute_error: 0.0416\n",
            "Epoch 398/500\n",
            "50/50 [==============================] - 0s 1ms/step - loss: 0.0033 - mean_absolute_error: 0.0397\n",
            "Epoch 399/500\n",
            "50/50 [==============================] - 0s 1ms/step - loss: 0.0043 - mean_absolute_error: 0.0474\n",
            "Epoch 400/500\n",
            "50/50 [==============================] - 0s 1ms/step - loss: 0.0033 - mean_absolute_error: 0.0449\n",
            "Epoch 401/500\n",
            "50/50 [==============================] - 0s 1ms/step - loss: 0.0044 - mean_absolute_error: 0.0485\n",
            "Epoch 402/500\n",
            "50/50 [==============================] - 0s 1ms/step - loss: 0.0042 - mean_absolute_error: 0.0518\n",
            "Epoch 403/500\n",
            "50/50 [==============================] - 0s 1ms/step - loss: 0.0041 - mean_absolute_error: 0.0464\n",
            "Epoch 404/500\n",
            "50/50 [==============================] - 0s 1ms/step - loss: 0.0049 - mean_absolute_error: 0.0514\n",
            "Epoch 405/500\n",
            "50/50 [==============================] - 0s 1ms/step - loss: 0.0042 - mean_absolute_error: 0.0507\n",
            "Epoch 406/500\n",
            "50/50 [==============================] - 0s 1ms/step - loss: 0.0038 - mean_absolute_error: 0.0457\n",
            "Epoch 407/500\n",
            "50/50 [==============================] - 0s 1ms/step - loss: 0.0035 - mean_absolute_error: 0.0405\n",
            "Epoch 408/500\n",
            "50/50 [==============================] - 0s 1ms/step - loss: 0.0030 - mean_absolute_error: 0.0415\n",
            "Epoch 409/500\n",
            "50/50 [==============================] - 0s 1ms/step - loss: 0.0031 - mean_absolute_error: 0.0438\n",
            "Epoch 410/500\n",
            "50/50 [==============================] - 0s 1ms/step - loss: 0.0053 - mean_absolute_error: 0.0535\n",
            "Epoch 411/500\n",
            "50/50 [==============================] - 0s 1ms/step - loss: 0.0030 - mean_absolute_error: 0.0433\n",
            "Epoch 412/500\n",
            "50/50 [==============================] - 0s 1ms/step - loss: 0.0029 - mean_absolute_error: 0.0397\n",
            "Epoch 413/500\n",
            "50/50 [==============================] - 0s 1ms/step - loss: 0.0030 - mean_absolute_error: 0.0393\n",
            "Epoch 414/500\n",
            "50/50 [==============================] - 0s 1ms/step - loss: 0.0030 - mean_absolute_error: 0.0395\n",
            "Epoch 415/500\n",
            "50/50 [==============================] - 0s 1ms/step - loss: 0.0032 - mean_absolute_error: 0.0433\n",
            "Epoch 416/500\n",
            "50/50 [==============================] - 0s 1ms/step - loss: 0.0046 - mean_absolute_error: 0.0476\n",
            "Epoch 417/500\n",
            "50/50 [==============================] - 0s 1ms/step - loss: 0.0024 - mean_absolute_error: 0.0362\n",
            "Epoch 418/500\n",
            "50/50 [==============================] - 0s 1ms/step - loss: 0.0034 - mean_absolute_error: 0.0444\n",
            "Epoch 419/500\n",
            "50/50 [==============================] - 0s 1ms/step - loss: 0.0038 - mean_absolute_error: 0.0491\n",
            "Epoch 420/500\n",
            "50/50 [==============================] - 0s 1ms/step - loss: 0.0039 - mean_absolute_error: 0.0469\n",
            "Epoch 421/500\n",
            "50/50 [==============================] - 0s 1ms/step - loss: 0.0049 - mean_absolute_error: 0.0533\n",
            "Epoch 422/500\n",
            "50/50 [==============================] - 0s 1ms/step - loss: 0.0041 - mean_absolute_error: 0.0483\n",
            "Epoch 423/500\n",
            "50/50 [==============================] - 0s 1ms/step - loss: 0.0041 - mean_absolute_error: 0.0474\n",
            "Epoch 424/500\n",
            "50/50 [==============================] - 0s 1ms/step - loss: 0.0058 - mean_absolute_error: 0.0617\n",
            "Epoch 425/500\n",
            "50/50 [==============================] - 0s 1ms/step - loss: 0.0032 - mean_absolute_error: 0.0424\n",
            "Epoch 426/500\n",
            "50/50 [==============================] - 0s 1ms/step - loss: 0.0056 - mean_absolute_error: 0.0556\n",
            "Epoch 427/500\n",
            "50/50 [==============================] - 0s 1ms/step - loss: 0.0035 - mean_absolute_error: 0.0468\n",
            "Epoch 428/500\n",
            "50/50 [==============================] - 0s 1ms/step - loss: 0.0050 - mean_absolute_error: 0.0545\n",
            "Epoch 429/500\n",
            "50/50 [==============================] - 0s 1ms/step - loss: 0.0030 - mean_absolute_error: 0.0455\n",
            "Epoch 430/500\n",
            "50/50 [==============================] - 0s 1ms/step - loss: 0.0040 - mean_absolute_error: 0.0486\n",
            "Epoch 431/500\n",
            "50/50 [==============================] - 0s 1ms/step - loss: 0.0059 - mean_absolute_error: 0.0560\n",
            "Epoch 432/500\n",
            "50/50 [==============================] - 0s 1ms/step - loss: 0.0022 - mean_absolute_error: 0.0372\n",
            "Epoch 433/500\n",
            "50/50 [==============================] - 0s 1ms/step - loss: 0.0045 - mean_absolute_error: 0.0524\n",
            "Epoch 434/500\n",
            "50/50 [==============================] - 0s 1ms/step - loss: 0.0046 - mean_absolute_error: 0.0517\n",
            "Epoch 435/500\n",
            "50/50 [==============================] - 0s 1ms/step - loss: 0.0045 - mean_absolute_error: 0.0478\n",
            "Epoch 436/500\n",
            "50/50 [==============================] - 0s 1ms/step - loss: 0.0045 - mean_absolute_error: 0.0461\n",
            "Epoch 437/500\n",
            "50/50 [==============================] - 0s 1ms/step - loss: 0.0046 - mean_absolute_error: 0.0496\n",
            "Epoch 438/500\n",
            "50/50 [==============================] - 0s 1ms/step - loss: 0.0042 - mean_absolute_error: 0.0500\n",
            "Epoch 439/500\n",
            "50/50 [==============================] - 0s 979us/step - loss: 0.0051 - mean_absolute_error: 0.0551\n",
            "Epoch 440/500\n",
            "50/50 [==============================] - 0s 1ms/step - loss: 0.0043 - mean_absolute_error: 0.0486\n",
            "Epoch 441/500\n",
            "50/50 [==============================] - 0s 1ms/step - loss: 0.0041 - mean_absolute_error: 0.0502\n",
            "Epoch 442/500\n",
            "50/50 [==============================] - 0s 1ms/step - loss: 0.0043 - mean_absolute_error: 0.0462\n",
            "Epoch 443/500\n",
            "50/50 [==============================] - 0s 1ms/step - loss: 0.0047 - mean_absolute_error: 0.0554\n",
            "Epoch 444/500\n",
            "50/50 [==============================] - 0s 1ms/step - loss: 0.0055 - mean_absolute_error: 0.0504\n",
            "Epoch 445/500\n",
            "50/50 [==============================] - 0s 1ms/step - loss: 0.0038 - mean_absolute_error: 0.0479\n",
            "Epoch 446/500\n",
            "50/50 [==============================] - 0s 1ms/step - loss: 0.0035 - mean_absolute_error: 0.0440\n",
            "Epoch 447/500\n",
            "50/50 [==============================] - 0s 1ms/step - loss: 0.0033 - mean_absolute_error: 0.0434\n",
            "Epoch 448/500\n",
            "50/50 [==============================] - 0s 1ms/step - loss: 0.0026 - mean_absolute_error: 0.0386\n",
            "Epoch 449/500\n",
            "50/50 [==============================] - 0s 1ms/step - loss: 0.0031 - mean_absolute_error: 0.0433\n",
            "Epoch 450/500\n",
            "50/50 [==============================] - 0s 1ms/step - loss: 0.0038 - mean_absolute_error: 0.0459\n",
            "Epoch 451/500\n",
            "50/50 [==============================] - 0s 1ms/step - loss: 0.0028 - mean_absolute_error: 0.0387\n",
            "Epoch 452/500\n",
            "50/50 [==============================] - 0s 1ms/step - loss: 0.0038 - mean_absolute_error: 0.0493\n",
            "Epoch 453/500\n",
            "50/50 [==============================] - 0s 1ms/step - loss: 0.0028 - mean_absolute_error: 0.0419\n",
            "Epoch 454/500\n",
            "50/50 [==============================] - 0s 1ms/step - loss: 0.0024 - mean_absolute_error: 0.0370\n",
            "Epoch 455/500\n",
            "50/50 [==============================] - 0s 1ms/step - loss: 0.0041 - mean_absolute_error: 0.0504\n",
            "Epoch 456/500\n",
            "50/50 [==============================] - 0s 1ms/step - loss: 0.0029 - mean_absolute_error: 0.0420\n",
            "Epoch 457/500\n",
            "50/50 [==============================] - 0s 1ms/step - loss: 0.0037 - mean_absolute_error: 0.0476\n",
            "Epoch 458/500\n",
            "50/50 [==============================] - 0s 1ms/step - loss: 0.0030 - mean_absolute_error: 0.0407\n",
            "Epoch 459/500\n",
            "50/50 [==============================] - 0s 1ms/step - loss: 0.0034 - mean_absolute_error: 0.0419\n",
            "Epoch 460/500\n",
            "50/50 [==============================] - 0s 1ms/step - loss: 0.0033 - mean_absolute_error: 0.0430\n",
            "Epoch 461/500\n",
            "50/50 [==============================] - 0s 1ms/step - loss: 0.0036 - mean_absolute_error: 0.0456\n",
            "Epoch 462/500\n",
            "50/50 [==============================] - 0s 1ms/step - loss: 0.0035 - mean_absolute_error: 0.0432\n",
            "Epoch 463/500\n",
            "50/50 [==============================] - 0s 1ms/step - loss: 0.0024 - mean_absolute_error: 0.0367\n",
            "Epoch 464/500\n",
            "50/50 [==============================] - 0s 1ms/step - loss: 0.0043 - mean_absolute_error: 0.0528\n",
            "Epoch 465/500\n",
            "50/50 [==============================] - 0s 1ms/step - loss: 0.0039 - mean_absolute_error: 0.0455\n",
            "Epoch 466/500\n",
            "50/50 [==============================] - 0s 1ms/step - loss: 0.0043 - mean_absolute_error: 0.0469\n",
            "Epoch 467/500\n",
            "50/50 [==============================] - 0s 1ms/step - loss: 0.0044 - mean_absolute_error: 0.0457\n",
            "Epoch 468/500\n",
            "50/50 [==============================] - 0s 1ms/step - loss: 0.0054 - mean_absolute_error: 0.0540\n",
            "Epoch 469/500\n",
            "50/50 [==============================] - 0s 1ms/step - loss: 0.0030 - mean_absolute_error: 0.0427\n",
            "Epoch 470/500\n",
            "50/50 [==============================] - 0s 1ms/step - loss: 0.0030 - mean_absolute_error: 0.0408\n",
            "Epoch 471/500\n",
            "50/50 [==============================] - 0s 1ms/step - loss: 0.0036 - mean_absolute_error: 0.0492\n",
            "Epoch 472/500\n",
            "50/50 [==============================] - 0s 1ms/step - loss: 0.0038 - mean_absolute_error: 0.0435\n",
            "Epoch 473/500\n",
            "50/50 [==============================] - 0s 1ms/step - loss: 0.0047 - mean_absolute_error: 0.0480\n",
            "Epoch 474/500\n",
            "50/50 [==============================] - 0s 1ms/step - loss: 0.0033 - mean_absolute_error: 0.0424\n",
            "Epoch 475/500\n",
            "50/50 [==============================] - 0s 1ms/step - loss: 0.0055 - mean_absolute_error: 0.0526\n",
            "Epoch 476/500\n",
            "50/50 [==============================] - 0s 1ms/step - loss: 0.0055 - mean_absolute_error: 0.0567\n",
            "Epoch 477/500\n",
            "50/50 [==============================] - 0s 1ms/step - loss: 0.0037 - mean_absolute_error: 0.0488\n",
            "Epoch 478/500\n",
            "50/50 [==============================] - 0s 1ms/step - loss: 0.0045 - mean_absolute_error: 0.0520\n",
            "Epoch 479/500\n",
            "50/50 [==============================] - 0s 1ms/step - loss: 0.0031 - mean_absolute_error: 0.0423\n",
            "Epoch 480/500\n",
            "50/50 [==============================] - 0s 1ms/step - loss: 0.0029 - mean_absolute_error: 0.0419\n",
            "Epoch 481/500\n",
            "50/50 [==============================] - 0s 1ms/step - loss: 0.0054 - mean_absolute_error: 0.0552\n",
            "Epoch 482/500\n",
            "50/50 [==============================] - 0s 1ms/step - loss: 0.0039 - mean_absolute_error: 0.0467\n"
          ],
          "name": "stdout"
        },
        {
          "output_type": "execute_result",
          "data": {
            "text/plain": [
              "<keras.callbacks.callbacks.History at 0x7fbe4b075790>"
            ]
          },
          "metadata": {
            "tags": []
          },
          "execution_count": 13
        }
      ]
    },
    {
      "cell_type": "markdown",
      "metadata": {
        "id": "gwpyImwA3yon"
      },
      "source": [
        "## Parte 3 - Fazer as previsões e analisar os resultados"
      ]
    },
    {
      "cell_type": "markdown",
      "metadata": {
        "id": "wkXRvDjT4V-B"
      },
      "source": [
        "### Base de teste"
      ]
    },
    {
      "cell_type": "code",
      "metadata": {
        "id": "Bn_n72dh30K-"
      },
      "source": [
        "dataset_test = pd.read_csv('test.csv')\n",
        "test_pul = dataset_test.iloc[:, 1:2].values"
      ],
      "execution_count": 14,
      "outputs": []
    },
    {
      "cell_type": "markdown",
      "metadata": {
        "id": "EOo84exH4bfs"
      },
      "source": [
        "### Construir a estrutura para teste"
      ]
    },
    {
      "cell_type": "code",
      "metadata": {
        "id": "ob_-mGA_B5px"
      },
      "source": [
        "dataset_total = pd.concat((dataset_train.iloc[:,1], dataset_test.iloc[:,1]), axis = 0)\n",
        "testLength = len(dataset_test)\n",
        "inputs = dataset_total[len(dataset_total) - testLength - window:].values\n",
        "inputs = inputs.reshape(inputs.shape[0],1)\n",
        "\n",
        "inputs = sc.transform(inputs)\n",
        "X_test = []\n",
        "for i in range(window, inputs.shape[0]): \n",
        "    X_test.append(inputs[i-window:i, 0])\n",
        "X_test = np.array(X_test)\n",
        "\n",
        "X_test = np.reshape(X_test, (X_test.shape[0], X_test.shape[1], 1))"
      ],
      "execution_count": 15,
      "outputs": []
    },
    {
      "cell_type": "markdown",
      "metadata": {
        "id": "rtkB4NA74e1B"
      },
      "source": [
        "### Fazer as previsões"
      ]
    },
    {
      "cell_type": "code",
      "metadata": {
        "id": "nKIq1h-E4g9Z"
      },
      "source": [
        "predicted = regressor.predict(X_test)\n",
        "predicted = sc.inverse_transform(predicted)"
      ],
      "execution_count": 16,
      "outputs": []
    },
    {
      "cell_type": "markdown",
      "metadata": {
        "id": "guvk7yXr4o0g"
      },
      "source": [
        "### Visualizar os resultados de treino e teste"
      ]
    },
    {
      "cell_type": "code",
      "metadata": {
        "id": "tstXl2oS4rIo",
        "colab": {
          "base_uri": "https://localhost:8080/",
          "height": 295
        },
        "outputId": "6602d842-6d53-433a-8590-85fca89ca0b3"
      },
      "source": [
        "allTargetData = np.vstack((training_set, test_pul))\n",
        "training_predicted = regressor.predict(X_train)\n",
        "training_predicted = sc.inverse_transform(training_predicted)\n",
        "allForecastedData = np.vstack((training_set[0:window], training_predicted, predicted))\n",
        "plt.plot(allTargetData, color = 'red', label = 'Real')\n",
        "plt.plot(allForecastedData, color = 'blue', label = 'Previsto')\n",
        "plt.title('Previsão de série temporal')\n",
        "plt.xlabel('Tempo')\n",
        "plt.ylabel('Mortes')\n",
        "plt.legend()\n",
        "plt.savefig('predictions_training_test.svg')\n",
        "plt.show()"
      ],
      "execution_count": 17,
      "outputs": [
        {
          "output_type": "display_data",
          "data": {
            "image/png": "[encoded data removed]",
            "text/plain": [
              "<Figure size 432x288 with 1 Axes>"
            ]
          },
          "metadata": {
            "tags": [],
            "needs_background": "light"
          }
        }
      ]
    },
    {
      "cell_type": "markdown",
      "metadata": {
        "id": "ytEVhQht4we3"
      },
      "source": [
        "## Parte 4 - Métricas de avaliação"
      ]
    },
    {
      "cell_type": "code",
      "metadata": {
        "id": "rqOonVj64ydu",
        "colab": {
          "base_uri": "https://localhost:8080/"
        },
        "outputId": "eb8656b9-dccb-4fdb-f9d6-db62bd367fa3"
      },
      "source": [
        "import math\n",
        "from sklearn.metrics import mean_squared_error\n",
        "rmse = math.sqrt(mean_squared_error(test_pul, predicted))\n",
        "print('RMSE: ', rmse)"
      ],
      "execution_count": 18,
      "outputs": [
        {
          "output_type": "stream",
          "text": [
            "RMSE:  194.18578214072457\n"
          ],
          "name": "stdout"
        }
      ]
    },
    {
      "cell_type": "code",
      "metadata": {
        "id": "ODeley1K42WW",
        "colab": {
          "base_uri": "https://localhost:8080/"
        },
        "outputId": "6a48b8ab-24d1-43c8-e8e1-4b35eef81930"
      },
      "source": [
        "mse = mean_squared_error(test_pul, predicted)\n",
        "print('MSE: ',mse)"
      ],
      "execution_count": 19,
      "outputs": [
        {
          "output_type": "stream",
          "text": [
            "MSE:  37708.11798560495\n"
          ],
          "name": "stdout"
        }
      ]
    },
    {
      "cell_type": "code",
      "metadata": {
        "id": "L7_uU_8T44QA",
        "colab": {
          "base_uri": "https://localhost:8080/"
        },
        "outputId": "73ee5245-c485-4d98-9f70-ef95beb7b9f6"
      },
      "source": [
        "mape = np.mean(np.abs((test_pul - predicted) / test_pul)) * 100\n",
        "print('MAPE: ',mape, '%')"
      ],
      "execution_count": 20,
      "outputs": [
        {
          "output_type": "stream",
          "text": [
            "MAPE:  7.095523864600441 %\n"
          ],
          "name": "stdout"
        }
      ]
    },
    {
      "cell_type": "code",
      "metadata": {
        "id": "mgmtdSOq7rG0",
        "colab": {
          "base_uri": "https://localhost:8080/"
        },
        "outputId": "2c89b338-5aba-47a7-fb41-4d575de40eac"
      },
      "source": [
        "mae = mean_absolute_error(test_pul, predicted)\r\n",
        "print('MAE: ',mae)"
      ],
      "execution_count": 21,
      "outputs": [
        {
          "output_type": "stream",
          "text": [
            "MAE:  132.89250691731772\n"
          ],
          "name": "stdout"
        }
      ]
    }
  ]
}