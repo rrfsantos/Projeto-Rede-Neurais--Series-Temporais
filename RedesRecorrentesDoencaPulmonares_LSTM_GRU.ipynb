{
  "nbformat": 4,
  "nbformat_minor": 0,
  "metadata": {
    "colab": {
      "name": "RedesRecorrentesDoencaPulmonares_GRU.ipynb",
      "provenance": [],
      "collapsed_sections": [],
      "include_colab_link": true
    },
    "kernelspec": {
      "name": "python3",
      "display_name": "Python 3"
    },
    "accelerator": "TPU"
  },
  "cells": [
    {
      "cell_type": "markdown",
      "metadata": {
        "id": "view-in-github",
        "colab_type": "text"
      },
      "source": [
        "<a href=\"https://colab.research.google.com/github/rrfsantos/Projeto-Rede-Neurais-LSTM--Doencas-Pulmonares/blob/main/RedesRecorrentesDoencaPulmonares_LSTM_GRU.ipynb\" target=\"_parent\"><img src=\"https://colab.research.google.com/assets/colab-badge.svg\" alt=\"Open In Colab\"/></a>"
      ]
    },
    {
      "cell_type": "markdown",
      "metadata": {
        "id": "bgc8yb4c2W0g"
      },
      "source": [
        "# Recurrent Neural Network - LSTM e GRU\n"
      ]
    },
    {
      "cell_type": "markdown",
      "metadata": {
        "id": "aew2N81e35Uc"
      },
      "source": [
        "## Parte 1 - Pré-processamento de Dados"
      ]
    },
    {
      "cell_type": "markdown",
      "metadata": {
        "id": "Z0vulSxH2hHu"
      },
      "source": [
        "#### Importar as bibliotecas"
      ]
    },
    {
      "cell_type": "code",
      "metadata": {
        "id": "p2SjiqlE2O08"
      },
      "source": [
        "import tensorflow as tf\n",
        "import numpy as np\n",
        "import matplotlib.pyplot as plt\n",
        "import pandas as pd\n",
        "import os\n",
        "import math\n",
        "from sklearn.metrics import mean_squared_error\n",
        "from sklearn.preprocessing import MinMaxScaler\n",
        "from keras.models import Sequential\n",
        "from keras.layers import Dense\n",
        "from keras.layers import LSTM\n",
        "from keras.layers import Dropout\n",
        "from keras.layers import GRU\n",
        "from sklearn.metrics import mean_absolute_error\n",
        "from keras.callbacks import EarlyStopping, ReduceLROnPlateau, ModelCheckpoint\n",
        "from keras.optimizers import Adam, SGD\n",
        "np.random.seed(0)"
      ],
      "execution_count": null,
      "outputs": []
    },
    {
      "cell_type": "code",
      "metadata": {
        "colab": {
          "base_uri": "https://localhost:8080/"
        },
        "id": "wuUiTfamNr8B",
        "outputId": "9d74b270-0f3b-4173-b61b-a0aa3f9721f7"
      },
      "source": [
        "from google.colab import drive\n",
        "drive.mount('/content/drive')\n",
        "\n",
        "import os\n",
        "workdir_path = '/content/drive/My Drive/Trabalho Redes Neurais/'  # Inserir o local da pasta onde estão os arquivos de entrada (treino e teste)\n",
        "os.chdir(workdir_path)"
      ],
      "execution_count": null,
      "outputs": [
        {
          "output_type": "stream",
          "text": [
            "Drive already mounted at /content/drive; to attempt to forcibly remount, call drive.mount(\"/content/drive\", force_remount=True).\n"
          ],
          "name": "stdout"
        }
      ]
    },
    {
      "cell_type": "markdown",
      "metadata": {
        "id": "36Q16Udt2l3W"
      },
      "source": [
        "#### Importar a base de dados"
      ]
    },
    {
      "cell_type": "code",
      "metadata": {
        "id": "1ivhnWxD2eEG"
      },
      "source": [
        "dataset_train = pd.read_csv('train.csv')\n",
        "training_set = dataset_train.iloc[:, 1:2].values #só coluna da série em si"
      ],
      "execution_count": null,
      "outputs": []
    },
    {
      "cell_type": "markdown",
      "metadata": {
        "id": "kd39T1zK2ql1"
      },
      "source": [
        "#### Gráfico da série temporal"
      ]
    },
    {
      "cell_type": "code",
      "metadata": {
        "id": "vMsAFuya2rhr",
        "colab": {
          "base_uri": "https://localhost:8080/",
          "height": 295
        },
        "outputId": "4f081ba5-4744-4de6-f919-b263c12b45d7"
      },
      "source": [
        "plt.plot(training_set)\n",
        "plt.xlabel(\"Tempo\")\n",
        "plt.ylabel(\"Numero Mortes\")\n",
        "plt.title(\"Doenças pulmonares\")\n",
        "plt.show()"
      ],
      "execution_count": null,
      "outputs": [
        {
          "output_type": "display_data",
          "data": {
            "image/png": "[encoded data removed]",
            "text/plain": [
              "<Figure size 432x288 with 1 Axes>"
            ]
          },
          "metadata": {
            "tags": [],
            "needs_background": "light"
          }
        }
      ]
    },
    {
      "cell_type": "markdown",
      "metadata": {
        "id": "7p1F7HdB2uJU"
      },
      "source": [
        "#### Normalização"
      ]
    },
    {
      "cell_type": "code",
      "metadata": {
        "id": "foeHRZr-2u-L"
      },
      "source": [
        "sc = MinMaxScaler(feature_range = (0, 1))\n",
        "training_set_scaled = sc.fit_transform(training_set)"
      ],
      "execution_count": null,
      "outputs": []
    },
    {
      "cell_type": "markdown",
      "metadata": {
        "id": "fZhjp7Tf282b"
      },
      "source": [
        "## Parte 2 - LSTM"
      ]
    },
    {
      "cell_type": "markdown",
      "metadata": {
        "id": "uQP8Q7MI21Y9"
      },
      "source": [
        "#### Criar a estrutura de dados com janela 15 e output 1"
      ]
    },
    {
      "cell_type": "code",
      "metadata": {
        "id": "C6Ge9ql922cb"
      },
      "source": [
        "window = 15\n",
        "trainSize = len(training_set_scaled)\n",
        "X_train = []\n",
        "y_train = []\n",
        "for i in range(window, trainSize):\n",
        "    X_train.append(training_set_scaled[i-window:i, 0])\n",
        "    y_train.append(training_set_scaled[i, 0])\n",
        "X_train, y_train = np.array(X_train), np.array(y_train)"
      ],
      "execution_count": null,
      "outputs": []
    },
    {
      "cell_type": "markdown",
      "metadata": {
        "id": "LPBC2LoG24dU"
      },
      "source": [
        "#### Reshaping"
      ]
    },
    {
      "cell_type": "code",
      "metadata": {
        "id": "oGwgQUDbdmnS",
        "colab": {
          "base_uri": "https://localhost:8080/"
        },
        "outputId": "5282206e-1701-46bf-e318-4b861d34b11c"
      },
      "source": [
        "X_train.shape"
      ],
      "execution_count": null,
      "outputs": [
        {
          "output_type": "execute_result",
          "data": {
            "text/plain": [
              "(45, 15)"
            ]
          },
          "metadata": {
            "tags": []
          },
          "execution_count": 7
        }
      ]
    },
    {
      "cell_type": "code",
      "metadata": {
        "id": "b9ZfLlGH25fr"
      },
      "source": [
        "X_train = np.reshape(X_train, (X_train.shape[0], X_train.shape[1], 1))"
      ],
      "execution_count": null,
      "outputs": []
    },
    {
      "cell_type": "code",
      "metadata": {
        "id": "RxU0axM9diHO",
        "colab": {
          "base_uri": "https://localhost:8080/"
        },
        "outputId": "3c21bca9-8b4f-4101-c764-43c2677566c8"
      },
      "source": [
        "X_train.shape"
      ],
      "execution_count": null,
      "outputs": [
        {
          "output_type": "execute_result",
          "data": {
            "text/plain": [
              "(45, 15, 1)"
            ]
          },
          "metadata": {
            "tags": []
          },
          "execution_count": 9
        }
      ]
    },
    {
      "cell_type": "markdown",
      "metadata": {
        "id": "kordpD0_3H7b"
      },
      "source": [
        "#### Variáveis"
      ]
    },
    {
      "cell_type": "code",
      "metadata": {
        "id": "0IpoYXvbpUPc"
      },
      "source": [
        "num_epoch = 500\n",
        "learning_rate = 0.01\n",
        "batch_size = 32"
      ],
      "execution_count": null,
      "outputs": []
    },
    {
      "cell_type": "markdown",
      "metadata": {
        "id": "UZkgV3ae_AtL"
      },
      "source": [
        "#### Callbacks"
      ]
    },
    {
      "cell_type": "code",
      "metadata": {
        "id": "y3H5AiUspY2h"
      },
      "source": [
        "#es = EarlyStopping(monitor=\"val_loss\", min_delta = 0.00001, patience = 100, mode = 'min', restore_best_weights=True, verbose = True)\n",
        "rlr = ReduceLROnPlateau(monitor='loss', patience=50, mode = 'min', factor=0.1, verbose = True)\n",
        "#mc = ModelCheckpoint(filepath= 'best_lstm_{epoch:03d}-{val_loss:.4f}.h5', save_best_only=True, verbose = True)"
      ],
      "execution_count": null,
      "outputs": []
    },
    {
      "cell_type": "markdown",
      "metadata": {
        "id": "EAg7INQG_dAH"
      },
      "source": [
        "#### Otimizadores"
      ]
    },
    {
      "cell_type": "code",
      "metadata": {
        "id": "KuswkZQT_X_j"
      },
      "source": [
        "adam = Adam(lr=learning_rate, decay=1e-7)\n",
        "#sgd = SGD(lr=learning_rate, decay=1e-7, momentum=0.9, nesterov=False)"
      ],
      "execution_count": null,
      "outputs": []
    },
    {
      "cell_type": "markdown",
      "metadata": {
        "id": "F4AaDusW_oat"
      },
      "source": [
        "#### Construção da Rede LSTM"
      ]
    },
    {
      "cell_type": "code",
      "metadata": {
        "id": "EskB17uo3Iso",
        "colab": {
          "base_uri": "https://localhost:8080/"
        },
        "outputId": "4f698f7a-c9f7-4e35-94c8-62a62a4a3718"
      },
      "source": [
        "# Inicializar a RNN\n",
        "regressor = Sequential()\n",
        "\n",
        "# Adicionar a primeira camada LSTM e Dropout \n",
        "regressor.add(LSTM(units = 50, return_sequences = False, input_shape = (X_train.shape[1], 1)))\n",
        "regressor.add(Dropout(0.2))\n",
        " \n",
        "# Adicionar a segunda camada LSTM e Dropout\n",
        "#regressor.add(LSTM(units = 80, return_sequences = True))\n",
        "#regressor.add(Dropout(0.2))\n",
        " \n",
        "# Adicionar a terceira camada LSTM e Dropout\n",
        "#regressor.add(LSTM(units = 50))\n",
        "#regressor.add(Dropout(0.2))\n",
        "\n",
        "# camada de saída\n",
        "regressor.add(Dense(units = 1))\n",
        " \n",
        "# Compilar a rede\n",
        "regressor.compile(optimizer = adam, loss = 'mean_squared_error', metrics = ['mean_absolute_error'])\n",
        "\n",
        "# Visualizar a rede\n",
        "regressor.summary()"
      ],
      "execution_count": null,
      "outputs": [
        {
          "output_type": "stream",
          "text": [
            "Model: \"sequential\"\n",
            "_________________________________________________________________\n",
            "Layer (type)                 Output Shape              Param #   \n",
            "=================================================================\n",
            "lstm (LSTM)                  (None, 50)                10400     \n",
            "_________________________________________________________________\n",
            "dropout (Dropout)            (None, 50)                0         \n",
            "_________________________________________________________________\n",
            "dense (Dense)                (None, 1)                 51        \n",
            "=================================================================\n",
            "Total params: 10,451\n",
            "Trainable params: 10,451\n",
            "Non-trainable params: 0\n",
            "_________________________________________________________________\n"
          ],
          "name": "stdout"
        }
      ]
    },
    {
      "cell_type": "markdown",
      "metadata": {
        "id": "5j1w28g83iSR"
      },
      "source": [
        "#### Treinamento"
      ]
    },
    {
      "cell_type": "code",
      "metadata": {
        "id": "xWKAuKyp3jXv",
        "colab": {
          "base_uri": "https://localhost:8080/"
        },
        "outputId": "9ec3205d-9ec3-4431-afe9-5b86b496f237"
      },
      "source": [
        "regressor.fit(X_train, y_train, epochs = num_epoch, batch_size = batch_size,  callbacks = [rlr])"
      ],
      "execution_count": null,
      "outputs": [
        {
          "output_type": "stream",
          "text": [
            "Epoch 1/500\n",
            "2/2 [==============================] - 2s 14ms/step - loss: 0.1509 - mean_absolute_error: 0.3157\n",
            "Epoch 2/500\n",
            "2/2 [==============================] - 0s 11ms/step - loss: 0.0924 - mean_absolute_error: 0.2713\n",
            "Epoch 3/500\n",
            "2/2 [==============================] - 0s 12ms/step - loss: 0.0663 - mean_absolute_error: 0.2092\n",
            "Epoch 4/500\n",
            "2/2 [==============================] - 0s 10ms/step - loss: 0.0682 - mean_absolute_error: 0.1860\n",
            "Epoch 5/500\n",
            "2/2 [==============================] - 0s 10ms/step - loss: 0.0579 - mean_absolute_error: 0.1815\n",
            "Epoch 6/500\n",
            "2/2 [==============================] - 0s 9ms/step - loss: 0.0546 - mean_absolute_error: 0.1903\n",
            "Epoch 7/500\n",
            "2/2 [==============================] - 0s 10ms/step - loss: 0.0510 - mean_absolute_error: 0.1913\n",
            "Epoch 8/500\n",
            "2/2 [==============================] - 0s 10ms/step - loss: 0.0527 - mean_absolute_error: 0.1990\n",
            "Epoch 9/500\n",
            "2/2 [==============================] - 0s 10ms/step - loss: 0.0450 - mean_absolute_error: 0.1828\n",
            "Epoch 10/500\n",
            "2/2 [==============================] - 0s 11ms/step - loss: 0.0462 - mean_absolute_error: 0.1799\n",
            "Epoch 11/500\n",
            "2/2 [==============================] - 0s 12ms/step - loss: 0.0399 - mean_absolute_error: 0.1687\n",
            "Epoch 12/500\n",
            "2/2 [==============================] - 0s 10ms/step - loss: 0.0450 - mean_absolute_error: 0.1763\n",
            "Epoch 13/500\n",
            "2/2 [==============================] - 0s 12ms/step - loss: 0.0404 - mean_absolute_error: 0.1609\n",
            "Epoch 14/500\n",
            "2/2 [==============================] - 0s 11ms/step - loss: 0.0369 - mean_absolute_error: 0.1632\n",
            "Epoch 15/500\n",
            "2/2 [==============================] - 0s 15ms/step - loss: 0.0333 - mean_absolute_error: 0.1413\n",
            "Epoch 16/500\n",
            "2/2 [==============================] - 0s 10ms/step - loss: 0.0320 - mean_absolute_error: 0.1387\n",
            "Epoch 17/500\n",
            "2/2 [==============================] - 0s 12ms/step - loss: 0.0244 - mean_absolute_error: 0.1262\n",
            "Epoch 18/500\n",
            "2/2 [==============================] - 0s 11ms/step - loss: 0.0217 - mean_absolute_error: 0.1173\n",
            "Epoch 19/500\n",
            "2/2 [==============================] - 0s 11ms/step - loss: 0.0202 - mean_absolute_error: 0.1055\n",
            "Epoch 20/500\n",
            "2/2 [==============================] - 0s 11ms/step - loss: 0.0168 - mean_absolute_error: 0.1000\n",
            "Epoch 21/500\n",
            "2/2 [==============================] - 0s 11ms/step - loss: 0.0294 - mean_absolute_error: 0.1292\n",
            "Epoch 22/500\n",
            "2/2 [==============================] - 0s 16ms/step - loss: 0.0126 - mean_absolute_error: 0.0861\n",
            "Epoch 23/500\n",
            "2/2 [==============================] - 0s 13ms/step - loss: 0.0134 - mean_absolute_error: 0.0833\n",
            "Epoch 24/500\n",
            "2/2 [==============================] - 0s 18ms/step - loss: 0.0178 - mean_absolute_error: 0.0946\n",
            "Epoch 25/500\n",
            "2/2 [==============================] - 0s 16ms/step - loss: 0.0155 - mean_absolute_error: 0.0949\n",
            "Epoch 26/500\n",
            "2/2 [==============================] - 0s 16ms/step - loss: 0.0181 - mean_absolute_error: 0.0979\n",
            "Epoch 27/500\n",
            "2/2 [==============================] - 0s 17ms/step - loss: 0.0157 - mean_absolute_error: 0.0904\n",
            "Epoch 28/500\n",
            "2/2 [==============================] - 0s 14ms/step - loss: 0.0149 - mean_absolute_error: 0.0860\n",
            "Epoch 29/500\n",
            "2/2 [==============================] - 0s 14ms/step - loss: 0.0111 - mean_absolute_error: 0.0822\n",
            "Epoch 30/500\n",
            "2/2 [==============================] - 0s 11ms/step - loss: 0.0161 - mean_absolute_error: 0.0903\n",
            "Epoch 31/500\n",
            "2/2 [==============================] - 0s 12ms/step - loss: 0.0127 - mean_absolute_error: 0.0780\n",
            "Epoch 32/500\n",
            "2/2 [==============================] - 0s 11ms/step - loss: 0.0177 - mean_absolute_error: 0.0922\n",
            "Epoch 33/500\n",
            "2/2 [==============================] - 0s 14ms/step - loss: 0.0101 - mean_absolute_error: 0.0724\n",
            "Epoch 34/500\n",
            "2/2 [==============================] - 0s 11ms/step - loss: 0.0109 - mean_absolute_error: 0.0699\n",
            "Epoch 35/500\n",
            "2/2 [==============================] - 0s 15ms/step - loss: 0.0118 - mean_absolute_error: 0.0762\n",
            "Epoch 36/500\n",
            "2/2 [==============================] - 0s 12ms/step - loss: 0.0104 - mean_absolute_error: 0.0673\n",
            "Epoch 37/500\n",
            "2/2 [==============================] - 0s 12ms/step - loss: 0.0144 - mean_absolute_error: 0.0862\n",
            "Epoch 38/500\n",
            "2/2 [==============================] - 0s 13ms/step - loss: 0.0155 - mean_absolute_error: 0.0880\n",
            "Epoch 39/500\n",
            "2/2 [==============================] - 0s 16ms/step - loss: 0.0147 - mean_absolute_error: 0.0814\n",
            "Epoch 40/500\n",
            "2/2 [==============================] - 0s 17ms/step - loss: 0.0117 - mean_absolute_error: 0.0751\n",
            "Epoch 41/500\n",
            "2/2 [==============================] - 0s 12ms/step - loss: 0.0159 - mean_absolute_error: 0.0811\n",
            "Epoch 42/500\n",
            "2/2 [==============================] - 0s 11ms/step - loss: 0.0163 - mean_absolute_error: 0.0883\n",
            "Epoch 43/500\n",
            "2/2 [==============================] - 0s 11ms/step - loss: 0.0141 - mean_absolute_error: 0.0807\n",
            "Epoch 44/500\n",
            "2/2 [==============================] - 0s 13ms/step - loss: 0.0139 - mean_absolute_error: 0.0820\n",
            "Epoch 45/500\n",
            "2/2 [==============================] - 0s 13ms/step - loss: 0.0118 - mean_absolute_error: 0.0710\n",
            "Epoch 46/500\n",
            "2/2 [==============================] - 0s 11ms/step - loss: 0.0132 - mean_absolute_error: 0.0800\n",
            "Epoch 47/500\n",
            "2/2 [==============================] - 0s 12ms/step - loss: 0.0095 - mean_absolute_error: 0.0664\n",
            "Epoch 48/500\n",
            "2/2 [==============================] - 0s 11ms/step - loss: 0.0105 - mean_absolute_error: 0.0720\n",
            "Epoch 49/500\n",
            "2/2 [==============================] - 0s 12ms/step - loss: 0.0155 - mean_absolute_error: 0.0798\n",
            "Epoch 50/500\n",
            "2/2 [==============================] - 0s 11ms/step - loss: 0.0066 - mean_absolute_error: 0.0580\n",
            "Epoch 51/500\n",
            "2/2 [==============================] - 0s 12ms/step - loss: 0.0107 - mean_absolute_error: 0.0669\n",
            "Epoch 52/500\n",
            "2/2 [==============================] - 0s 12ms/step - loss: 0.0111 - mean_absolute_error: 0.0659\n",
            "Epoch 53/500\n",
            "2/2 [==============================] - 0s 12ms/step - loss: 0.0106 - mean_absolute_error: 0.0669\n",
            "Epoch 54/500\n",
            "2/2 [==============================] - 0s 12ms/step - loss: 0.0099 - mean_absolute_error: 0.0703\n",
            "Epoch 55/500\n",
            "2/2 [==============================] - 0s 14ms/step - loss: 0.0098 - mean_absolute_error: 0.0623\n",
            "Epoch 56/500\n",
            "2/2 [==============================] - 0s 14ms/step - loss: 0.0108 - mean_absolute_error: 0.0608\n",
            "Epoch 57/500\n",
            "2/2 [==============================] - 0s 15ms/step - loss: 0.0125 - mean_absolute_error: 0.0706\n",
            "Epoch 58/500\n",
            "2/2 [==============================] - 0s 13ms/step - loss: 0.0093 - mean_absolute_error: 0.0646\n",
            "Epoch 59/500\n",
            "2/2 [==============================] - 0s 12ms/step - loss: 0.0122 - mean_absolute_error: 0.0732\n",
            "Epoch 60/500\n",
            "2/2 [==============================] - 0s 14ms/step - loss: 0.0094 - mean_absolute_error: 0.0652\n",
            "Epoch 61/500\n",
            "2/2 [==============================] - 0s 11ms/step - loss: 0.0088 - mean_absolute_error: 0.0629\n",
            "Epoch 62/500\n",
            "2/2 [==============================] - 0s 13ms/step - loss: 0.0082 - mean_absolute_error: 0.0620\n",
            "Epoch 63/500\n",
            "2/2 [==============================] - 0s 15ms/step - loss: 0.0107 - mean_absolute_error: 0.0659\n",
            "Epoch 64/500\n",
            "2/2 [==============================] - 0s 13ms/step - loss: 0.0152 - mean_absolute_error: 0.0841\n",
            "Epoch 65/500\n",
            "2/2 [==============================] - 0s 11ms/step - loss: 0.0104 - mean_absolute_error: 0.0744\n",
            "Epoch 66/500\n",
            "2/2 [==============================] - 0s 13ms/step - loss: 0.0101 - mean_absolute_error: 0.0716\n",
            "Epoch 67/500\n",
            "2/2 [==============================] - 0s 13ms/step - loss: 0.0128 - mean_absolute_error: 0.0732\n",
            "Epoch 68/500\n",
            "2/2 [==============================] - 0s 12ms/step - loss: 0.0106 - mean_absolute_error: 0.0710\n",
            "Epoch 69/500\n",
            "2/2 [==============================] - 0s 12ms/step - loss: 0.0094 - mean_absolute_error: 0.0623\n",
            "Epoch 70/500\n",
            "2/2 [==============================] - 0s 11ms/step - loss: 0.0094 - mean_absolute_error: 0.0700\n",
            "Epoch 71/500\n",
            "2/2 [==============================] - 0s 13ms/step - loss: 0.0071 - mean_absolute_error: 0.0638\n",
            "Epoch 72/500\n",
            "2/2 [==============================] - 0s 14ms/step - loss: 0.0094 - mean_absolute_error: 0.0653\n",
            "Epoch 73/500\n",
            "2/2 [==============================] - 0s 12ms/step - loss: 0.0125 - mean_absolute_error: 0.0700\n",
            "Epoch 74/500\n",
            "2/2 [==============================] - 0s 11ms/step - loss: 0.0099 - mean_absolute_error: 0.0683\n",
            "Epoch 75/500\n",
            "2/2 [==============================] - 0s 15ms/step - loss: 0.0131 - mean_absolute_error: 0.0745\n",
            "Epoch 76/500\n",
            "2/2 [==============================] - 0s 12ms/step - loss: 0.0105 - mean_absolute_error: 0.0736\n",
            "Epoch 77/500\n",
            "2/2 [==============================] - 0s 13ms/step - loss: 0.0118 - mean_absolute_error: 0.0835\n",
            "Epoch 78/500\n",
            "2/2 [==============================] - 0s 12ms/step - loss: 0.0087 - mean_absolute_error: 0.0575\n",
            "Epoch 79/500\n",
            "2/2 [==============================] - 0s 11ms/step - loss: 0.0118 - mean_absolute_error: 0.0759\n",
            "Epoch 80/500\n",
            "2/2 [==============================] - 0s 11ms/step - loss: 0.0114 - mean_absolute_error: 0.0722\n",
            "Epoch 81/500\n",
            "2/2 [==============================] - 0s 11ms/step - loss: 0.0135 - mean_absolute_error: 0.0787\n",
            "Epoch 82/500\n",
            "2/2 [==============================] - 0s 12ms/step - loss: 0.0076 - mean_absolute_error: 0.0594\n",
            "Epoch 83/500\n",
            "2/2 [==============================] - 0s 12ms/step - loss: 0.0105 - mean_absolute_error: 0.0711\n",
            "Epoch 84/500\n",
            "2/2 [==============================] - 0s 13ms/step - loss: 0.0112 - mean_absolute_error: 0.0667\n",
            "Epoch 85/500\n",
            "2/2 [==============================] - 0s 14ms/step - loss: 0.0100 - mean_absolute_error: 0.0608\n",
            "Epoch 86/500\n",
            "2/2 [==============================] - 0s 12ms/step - loss: 0.0101 - mean_absolute_error: 0.0623\n",
            "Epoch 87/500\n",
            "2/2 [==============================] - 0s 13ms/step - loss: 0.0094 - mean_absolute_error: 0.0670\n",
            "Epoch 88/500\n",
            "2/2 [==============================] - 0s 13ms/step - loss: 0.0093 - mean_absolute_error: 0.0684\n",
            "Epoch 89/500\n",
            "2/2 [==============================] - 0s 15ms/step - loss: 0.0146 - mean_absolute_error: 0.0739\n",
            "Epoch 90/500\n",
            "2/2 [==============================] - 0s 11ms/step - loss: 0.0107 - mean_absolute_error: 0.0695\n",
            "Epoch 91/500\n",
            "2/2 [==============================] - 0s 12ms/step - loss: 0.0132 - mean_absolute_error: 0.0778\n",
            "Epoch 92/500\n",
            "2/2 [==============================] - 0s 19ms/step - loss: 0.0116 - mean_absolute_error: 0.0699\n",
            "Epoch 93/500\n",
            "2/2 [==============================] - 0s 14ms/step - loss: 0.0080 - mean_absolute_error: 0.0604\n",
            "Epoch 94/500\n",
            "2/2 [==============================] - 0s 12ms/step - loss: 0.0062 - mean_absolute_error: 0.0585\n",
            "Epoch 95/500\n",
            "2/2 [==============================] - 0s 11ms/step - loss: 0.0100 - mean_absolute_error: 0.0681\n",
            "Epoch 96/500\n",
            "2/2 [==============================] - 0s 10ms/step - loss: 0.0115 - mean_absolute_error: 0.0735\n",
            "Epoch 97/500\n",
            "2/2 [==============================] - 0s 12ms/step - loss: 0.0152 - mean_absolute_error: 0.0839\n",
            "Epoch 98/500\n",
            "2/2 [==============================] - 0s 12ms/step - loss: 0.0096 - mean_absolute_error: 0.0585\n",
            "Epoch 99/500\n",
            "2/2 [==============================] - 0s 17ms/step - loss: 0.0087 - mean_absolute_error: 0.0629\n",
            "Epoch 100/500\n",
            "2/2 [==============================] - 0s 11ms/step - loss: 0.0114 - mean_absolute_error: 0.0671\n",
            "Epoch 101/500\n",
            "2/2 [==============================] - 0s 13ms/step - loss: 0.0107 - mean_absolute_error: 0.0641\n",
            "Epoch 102/500\n",
            "2/2 [==============================] - 0s 11ms/step - loss: 0.0115 - mean_absolute_error: 0.0726\n",
            "Epoch 103/500\n",
            "2/2 [==============================] - 0s 12ms/step - loss: 0.0106 - mean_absolute_error: 0.0619\n",
            "Epoch 104/500\n",
            "2/2 [==============================] - 0s 12ms/step - loss: 0.0123 - mean_absolute_error: 0.0738\n",
            "Epoch 105/500\n",
            "2/2 [==============================] - 0s 11ms/step - loss: 0.0155 - mean_absolute_error: 0.0820\n",
            "Epoch 106/500\n",
            "2/2 [==============================] - 0s 15ms/step - loss: 0.0144 - mean_absolute_error: 0.0765\n",
            "Epoch 107/500\n",
            "2/2 [==============================] - 0s 12ms/step - loss: 0.0137 - mean_absolute_error: 0.0729\n",
            "Epoch 108/500\n",
            "2/2 [==============================] - 0s 13ms/step - loss: 0.0098 - mean_absolute_error: 0.0620\n",
            "Epoch 109/500\n",
            "2/2 [==============================] - 0s 13ms/step - loss: 0.0077 - mean_absolute_error: 0.0631\n",
            "Epoch 110/500\n",
            "2/2 [==============================] - 0s 12ms/step - loss: 0.0130 - mean_absolute_error: 0.0799\n",
            "Epoch 111/500\n",
            "2/2 [==============================] - 0s 13ms/step - loss: 0.0116 - mean_absolute_error: 0.0764\n",
            "Epoch 112/500\n",
            "2/2 [==============================] - 0s 12ms/step - loss: 0.0088 - mean_absolute_error: 0.0682\n",
            "Epoch 113/500\n",
            "2/2 [==============================] - 0s 11ms/step - loss: 0.0075 - mean_absolute_error: 0.0658\n",
            "Epoch 114/500\n",
            "2/2 [==============================] - 0s 13ms/step - loss: 0.0120 - mean_absolute_error: 0.0760\n",
            "Epoch 115/500\n",
            "2/2 [==============================] - 0s 12ms/step - loss: 0.0116 - mean_absolute_error: 0.0723\n",
            "Epoch 116/500\n",
            "2/2 [==============================] - 0s 11ms/step - loss: 0.0062 - mean_absolute_error: 0.0537\n",
            "Epoch 117/500\n",
            "2/2 [==============================] - 0s 12ms/step - loss: 0.0102 - mean_absolute_error: 0.0685\n",
            "Epoch 118/500\n",
            "2/2 [==============================] - 0s 18ms/step - loss: 0.0114 - mean_absolute_error: 0.0656\n",
            "Epoch 119/500\n",
            "2/2 [==============================] - 0s 15ms/step - loss: 0.0115 - mean_absolute_error: 0.0612\n",
            "Epoch 120/500\n",
            "2/2 [==============================] - 0s 15ms/step - loss: 0.0084 - mean_absolute_error: 0.0605\n",
            "Epoch 121/500\n",
            "2/2 [==============================] - 0s 14ms/step - loss: 0.0095 - mean_absolute_error: 0.0581\n",
            "Epoch 122/500\n",
            "2/2 [==============================] - 0s 13ms/step - loss: 0.0091 - mean_absolute_error: 0.0651\n",
            "Epoch 123/500\n",
            "2/2 [==============================] - 0s 12ms/step - loss: 0.0076 - mean_absolute_error: 0.0603\n",
            "Epoch 124/500\n",
            "2/2 [==============================] - 0s 13ms/step - loss: 0.0106 - mean_absolute_error: 0.0708\n",
            "Epoch 125/500\n",
            "2/2 [==============================] - 0s 12ms/step - loss: 0.0091 - mean_absolute_error: 0.0632\n",
            "Epoch 126/500\n",
            "2/2 [==============================] - 0s 12ms/step - loss: 0.0107 - mean_absolute_error: 0.0698\n",
            "Epoch 127/500\n",
            "2/2 [==============================] - 0s 13ms/step - loss: 0.0096 - mean_absolute_error: 0.0628\n",
            "Epoch 128/500\n",
            "2/2 [==============================] - 0s 17ms/step - loss: 0.0135 - mean_absolute_error: 0.0748\n",
            "Epoch 129/500\n",
            "2/2 [==============================] - 0s 12ms/step - loss: 0.0083 - mean_absolute_error: 0.0638\n",
            "Epoch 130/500\n",
            "2/2 [==============================] - 0s 17ms/step - loss: 0.0117 - mean_absolute_error: 0.0762\n",
            "Epoch 131/500\n",
            "2/2 [==============================] - 0s 13ms/step - loss: 0.0096 - mean_absolute_error: 0.0655\n",
            "Epoch 132/500\n",
            "2/2 [==============================] - 0s 15ms/step - loss: 0.0098 - mean_absolute_error: 0.0692\n",
            "Epoch 133/500\n",
            "2/2 [==============================] - 0s 11ms/step - loss: 0.0105 - mean_absolute_error: 0.0676\n",
            "Epoch 134/500\n",
            "2/2 [==============================] - 0s 14ms/step - loss: 0.0094 - mean_absolute_error: 0.0575\n",
            "Epoch 135/500\n",
            "2/2 [==============================] - 0s 15ms/step - loss: 0.0098 - mean_absolute_error: 0.0705\n",
            "Epoch 136/500\n",
            "2/2 [==============================] - 0s 13ms/step - loss: 0.0104 - mean_absolute_error: 0.0715\n",
            "Epoch 137/500\n",
            "2/2 [==============================] - 0s 15ms/step - loss: 0.0105 - mean_absolute_error: 0.0648\n",
            "Epoch 138/500\n",
            "2/2 [==============================] - 0s 15ms/step - loss: 0.0088 - mean_absolute_error: 0.0639\n",
            "Epoch 139/500\n",
            "2/2 [==============================] - 0s 13ms/step - loss: 0.0104 - mean_absolute_error: 0.0700\n",
            "Epoch 140/500\n",
            "2/2 [==============================] - 0s 13ms/step - loss: 0.0099 - mean_absolute_error: 0.0618\n",
            "Epoch 141/500\n",
            "2/2 [==============================] - 0s 12ms/step - loss: 0.0130 - mean_absolute_error: 0.0728\n",
            "Epoch 142/500\n",
            "2/2 [==============================] - 0s 15ms/step - loss: 0.0113 - mean_absolute_error: 0.0662\n",
            "Epoch 143/500\n",
            "2/2 [==============================] - 0s 17ms/step - loss: 0.0097 - mean_absolute_error: 0.0626\n",
            "Epoch 144/500\n",
            "2/2 [==============================] - 0s 13ms/step - loss: 0.0104 - mean_absolute_error: 0.0689\n",
            "Epoch 145/500\n",
            "2/2 [==============================] - 0s 13ms/step - loss: 0.0066 - mean_absolute_error: 0.0525\n",
            "Epoch 146/500\n",
            "2/2 [==============================] - 0s 18ms/step - loss: 0.0110 - mean_absolute_error: 0.0700\n",
            "Epoch 147/500\n",
            "2/2 [==============================] - 0s 13ms/step - loss: 0.0118 - mean_absolute_error: 0.0683\n",
            "Epoch 148/500\n",
            "2/2 [==============================] - 0s 12ms/step - loss: 0.0118 - mean_absolute_error: 0.0754\n",
            "Epoch 149/500\n",
            "2/2 [==============================] - 0s 12ms/step - loss: 0.0101 - mean_absolute_error: 0.0613\n",
            "Epoch 150/500\n",
            "2/2 [==============================] - 0s 14ms/step - loss: 0.0116 - mean_absolute_error: 0.0677\n",
            "Epoch 151/500\n",
            "2/2 [==============================] - 0s 12ms/step - loss: 0.0111 - mean_absolute_error: 0.0657\n",
            "Epoch 152/500\n",
            "2/2 [==============================] - 0s 14ms/step - loss: 0.0116 - mean_absolute_error: 0.0677\n",
            "Epoch 153/500\n",
            "2/2 [==============================] - 0s 28ms/step - loss: 0.0091 - mean_absolute_error: 0.0616\n",
            "Epoch 154/500\n",
            "2/2 [==============================] - 0s 14ms/step - loss: 0.0103 - mean_absolute_error: 0.0613\n",
            "Epoch 155/500\n",
            "2/2 [==============================] - 0s 14ms/step - loss: 0.0087 - mean_absolute_error: 0.0649\n",
            "Epoch 156/500\n",
            "2/2 [==============================] - 0s 18ms/step - loss: 0.0079 - mean_absolute_error: 0.0550\n",
            "Epoch 157/500\n",
            "2/2 [==============================] - 0s 13ms/step - loss: 0.0093 - mean_absolute_error: 0.0665\n",
            "Epoch 158/500\n",
            "2/2 [==============================] - 0s 23ms/step - loss: 0.0096 - mean_absolute_error: 0.0655\n",
            "Epoch 159/500\n",
            "2/2 [==============================] - 0s 13ms/step - loss: 0.0093 - mean_absolute_error: 0.0617\n",
            "Epoch 160/500\n",
            "2/2 [==============================] - 0s 13ms/step - loss: 0.0115 - mean_absolute_error: 0.0675\n",
            "Epoch 161/500\n",
            "2/2 [==============================] - 0s 14ms/step - loss: 0.0089 - mean_absolute_error: 0.0605\n",
            "Epoch 162/500\n",
            "2/2 [==============================] - 0s 12ms/step - loss: 0.0080 - mean_absolute_error: 0.0578\n",
            "Epoch 163/500\n",
            "2/2 [==============================] - 0s 12ms/step - loss: 0.0117 - mean_absolute_error: 0.0658\n",
            "Epoch 164/500\n",
            "2/2 [==============================] - 0s 16ms/step - loss: 0.0092 - mean_absolute_error: 0.0630\n",
            "Epoch 165/500\n",
            "2/2 [==============================] - 0s 13ms/step - loss: 0.0084 - mean_absolute_error: 0.0624\n",
            "Epoch 166/500\n",
            "2/2 [==============================] - 0s 12ms/step - loss: 0.0090 - mean_absolute_error: 0.0623\n",
            "\n",
            "Epoch 00166: ReduceLROnPlateau reducing learning rate to 0.0009999999776482583.\n",
            "Epoch 167/500\n",
            "2/2 [==============================] - 0s 13ms/step - loss: 0.0098 - mean_absolute_error: 0.0655\n",
            "Epoch 168/500\n",
            "2/2 [==============================] - 0s 11ms/step - loss: 0.0095 - mean_absolute_error: 0.0601\n",
            "Epoch 169/500\n",
            "2/2 [==============================] - 0s 14ms/step - loss: 0.0112 - mean_absolute_error: 0.0684\n",
            "Epoch 170/500\n",
            "2/2 [==============================] - 0s 14ms/step - loss: 0.0071 - mean_absolute_error: 0.0534\n",
            "Epoch 171/500\n",
            "2/2 [==============================] - 0s 12ms/step - loss: 0.0069 - mean_absolute_error: 0.0541\n",
            "Epoch 172/500\n",
            "2/2 [==============================] - 0s 13ms/step - loss: 0.0063 - mean_absolute_error: 0.0473\n",
            "Epoch 173/500\n",
            "2/2 [==============================] - 0s 12ms/step - loss: 0.0090 - mean_absolute_error: 0.0618\n",
            "Epoch 174/500\n",
            "2/2 [==============================] - 0s 12ms/step - loss: 0.0089 - mean_absolute_error: 0.0582\n",
            "Epoch 175/500\n",
            "2/2 [==============================] - 0s 11ms/step - loss: 0.0087 - mean_absolute_error: 0.0673\n",
            "Epoch 176/500\n",
            "2/2 [==============================] - 0s 15ms/step - loss: 0.0094 - mean_absolute_error: 0.0584\n",
            "Epoch 177/500\n",
            "2/2 [==============================] - 0s 13ms/step - loss: 0.0082 - mean_absolute_error: 0.0586\n",
            "Epoch 178/500\n",
            "2/2 [==============================] - 0s 12ms/step - loss: 0.0076 - mean_absolute_error: 0.0614\n",
            "Epoch 179/500\n",
            "2/2 [==============================] - 0s 14ms/step - loss: 0.0075 - mean_absolute_error: 0.0589\n",
            "Epoch 180/500\n",
            "2/2 [==============================] - 0s 13ms/step - loss: 0.0066 - mean_absolute_error: 0.0540\n",
            "Epoch 181/500\n",
            "2/2 [==============================] - 0s 12ms/step - loss: 0.0083 - mean_absolute_error: 0.0597\n",
            "Epoch 182/500\n",
            "2/2 [==============================] - 0s 11ms/step - loss: 0.0080 - mean_absolute_error: 0.0596\n",
            "Epoch 183/500\n",
            "2/2 [==============================] - 0s 10ms/step - loss: 0.0091 - mean_absolute_error: 0.0607\n",
            "Epoch 184/500\n",
            "2/2 [==============================] - 0s 10ms/step - loss: 0.0094 - mean_absolute_error: 0.0594\n",
            "Epoch 185/500\n",
            "2/2 [==============================] - 0s 10ms/step - loss: 0.0070 - mean_absolute_error: 0.0551\n",
            "Epoch 186/500\n",
            "2/2 [==============================] - 0s 12ms/step - loss: 0.0099 - mean_absolute_error: 0.0645\n",
            "Epoch 187/500\n",
            "2/2 [==============================] - 0s 11ms/step - loss: 0.0084 - mean_absolute_error: 0.0605\n",
            "Epoch 188/500\n",
            "2/2 [==============================] - 0s 14ms/step - loss: 0.0102 - mean_absolute_error: 0.0625\n",
            "Epoch 189/500\n",
            "2/2 [==============================] - 0s 11ms/step - loss: 0.0081 - mean_absolute_error: 0.0571\n",
            "Epoch 190/500\n",
            "2/2 [==============================] - 0s 12ms/step - loss: 0.0087 - mean_absolute_error: 0.0579\n",
            "Epoch 191/500\n",
            "2/2 [==============================] - 0s 12ms/step - loss: 0.0061 - mean_absolute_error: 0.0545\n",
            "Epoch 192/500\n",
            "2/2 [==============================] - 0s 13ms/step - loss: 0.0063 - mean_absolute_error: 0.0516\n",
            "Epoch 193/500\n",
            "2/2 [==============================] - 0s 11ms/step - loss: 0.0078 - mean_absolute_error: 0.0596\n",
            "Epoch 194/500\n",
            "2/2 [==============================] - 0s 12ms/step - loss: 0.0086 - mean_absolute_error: 0.0595\n",
            "Epoch 195/500\n",
            "2/2 [==============================] - 0s 11ms/step - loss: 0.0082 - mean_absolute_error: 0.0598\n",
            "Epoch 196/500\n",
            "2/2 [==============================] - 0s 10ms/step - loss: 0.0116 - mean_absolute_error: 0.0647\n",
            "Epoch 197/500\n",
            "2/2 [==============================] - 0s 16ms/step - loss: 0.0088 - mean_absolute_error: 0.0563\n",
            "Epoch 198/500\n",
            "2/2 [==============================] - 0s 11ms/step - loss: 0.0069 - mean_absolute_error: 0.0553\n",
            "Epoch 199/500\n",
            "2/2 [==============================] - 0s 10ms/step - loss: 0.0081 - mean_absolute_error: 0.0528\n",
            "Epoch 200/500\n",
            "2/2 [==============================] - 0s 11ms/step - loss: 0.0066 - mean_absolute_error: 0.0549\n",
            "Epoch 201/500\n",
            "2/2 [==============================] - 0s 12ms/step - loss: 0.0088 - mean_absolute_error: 0.0541\n",
            "Epoch 202/500\n",
            "2/2 [==============================] - 0s 10ms/step - loss: 0.0060 - mean_absolute_error: 0.0567\n",
            "Epoch 203/500\n",
            "2/2 [==============================] - 0s 15ms/step - loss: 0.0072 - mean_absolute_error: 0.0520\n",
            "Epoch 204/500\n",
            "2/2 [==============================] - 0s 11ms/step - loss: 0.0077 - mean_absolute_error: 0.0576\n",
            "Epoch 205/500\n",
            "2/2 [==============================] - 0s 10ms/step - loss: 0.0080 - mean_absolute_error: 0.0629\n",
            "Epoch 206/500\n",
            "2/2 [==============================] - 0s 11ms/step - loss: 0.0092 - mean_absolute_error: 0.0620\n",
            "Epoch 207/500\n",
            "2/2 [==============================] - 0s 10ms/step - loss: 0.0075 - mean_absolute_error: 0.0572\n",
            "Epoch 208/500\n",
            "2/2 [==============================] - 0s 10ms/step - loss: 0.0077 - mean_absolute_error: 0.0574\n",
            "Epoch 209/500\n",
            "2/2 [==============================] - 0s 10ms/step - loss: 0.0073 - mean_absolute_error: 0.0568\n",
            "Epoch 210/500\n",
            "2/2 [==============================] - 0s 10ms/step - loss: 0.0072 - mean_absolute_error: 0.0582\n",
            "Epoch 211/500\n",
            "2/2 [==============================] - 0s 11ms/step - loss: 0.0093 - mean_absolute_error: 0.0596\n",
            "Epoch 212/500\n",
            "2/2 [==============================] - 0s 11ms/step - loss: 0.0097 - mean_absolute_error: 0.0642\n",
            "Epoch 213/500\n",
            "2/2 [==============================] - 0s 10ms/step - loss: 0.0078 - mean_absolute_error: 0.0546\n",
            "Epoch 214/500\n",
            "2/2 [==============================] - 0s 11ms/step - loss: 0.0066 - mean_absolute_error: 0.0550\n",
            "Epoch 215/500\n",
            "2/2 [==============================] - 0s 11ms/step - loss: 0.0123 - mean_absolute_error: 0.0672\n",
            "Epoch 216/500\n",
            "2/2 [==============================] - 0s 18ms/step - loss: 0.0090 - mean_absolute_error: 0.0604\n",
            "Epoch 217/500\n",
            "2/2 [==============================] - 0s 12ms/step - loss: 0.0094 - mean_absolute_error: 0.0667\n",
            "Epoch 218/500\n",
            "2/2 [==============================] - 0s 16ms/step - loss: 0.0081 - mean_absolute_error: 0.0494\n",
            "Epoch 219/500\n",
            "2/2 [==============================] - 0s 17ms/step - loss: 0.0093 - mean_absolute_error: 0.0608\n",
            "Epoch 220/500\n",
            "2/2 [==============================] - 0s 10ms/step - loss: 0.0076 - mean_absolute_error: 0.0574\n",
            "Epoch 221/500\n",
            "2/2 [==============================] - 0s 16ms/step - loss: 0.0082 - mean_absolute_error: 0.0521\n",
            "Epoch 222/500\n",
            "2/2 [==============================] - 0s 20ms/step - loss: 0.0075 - mean_absolute_error: 0.0581\n",
            "Epoch 223/500\n",
            "2/2 [==============================] - 0s 11ms/step - loss: 0.0066 - mean_absolute_error: 0.0569\n",
            "Epoch 224/500\n",
            "2/2 [==============================] - 0s 11ms/step - loss: 0.0088 - mean_absolute_error: 0.0539\n",
            "Epoch 225/500\n",
            "2/2 [==============================] - 0s 11ms/step - loss: 0.0077 - mean_absolute_error: 0.0567\n",
            "Epoch 226/500\n",
            "2/2 [==============================] - 0s 12ms/step - loss: 0.0091 - mean_absolute_error: 0.0642\n",
            "Epoch 227/500\n",
            "2/2 [==============================] - 0s 11ms/step - loss: 0.0062 - mean_absolute_error: 0.0514\n",
            "Epoch 228/500\n",
            "2/2 [==============================] - 0s 13ms/step - loss: 0.0077 - mean_absolute_error: 0.0552\n",
            "Epoch 229/500\n",
            "2/2 [==============================] - 0s 13ms/step - loss: 0.0093 - mean_absolute_error: 0.0642\n",
            "Epoch 230/500\n",
            "2/2 [==============================] - 0s 14ms/step - loss: 0.0077 - mean_absolute_error: 0.0533\n",
            "Epoch 231/500\n",
            "2/2 [==============================] - 0s 12ms/step - loss: 0.0090 - mean_absolute_error: 0.0609\n",
            "Epoch 232/500\n",
            "2/2 [==============================] - 0s 16ms/step - loss: 0.0080 - mean_absolute_error: 0.0546\n",
            "Epoch 233/500\n",
            "2/2 [==============================] - 0s 15ms/step - loss: 0.0082 - mean_absolute_error: 0.0546\n",
            "Epoch 234/500\n",
            "2/2 [==============================] - 0s 12ms/step - loss: 0.0065 - mean_absolute_error: 0.0562\n",
            "Epoch 235/500\n",
            "2/2 [==============================] - 0s 14ms/step - loss: 0.0102 - mean_absolute_error: 0.0556\n",
            "Epoch 236/500\n",
            "2/2 [==============================] - 0s 13ms/step - loss: 0.0062 - mean_absolute_error: 0.0505\n",
            "Epoch 237/500\n",
            "2/2 [==============================] - 0s 12ms/step - loss: 0.0074 - mean_absolute_error: 0.0563\n",
            "Epoch 238/500\n",
            "2/2 [==============================] - 0s 15ms/step - loss: 0.0080 - mean_absolute_error: 0.0573\n",
            "Epoch 239/500\n",
            "2/2 [==============================] - 0s 17ms/step - loss: 0.0087 - mean_absolute_error: 0.0587\n",
            "Epoch 240/500\n",
            "2/2 [==============================] - 0s 14ms/step - loss: 0.0076 - mean_absolute_error: 0.0574\n",
            "Epoch 241/500\n",
            "2/2 [==============================] - 0s 13ms/step - loss: 0.0073 - mean_absolute_error: 0.0533\n",
            "\n",
            "Epoch 00241: ReduceLROnPlateau reducing learning rate to 9.999999310821295e-05.\n",
            "Epoch 242/500\n",
            "2/2 [==============================] - 0s 13ms/step - loss: 0.0075 - mean_absolute_error: 0.0565\n",
            "Epoch 243/500\n",
            "2/2 [==============================] - 0s 13ms/step - loss: 0.0054 - mean_absolute_error: 0.0515\n",
            "Epoch 244/500\n",
            "2/2 [==============================] - 0s 14ms/step - loss: 0.0097 - mean_absolute_error: 0.0575\n",
            "Epoch 245/500\n",
            "2/2 [==============================] - 0s 15ms/step - loss: 0.0092 - mean_absolute_error: 0.0583\n",
            "Epoch 246/500\n",
            "2/2 [==============================] - 0s 19ms/step - loss: 0.0062 - mean_absolute_error: 0.0547\n",
            "Epoch 247/500\n",
            "2/2 [==============================] - 0s 13ms/step - loss: 0.0054 - mean_absolute_error: 0.0496\n",
            "Epoch 248/500\n",
            "2/2 [==============================] - 0s 14ms/step - loss: 0.0089 - mean_absolute_error: 0.0614\n",
            "Epoch 249/500\n",
            "2/2 [==============================] - 0s 13ms/step - loss: 0.0070 - mean_absolute_error: 0.0580\n",
            "Epoch 250/500\n",
            "2/2 [==============================] - 0s 14ms/step - loss: 0.0077 - mean_absolute_error: 0.0518\n",
            "Epoch 251/500\n",
            "2/2 [==============================] - 0s 15ms/step - loss: 0.0061 - mean_absolute_error: 0.0491\n",
            "Epoch 252/500\n",
            "2/2 [==============================] - 0s 12ms/step - loss: 0.0108 - mean_absolute_error: 0.0637\n",
            "Epoch 253/500\n",
            "2/2 [==============================] - 0s 11ms/step - loss: 0.0073 - mean_absolute_error: 0.0558\n",
            "Epoch 254/500\n",
            "2/2 [==============================] - 0s 13ms/step - loss: 0.0070 - mean_absolute_error: 0.0528\n",
            "Epoch 255/500\n",
            "2/2 [==============================] - 0s 14ms/step - loss: 0.0093 - mean_absolute_error: 0.0593\n",
            "Epoch 256/500\n",
            "2/2 [==============================] - 0s 17ms/step - loss: 0.0087 - mean_absolute_error: 0.0564\n",
            "Epoch 257/500\n",
            "2/2 [==============================] - 0s 19ms/step - loss: 0.0073 - mean_absolute_error: 0.0551\n",
            "Epoch 258/500\n",
            "2/2 [==============================] - 0s 12ms/step - loss: 0.0062 - mean_absolute_error: 0.0490\n",
            "Epoch 259/500\n",
            "2/2 [==============================] - 0s 13ms/step - loss: 0.0090 - mean_absolute_error: 0.0602\n",
            "Epoch 260/500\n",
            "2/2 [==============================] - 0s 14ms/step - loss: 0.0098 - mean_absolute_error: 0.0611\n",
            "Epoch 261/500\n",
            "2/2 [==============================] - 0s 16ms/step - loss: 0.0066 - mean_absolute_error: 0.0520\n",
            "Epoch 262/500\n",
            "2/2 [==============================] - 0s 16ms/step - loss: 0.0083 - mean_absolute_error: 0.0546\n",
            "Epoch 263/500\n",
            "2/2 [==============================] - 0s 16ms/step - loss: 0.0078 - mean_absolute_error: 0.0554\n",
            "Epoch 264/500\n",
            "2/2 [==============================] - 0s 16ms/step - loss: 0.0078 - mean_absolute_error: 0.0570\n",
            "Epoch 265/500\n",
            "2/2 [==============================] - 0s 14ms/step - loss: 0.0096 - mean_absolute_error: 0.0594\n",
            "Epoch 266/500\n",
            "2/2 [==============================] - 0s 13ms/step - loss: 0.0075 - mean_absolute_error: 0.0521\n",
            "Epoch 267/500\n",
            "2/2 [==============================] - 0s 14ms/step - loss: 0.0089 - mean_absolute_error: 0.0569\n",
            "Epoch 268/500\n",
            "2/2 [==============================] - 0s 18ms/step - loss: 0.0081 - mean_absolute_error: 0.0582\n",
            "Epoch 269/500\n",
            "2/2 [==============================] - 0s 11ms/step - loss: 0.0103 - mean_absolute_error: 0.0622\n",
            "Epoch 270/500\n",
            "2/2 [==============================] - 0s 13ms/step - loss: 0.0093 - mean_absolute_error: 0.0605\n",
            "Epoch 271/500\n",
            "2/2 [==============================] - 0s 15ms/step - loss: 0.0079 - mean_absolute_error: 0.0603\n",
            "Epoch 272/500\n",
            "2/2 [==============================] - 0s 17ms/step - loss: 0.0073 - mean_absolute_error: 0.0543\n",
            "Epoch 273/500\n",
            "2/2 [==============================] - 0s 13ms/step - loss: 0.0073 - mean_absolute_error: 0.0536\n",
            "Epoch 274/500\n",
            "2/2 [==============================] - 0s 14ms/step - loss: 0.0110 - mean_absolute_error: 0.0666\n",
            "Epoch 275/500\n",
            "2/2 [==============================] - 0s 16ms/step - loss: 0.0080 - mean_absolute_error: 0.0570\n",
            "Epoch 276/500\n",
            "2/2 [==============================] - 0s 20ms/step - loss: 0.0065 - mean_absolute_error: 0.0526\n",
            "Epoch 277/500\n",
            "2/2 [==============================] - 0s 13ms/step - loss: 0.0070 - mean_absolute_error: 0.0552\n",
            "Epoch 278/500\n",
            "2/2 [==============================] - 0s 15ms/step - loss: 0.0081 - mean_absolute_error: 0.0567\n",
            "Epoch 279/500\n",
            "2/2 [==============================] - 0s 17ms/step - loss: 0.0089 - mean_absolute_error: 0.0582\n",
            "Epoch 280/500\n",
            "2/2 [==============================] - 0s 13ms/step - loss: 0.0056 - mean_absolute_error: 0.0483\n",
            "Epoch 281/500\n",
            "2/2 [==============================] - 0s 14ms/step - loss: 0.0075 - mean_absolute_error: 0.0557\n",
            "Epoch 282/500\n",
            "2/2 [==============================] - 0s 14ms/step - loss: 0.0082 - mean_absolute_error: 0.0543\n",
            "Epoch 283/500\n",
            "2/2 [==============================] - 0s 13ms/step - loss: 0.0075 - mean_absolute_error: 0.0577\n",
            "Epoch 284/500\n",
            "2/2 [==============================] - 0s 14ms/step - loss: 0.0086 - mean_absolute_error: 0.0595\n",
            "Epoch 285/500\n",
            "2/2 [==============================] - 0s 12ms/step - loss: 0.0089 - mean_absolute_error: 0.0630\n",
            "Epoch 286/500\n",
            "2/2 [==============================] - 0s 11ms/step - loss: 0.0089 - mean_absolute_error: 0.0591\n",
            "Epoch 287/500\n",
            "2/2 [==============================] - 0s 16ms/step - loss: 0.0073 - mean_absolute_error: 0.0602\n",
            "Epoch 288/500\n",
            "2/2 [==============================] - 0s 13ms/step - loss: 0.0101 - mean_absolute_error: 0.0684\n",
            "Epoch 289/500\n",
            "2/2 [==============================] - 0s 13ms/step - loss: 0.0074 - mean_absolute_error: 0.0575\n",
            "Epoch 290/500\n",
            "2/2 [==============================] - 0s 13ms/step - loss: 0.0086 - mean_absolute_error: 0.0563\n",
            "Epoch 291/500\n",
            "2/2 [==============================] - 0s 15ms/step - loss: 0.0067 - mean_absolute_error: 0.0593\n",
            "Epoch 292/500\n",
            "2/2 [==============================] - 0s 12ms/step - loss: 0.0091 - mean_absolute_error: 0.0599\n",
            "Epoch 293/500\n",
            "2/2 [==============================] - 0s 17ms/step - loss: 0.0075 - mean_absolute_error: 0.0583\n",
            "Epoch 294/500\n",
            "2/2 [==============================] - 0s 13ms/step - loss: 0.0082 - mean_absolute_error: 0.0533\n",
            "Epoch 295/500\n",
            "2/2 [==============================] - 0s 13ms/step - loss: 0.0084 - mean_absolute_error: 0.0598\n",
            "Epoch 296/500\n",
            "2/2 [==============================] - 0s 13ms/step - loss: 0.0062 - mean_absolute_error: 0.0534\n",
            "Epoch 297/500\n",
            "2/2 [==============================] - 0s 31ms/step - loss: 0.0085 - mean_absolute_error: 0.0602\n",
            "\n",
            "Epoch 00297: ReduceLROnPlateau reducing learning rate to 9.999999019782991e-06.\n",
            "Epoch 298/500\n",
            "2/2 [==============================] - 0s 19ms/step - loss: 0.0108 - mean_absolute_error: 0.0584\n",
            "Epoch 299/500\n",
            "2/2 [==============================] - 0s 15ms/step - loss: 0.0069 - mean_absolute_error: 0.0552\n",
            "Epoch 300/500\n",
            "2/2 [==============================] - 0s 13ms/step - loss: 0.0067 - mean_absolute_error: 0.0521\n",
            "Epoch 301/500\n",
            "2/2 [==============================] - 0s 14ms/step - loss: 0.0099 - mean_absolute_error: 0.0620\n",
            "Epoch 302/500\n",
            "2/2 [==============================] - 0s 14ms/step - loss: 0.0061 - mean_absolute_error: 0.0486\n",
            "Epoch 303/500\n",
            "2/2 [==============================] - 0s 12ms/step - loss: 0.0064 - mean_absolute_error: 0.0511\n",
            "Epoch 304/500\n",
            "2/2 [==============================] - 0s 19ms/step - loss: 0.0074 - mean_absolute_error: 0.0566\n",
            "Epoch 305/500\n",
            "2/2 [==============================] - 0s 13ms/step - loss: 0.0089 - mean_absolute_error: 0.0586\n",
            "Epoch 306/500\n",
            "2/2 [==============================] - 0s 13ms/step - loss: 0.0094 - mean_absolute_error: 0.0551\n",
            "Epoch 307/500\n",
            "2/2 [==============================] - 0s 12ms/step - loss: 0.0057 - mean_absolute_error: 0.0522\n",
            "Epoch 308/500\n",
            "2/2 [==============================] - 0s 13ms/step - loss: 0.0075 - mean_absolute_error: 0.0571\n",
            "Epoch 309/500\n",
            "2/2 [==============================] - 0s 14ms/step - loss: 0.0052 - mean_absolute_error: 0.0504\n",
            "Epoch 310/500\n",
            "2/2 [==============================] - 0s 17ms/step - loss: 0.0082 - mean_absolute_error: 0.0518\n",
            "Epoch 311/500\n",
            "2/2 [==============================] - 0s 13ms/step - loss: 0.0084 - mean_absolute_error: 0.0560\n",
            "Epoch 312/500\n",
            "2/2 [==============================] - 0s 14ms/step - loss: 0.0075 - mean_absolute_error: 0.0568\n",
            "Epoch 313/500\n",
            "2/2 [==============================] - 0s 15ms/step - loss: 0.0068 - mean_absolute_error: 0.0526\n",
            "Epoch 314/500\n",
            "2/2 [==============================] - 0s 11ms/step - loss: 0.0090 - mean_absolute_error: 0.0584\n",
            "Epoch 315/500\n",
            "2/2 [==============================] - 0s 15ms/step - loss: 0.0083 - mean_absolute_error: 0.0589\n",
            "Epoch 316/500\n",
            "2/2 [==============================] - 0s 15ms/step - loss: 0.0107 - mean_absolute_error: 0.0607\n",
            "Epoch 317/500\n",
            "2/2 [==============================] - 0s 14ms/step - loss: 0.0070 - mean_absolute_error: 0.0560\n",
            "Epoch 318/500\n",
            "2/2 [==============================] - 0s 13ms/step - loss: 0.0080 - mean_absolute_error: 0.0526\n",
            "Epoch 319/500\n",
            "2/2 [==============================] - 0s 13ms/step - loss: 0.0066 - mean_absolute_error: 0.0552\n",
            "Epoch 320/500\n",
            "2/2 [==============================] - 0s 13ms/step - loss: 0.0090 - mean_absolute_error: 0.0576\n",
            "Epoch 321/500\n",
            "2/2 [==============================] - 0s 10ms/step - loss: 0.0064 - mean_absolute_error: 0.0540\n",
            "Epoch 322/500\n",
            "2/2 [==============================] - 0s 16ms/step - loss: 0.0071 - mean_absolute_error: 0.0519\n",
            "Epoch 323/500\n",
            "2/2 [==============================] - 0s 14ms/step - loss: 0.0084 - mean_absolute_error: 0.0595\n",
            "Epoch 324/500\n",
            "2/2 [==============================] - 0s 14ms/step - loss: 0.0089 - mean_absolute_error: 0.0578\n",
            "Epoch 325/500\n",
            "2/2 [==============================] - 0s 16ms/step - loss: 0.0068 - mean_absolute_error: 0.0544\n",
            "Epoch 326/500\n",
            "2/2 [==============================] - 0s 11ms/step - loss: 0.0088 - mean_absolute_error: 0.0576\n",
            "Epoch 327/500\n",
            "2/2 [==============================] - 0s 17ms/step - loss: 0.0086 - mean_absolute_error: 0.0593\n",
            "Epoch 328/500\n",
            "2/2 [==============================] - 0s 17ms/step - loss: 0.0075 - mean_absolute_error: 0.0578\n",
            "Epoch 329/500\n",
            "2/2 [==============================] - 0s 15ms/step - loss: 0.0064 - mean_absolute_error: 0.0527\n",
            "Epoch 330/500\n",
            "2/2 [==============================] - 0s 12ms/step - loss: 0.0087 - mean_absolute_error: 0.0563\n",
            "Epoch 331/500\n",
            "2/2 [==============================] - 0s 14ms/step - loss: 0.0083 - mean_absolute_error: 0.0575\n",
            "Epoch 332/500\n",
            "2/2 [==============================] - 0s 14ms/step - loss: 0.0098 - mean_absolute_error: 0.0633\n",
            "Epoch 333/500\n",
            "2/2 [==============================] - 0s 17ms/step - loss: 0.0079 - mean_absolute_error: 0.0583\n",
            "Epoch 334/500\n",
            "2/2 [==============================] - 0s 12ms/step - loss: 0.0070 - mean_absolute_error: 0.0526\n",
            "Epoch 335/500\n",
            "2/2 [==============================] - 0s 12ms/step - loss: 0.0067 - mean_absolute_error: 0.0572\n",
            "Epoch 336/500\n",
            "2/2 [==============================] - 0s 14ms/step - loss: 0.0087 - mean_absolute_error: 0.0654\n",
            "Epoch 337/500\n",
            "2/2 [==============================] - 0s 13ms/step - loss: 0.0075 - mean_absolute_error: 0.0589\n",
            "Epoch 338/500\n",
            "2/2 [==============================] - 0s 14ms/step - loss: 0.0101 - mean_absolute_error: 0.0580\n",
            "Epoch 339/500\n",
            "2/2 [==============================] - 0s 16ms/step - loss: 0.0079 - mean_absolute_error: 0.0553\n",
            "Epoch 340/500\n",
            "2/2 [==============================] - 0s 13ms/step - loss: 0.0072 - mean_absolute_error: 0.0546\n",
            "Epoch 341/500\n",
            "2/2 [==============================] - 0s 16ms/step - loss: 0.0061 - mean_absolute_error: 0.0547\n",
            "Epoch 342/500\n",
            "2/2 [==============================] - 0s 13ms/step - loss: 0.0078 - mean_absolute_error: 0.0577\n",
            "Epoch 343/500\n",
            "2/2 [==============================] - 0s 13ms/step - loss: 0.0067 - mean_absolute_error: 0.0521\n",
            "Epoch 344/500\n",
            "2/2 [==============================] - 0s 19ms/step - loss: 0.0054 - mean_absolute_error: 0.0493\n",
            "Epoch 345/500\n",
            "2/2 [==============================] - 0s 13ms/step - loss: 0.0079 - mean_absolute_error: 0.0600\n",
            "Epoch 346/500\n",
            "2/2 [==============================] - 0s 14ms/step - loss: 0.0078 - mean_absolute_error: 0.0543\n",
            "Epoch 347/500\n",
            "2/2 [==============================] - 0s 15ms/step - loss: 0.0075 - mean_absolute_error: 0.0578\n",
            "\n",
            "Epoch 00347: ReduceLROnPlateau reducing learning rate to 9.99999883788405e-07.\n",
            "Epoch 348/500\n",
            "2/2 [==============================] - 0s 14ms/step - loss: 0.0107 - mean_absolute_error: 0.0672\n",
            "Epoch 349/500\n",
            "2/2 [==============================] - 0s 14ms/step - loss: 0.0083 - mean_absolute_error: 0.0606\n",
            "Epoch 350/500\n",
            "2/2 [==============================] - 0s 16ms/step - loss: 0.0057 - mean_absolute_error: 0.0481\n",
            "Epoch 351/500\n",
            "2/2 [==============================] - 0s 27ms/step - loss: 0.0081 - mean_absolute_error: 0.0657\n",
            "Epoch 352/500\n",
            "2/2 [==============================] - 0s 17ms/step - loss: 0.0077 - mean_absolute_error: 0.0590\n",
            "Epoch 353/500\n",
            "2/2 [==============================] - 0s 14ms/step - loss: 0.0066 - mean_absolute_error: 0.0543\n",
            "Epoch 354/500\n",
            "2/2 [==============================] - 0s 13ms/step - loss: 0.0055 - mean_absolute_error: 0.0503\n",
            "Epoch 355/500\n",
            "2/2 [==============================] - 0s 13ms/step - loss: 0.0115 - mean_absolute_error: 0.0600\n",
            "Epoch 356/500\n",
            "2/2 [==============================] - 0s 17ms/step - loss: 0.0082 - mean_absolute_error: 0.0599\n",
            "Epoch 357/500\n",
            "2/2 [==============================] - 0s 16ms/step - loss: 0.0094 - mean_absolute_error: 0.0577\n",
            "Epoch 358/500\n",
            "2/2 [==============================] - 0s 12ms/step - loss: 0.0093 - mean_absolute_error: 0.0557\n",
            "Epoch 359/500\n",
            "2/2 [==============================] - 0s 18ms/step - loss: 0.0086 - mean_absolute_error: 0.0576\n",
            "Epoch 360/500\n",
            "2/2 [==============================] - 0s 16ms/step - loss: 0.0085 - mean_absolute_error: 0.0557\n",
            "Epoch 361/500\n",
            "2/2 [==============================] - 0s 14ms/step - loss: 0.0081 - mean_absolute_error: 0.0547\n",
            "Epoch 362/500\n",
            "2/2 [==============================] - 0s 20ms/step - loss: 0.0089 - mean_absolute_error: 0.0551\n",
            "Epoch 363/500\n",
            "2/2 [==============================] - 0s 19ms/step - loss: 0.0072 - mean_absolute_error: 0.0582\n",
            "Epoch 364/500\n",
            "2/2 [==============================] - 0s 14ms/step - loss: 0.0091 - mean_absolute_error: 0.0599\n",
            "Epoch 365/500\n",
            "2/2 [==============================] - 0s 12ms/step - loss: 0.0060 - mean_absolute_error: 0.0492\n",
            "Epoch 366/500\n",
            "2/2 [==============================] - 0s 13ms/step - loss: 0.0066 - mean_absolute_error: 0.0560\n",
            "Epoch 367/500\n",
            "2/2 [==============================] - 0s 12ms/step - loss: 0.0078 - mean_absolute_error: 0.0535\n",
            "Epoch 368/500\n",
            "2/2 [==============================] - 0s 12ms/step - loss: 0.0087 - mean_absolute_error: 0.0617\n",
            "Epoch 369/500\n",
            "2/2 [==============================] - 0s 14ms/step - loss: 0.0082 - mean_absolute_error: 0.0538\n",
            "Epoch 370/500\n",
            "2/2 [==============================] - 0s 13ms/step - loss: 0.0082 - mean_absolute_error: 0.0569\n",
            "Epoch 371/500\n",
            "2/2 [==============================] - 0s 13ms/step - loss: 0.0086 - mean_absolute_error: 0.0532\n",
            "Epoch 372/500\n",
            "2/2 [==============================] - 0s 13ms/step - loss: 0.0073 - mean_absolute_error: 0.0553\n",
            "Epoch 373/500\n",
            "2/2 [==============================] - 0s 12ms/step - loss: 0.0097 - mean_absolute_error: 0.0583\n",
            "Epoch 374/500\n",
            "2/2 [==============================] - 0s 12ms/step - loss: 0.0112 - mean_absolute_error: 0.0619\n",
            "Epoch 375/500\n",
            "2/2 [==============================] - 0s 13ms/step - loss: 0.0085 - mean_absolute_error: 0.0598\n",
            "Epoch 376/500\n",
            "2/2 [==============================] - 0s 13ms/step - loss: 0.0081 - mean_absolute_error: 0.0590\n",
            "Epoch 377/500\n",
            "2/2 [==============================] - 0s 15ms/step - loss: 0.0073 - mean_absolute_error: 0.0552\n",
            "Epoch 378/500\n",
            "2/2 [==============================] - 0s 12ms/step - loss: 0.0099 - mean_absolute_error: 0.0618\n",
            "Epoch 379/500\n",
            "2/2 [==============================] - 0s 13ms/step - loss: 0.0072 - mean_absolute_error: 0.0572\n",
            "Epoch 380/500\n",
            "2/2 [==============================] - 0s 12ms/step - loss: 0.0068 - mean_absolute_error: 0.0574\n",
            "Epoch 381/500\n",
            "2/2 [==============================] - 0s 14ms/step - loss: 0.0099 - mean_absolute_error: 0.0604\n",
            "Epoch 382/500\n",
            "2/2 [==============================] - 0s 13ms/step - loss: 0.0078 - mean_absolute_error: 0.0584\n",
            "Epoch 383/500\n",
            "2/2 [==============================] - 0s 14ms/step - loss: 0.0122 - mean_absolute_error: 0.0632\n",
            "Epoch 384/500\n",
            "2/2 [==============================] - 0s 14ms/step - loss: 0.0093 - mean_absolute_error: 0.0616\n",
            "Epoch 385/500\n",
            "2/2 [==============================] - 0s 15ms/step - loss: 0.0066 - mean_absolute_error: 0.0556\n",
            "Epoch 386/500\n",
            "2/2 [==============================] - 0s 12ms/step - loss: 0.0066 - mean_absolute_error: 0.0567\n",
            "Epoch 387/500\n",
            "2/2 [==============================] - 0s 15ms/step - loss: 0.0068 - mean_absolute_error: 0.0548\n",
            "Epoch 388/500\n",
            "2/2 [==============================] - 0s 13ms/step - loss: 0.0082 - mean_absolute_error: 0.0590\n",
            "Epoch 389/500\n",
            "2/2 [==============================] - 0s 13ms/step - loss: 0.0069 - mean_absolute_error: 0.0553\n",
            "Epoch 390/500\n",
            "2/2 [==============================] - 0s 14ms/step - loss: 0.0077 - mean_absolute_error: 0.0531\n",
            "Epoch 391/500\n",
            "2/2 [==============================] - 0s 19ms/step - loss: 0.0062 - mean_absolute_error: 0.0502\n",
            "Epoch 392/500\n",
            "2/2 [==============================] - 0s 15ms/step - loss: 0.0095 - mean_absolute_error: 0.0600\n",
            "Epoch 393/500\n",
            "2/2 [==============================] - 0s 13ms/step - loss: 0.0075 - mean_absolute_error: 0.0549\n",
            "Epoch 394/500\n",
            "2/2 [==============================] - 0s 15ms/step - loss: 0.0084 - mean_absolute_error: 0.0586\n",
            "Epoch 395/500\n",
            "2/2 [==============================] - 0s 28ms/step - loss: 0.0062 - mean_absolute_error: 0.0518\n",
            "Epoch 396/500\n",
            "2/2 [==============================] - 0s 13ms/step - loss: 0.0077 - mean_absolute_error: 0.0533\n",
            "Epoch 397/500\n",
            "2/2 [==============================] - 0s 17ms/step - loss: 0.0079 - mean_absolute_error: 0.0579\n",
            "\n",
            "Epoch 00397: ReduceLROnPlateau reducing learning rate to 9.99999883788405e-08.\n",
            "Epoch 398/500\n",
            "2/2 [==============================] - 0s 19ms/step - loss: 0.0083 - mean_absolute_error: 0.0573\n",
            "Epoch 399/500\n",
            "2/2 [==============================] - 0s 13ms/step - loss: 0.0081 - mean_absolute_error: 0.0603\n",
            "Epoch 400/500\n",
            "2/2 [==============================] - 0s 13ms/step - loss: 0.0092 - mean_absolute_error: 0.0556\n",
            "Epoch 401/500\n",
            "2/2 [==============================] - 0s 15ms/step - loss: 0.0084 - mean_absolute_error: 0.0588\n",
            "Epoch 402/500\n",
            "2/2 [==============================] - 0s 12ms/step - loss: 0.0074 - mean_absolute_error: 0.0535\n",
            "Epoch 403/500\n",
            "2/2 [==============================] - 0s 12ms/step - loss: 0.0102 - mean_absolute_error: 0.0658\n",
            "Epoch 404/500\n",
            "2/2 [==============================] - 0s 12ms/step - loss: 0.0063 - mean_absolute_error: 0.0513\n",
            "Epoch 405/500\n",
            "2/2 [==============================] - 0s 11ms/step - loss: 0.0061 - mean_absolute_error: 0.0551\n",
            "Epoch 406/500\n",
            "2/2 [==============================] - 0s 14ms/step - loss: 0.0082 - mean_absolute_error: 0.0572\n",
            "Epoch 407/500\n",
            "2/2 [==============================] - 0s 15ms/step - loss: 0.0073 - mean_absolute_error: 0.0513\n",
            "Epoch 408/500\n",
            "2/2 [==============================] - 0s 13ms/step - loss: 0.0074 - mean_absolute_error: 0.0548\n",
            "Epoch 409/500\n",
            "2/2 [==============================] - 0s 13ms/step - loss: 0.0081 - mean_absolute_error: 0.0567\n",
            "Epoch 410/500\n",
            "2/2 [==============================] - 0s 14ms/step - loss: 0.0066 - mean_absolute_error: 0.0531\n",
            "Epoch 411/500\n",
            "2/2 [==============================] - 0s 11ms/step - loss: 0.0082 - mean_absolute_error: 0.0583\n",
            "Epoch 412/500\n",
            "2/2 [==============================] - 0s 14ms/step - loss: 0.0100 - mean_absolute_error: 0.0596\n",
            "Epoch 413/500\n",
            "2/2 [==============================] - 0s 13ms/step - loss: 0.0055 - mean_absolute_error: 0.0482\n",
            "Epoch 414/500\n",
            "2/2 [==============================] - 0s 13ms/step - loss: 0.0068 - mean_absolute_error: 0.0525\n",
            "Epoch 415/500\n",
            "2/2 [==============================] - 0s 11ms/step - loss: 0.0095 - mean_absolute_error: 0.0615\n",
            "Epoch 416/500\n",
            "2/2 [==============================] - 0s 23ms/step - loss: 0.0060 - mean_absolute_error: 0.0548\n",
            "Epoch 417/500\n",
            "2/2 [==============================] - 0s 12ms/step - loss: 0.0092 - mean_absolute_error: 0.0567\n",
            "Epoch 418/500\n",
            "2/2 [==============================] - 0s 14ms/step - loss: 0.0080 - mean_absolute_error: 0.0548\n",
            "Epoch 419/500\n",
            "2/2 [==============================] - 0s 14ms/step - loss: 0.0088 - mean_absolute_error: 0.0585\n",
            "Epoch 420/500\n",
            "2/2 [==============================] - 0s 15ms/step - loss: 0.0083 - mean_absolute_error: 0.0566\n",
            "Epoch 421/500\n",
            "2/2 [==============================] - 0s 13ms/step - loss: 0.0081 - mean_absolute_error: 0.0544\n",
            "Epoch 422/500\n",
            "2/2 [==============================] - 0s 12ms/step - loss: 0.0069 - mean_absolute_error: 0.0546\n",
            "Epoch 423/500\n",
            "2/2 [==============================] - 0s 13ms/step - loss: 0.0076 - mean_absolute_error: 0.0604\n",
            "Epoch 424/500\n",
            "2/2 [==============================] - 0s 21ms/step - loss: 0.0083 - mean_absolute_error: 0.0507\n",
            "Epoch 425/500\n",
            "2/2 [==============================] - 0s 15ms/step - loss: 0.0094 - mean_absolute_error: 0.0617\n",
            "Epoch 426/500\n",
            "2/2 [==============================] - 0s 13ms/step - loss: 0.0079 - mean_absolute_error: 0.0567\n",
            "Epoch 427/500\n",
            "2/2 [==============================] - 0s 15ms/step - loss: 0.0097 - mean_absolute_error: 0.0614\n",
            "Epoch 428/500\n",
            "2/2 [==============================] - 0s 17ms/step - loss: 0.0067 - mean_absolute_error: 0.0512\n",
            "Epoch 429/500\n",
            "2/2 [==============================] - 0s 15ms/step - loss: 0.0089 - mean_absolute_error: 0.0591\n",
            "Epoch 430/500\n",
            "2/2 [==============================] - 0s 17ms/step - loss: 0.0084 - mean_absolute_error: 0.0556\n",
            "Epoch 431/500\n",
            "2/2 [==============================] - 0s 18ms/step - loss: 0.0105 - mean_absolute_error: 0.0593\n",
            "Epoch 432/500\n",
            "2/2 [==============================] - 0s 13ms/step - loss: 0.0070 - mean_absolute_error: 0.0571\n",
            "Epoch 433/500\n",
            "2/2 [==============================] - 0s 13ms/step - loss: 0.0074 - mean_absolute_error: 0.0610\n",
            "Epoch 434/500\n",
            "2/2 [==============================] - 0s 13ms/step - loss: 0.0086 - mean_absolute_error: 0.0601\n",
            "Epoch 435/500\n",
            "2/2 [==============================] - 0s 14ms/step - loss: 0.0083 - mean_absolute_error: 0.0595\n",
            "Epoch 436/500\n",
            "2/2 [==============================] - 0s 12ms/step - loss: 0.0085 - mean_absolute_error: 0.0548\n",
            "Epoch 437/500\n",
            "2/2 [==============================] - 0s 12ms/step - loss: 0.0070 - mean_absolute_error: 0.0608\n",
            "Epoch 438/500\n",
            "2/2 [==============================] - 0s 16ms/step - loss: 0.0082 - mean_absolute_error: 0.0582\n",
            "Epoch 439/500\n",
            "2/2 [==============================] - 0s 15ms/step - loss: 0.0065 - mean_absolute_error: 0.0517\n",
            "Epoch 440/500\n",
            "2/2 [==============================] - 0s 17ms/step - loss: 0.0063 - mean_absolute_error: 0.0529\n",
            "Epoch 441/500\n",
            "2/2 [==============================] - 0s 14ms/step - loss: 0.0092 - mean_absolute_error: 0.0645\n",
            "Epoch 442/500\n",
            "2/2 [==============================] - 0s 13ms/step - loss: 0.0060 - mean_absolute_error: 0.0507\n",
            "Epoch 443/500\n",
            "2/2 [==============================] - 0s 12ms/step - loss: 0.0099 - mean_absolute_error: 0.0602\n",
            "Epoch 444/500\n",
            "2/2 [==============================] - 0s 12ms/step - loss: 0.0070 - mean_absolute_error: 0.0568\n",
            "Epoch 445/500\n",
            "2/2 [==============================] - 0s 12ms/step - loss: 0.0060 - mean_absolute_error: 0.0487\n",
            "Epoch 446/500\n",
            "2/2 [==============================] - 0s 14ms/step - loss: 0.0072 - mean_absolute_error: 0.0563\n",
            "Epoch 447/500\n",
            "2/2 [==============================] - 0s 16ms/step - loss: 0.0078 - mean_absolute_error: 0.0603\n",
            "\n",
            "Epoch 00447: ReduceLROnPlateau reducing learning rate to 9.999998695775504e-09.\n",
            "Epoch 448/500\n",
            "2/2 [==============================] - 0s 16ms/step - loss: 0.0063 - mean_absolute_error: 0.0506\n",
            "Epoch 449/500\n",
            "2/2 [==============================] - 0s 14ms/step - loss: 0.0094 - mean_absolute_error: 0.0598\n",
            "Epoch 450/500\n",
            "2/2 [==============================] - 0s 14ms/step - loss: 0.0075 - mean_absolute_error: 0.0570\n",
            "Epoch 451/500\n",
            "2/2 [==============================] - 0s 16ms/step - loss: 0.0053 - mean_absolute_error: 0.0500\n",
            "Epoch 452/500\n",
            "2/2 [==============================] - 0s 18ms/step - loss: 0.0064 - mean_absolute_error: 0.0542\n",
            "Epoch 453/500\n",
            "2/2 [==============================] - 0s 12ms/step - loss: 0.0089 - mean_absolute_error: 0.0535\n",
            "Epoch 454/500\n",
            "2/2 [==============================] - 0s 12ms/step - loss: 0.0077 - mean_absolute_error: 0.0588\n",
            "Epoch 455/500\n",
            "2/2 [==============================] - 0s 12ms/step - loss: 0.0083 - mean_absolute_error: 0.0583\n",
            "Epoch 456/500\n",
            "2/2 [==============================] - 0s 19ms/step - loss: 0.0083 - mean_absolute_error: 0.0590\n",
            "Epoch 457/500\n",
            "2/2 [==============================] - 0s 12ms/step - loss: 0.0081 - mean_absolute_error: 0.0603\n",
            "Epoch 458/500\n",
            "2/2 [==============================] - 0s 22ms/step - loss: 0.0095 - mean_absolute_error: 0.0568\n",
            "Epoch 459/500\n",
            "2/2 [==============================] - 0s 13ms/step - loss: 0.0066 - mean_absolute_error: 0.0533\n",
            "Epoch 460/500\n",
            "2/2 [==============================] - 0s 18ms/step - loss: 0.0064 - mean_absolute_error: 0.0501\n",
            "Epoch 461/500\n",
            "2/2 [==============================] - 0s 17ms/step - loss: 0.0089 - mean_absolute_error: 0.0607\n",
            "Epoch 462/500\n",
            "2/2 [==============================] - 0s 16ms/step - loss: 0.0081 - mean_absolute_error: 0.0523\n",
            "Epoch 463/500\n",
            "2/2 [==============================] - 0s 20ms/step - loss: 0.0083 - mean_absolute_error: 0.0578\n",
            "Epoch 464/500\n",
            "2/2 [==============================] - 0s 13ms/step - loss: 0.0091 - mean_absolute_error: 0.0588\n",
            "Epoch 465/500\n",
            "2/2 [==============================] - 0s 18ms/step - loss: 0.0088 - mean_absolute_error: 0.0573\n",
            "Epoch 466/500\n",
            "2/2 [==============================] - 0s 13ms/step - loss: 0.0107 - mean_absolute_error: 0.0602\n",
            "Epoch 467/500\n",
            "2/2 [==============================] - 0s 14ms/step - loss: 0.0083 - mean_absolute_error: 0.0597\n",
            "Epoch 468/500\n",
            "2/2 [==============================] - 0s 13ms/step - loss: 0.0077 - mean_absolute_error: 0.0575\n",
            "Epoch 469/500\n",
            "2/2 [==============================] - 0s 12ms/step - loss: 0.0092 - mean_absolute_error: 0.0553\n",
            "Epoch 470/500\n",
            "2/2 [==============================] - 0s 12ms/step - loss: 0.0084 - mean_absolute_error: 0.0556\n",
            "Epoch 471/500\n",
            "2/2 [==============================] - 0s 13ms/step - loss: 0.0087 - mean_absolute_error: 0.0612\n",
            "Epoch 472/500\n",
            "2/2 [==============================] - 0s 13ms/step - loss: 0.0083 - mean_absolute_error: 0.0597\n",
            "Epoch 473/500\n",
            "2/2 [==============================] - 0s 13ms/step - loss: 0.0072 - mean_absolute_error: 0.0555\n",
            "Epoch 474/500\n",
            "2/2 [==============================] - 0s 19ms/step - loss: 0.0101 - mean_absolute_error: 0.0624\n",
            "Epoch 475/500\n",
            "2/2 [==============================] - 0s 11ms/step - loss: 0.0081 - mean_absolute_error: 0.0538\n",
            "Epoch 476/500\n",
            "2/2 [==============================] - 0s 15ms/step - loss: 0.0066 - mean_absolute_error: 0.0526\n",
            "Epoch 477/500\n",
            "2/2 [==============================] - 0s 22ms/step - loss: 0.0084 - mean_absolute_error: 0.0581\n",
            "Epoch 478/500\n",
            "2/2 [==============================] - 0s 14ms/step - loss: 0.0099 - mean_absolute_error: 0.0595\n",
            "Epoch 479/500\n",
            "2/2 [==============================] - 0s 17ms/step - loss: 0.0091 - mean_absolute_error: 0.0584\n",
            "Epoch 480/500\n",
            "2/2 [==============================] - 0s 16ms/step - loss: 0.0087 - mean_absolute_error: 0.0600\n",
            "Epoch 481/500\n",
            "2/2 [==============================] - 0s 18ms/step - loss: 0.0081 - mean_absolute_error: 0.0571\n",
            "Epoch 482/500\n",
            "2/2 [==============================] - 0s 14ms/step - loss: 0.0072 - mean_absolute_error: 0.0560\n",
            "Epoch 483/500\n",
            "2/2 [==============================] - 0s 14ms/step - loss: 0.0084 - mean_absolute_error: 0.0607\n",
            "Epoch 484/500\n",
            "2/2 [==============================] - 0s 21ms/step - loss: 0.0071 - mean_absolute_error: 0.0521\n",
            "Epoch 485/500\n",
            "2/2 [==============================] - 0s 15ms/step - loss: 0.0078 - mean_absolute_error: 0.0580\n",
            "Epoch 486/500\n",
            "2/2 [==============================] - 0s 12ms/step - loss: 0.0066 - mean_absolute_error: 0.0530\n",
            "Epoch 487/500\n",
            "2/2 [==============================] - 0s 20ms/step - loss: 0.0089 - mean_absolute_error: 0.0625\n",
            "Epoch 488/500\n",
            "2/2 [==============================] - 0s 16ms/step - loss: 0.0058 - mean_absolute_error: 0.0520\n",
            "Epoch 489/500\n",
            "2/2 [==============================] - 0s 17ms/step - loss: 0.0082 - mean_absolute_error: 0.0546\n",
            "Epoch 490/500\n",
            "2/2 [==============================] - 0s 12ms/step - loss: 0.0065 - mean_absolute_error: 0.0511\n",
            "Epoch 491/500\n",
            "2/2 [==============================] - 0s 13ms/step - loss: 0.0087 - mean_absolute_error: 0.0551\n",
            "Epoch 492/500\n",
            "2/2 [==============================] - 0s 14ms/step - loss: 0.0080 - mean_absolute_error: 0.0564\n",
            "Epoch 493/500\n",
            "2/2 [==============================] - 0s 13ms/step - loss: 0.0093 - mean_absolute_error: 0.0635\n",
            "Epoch 494/500\n",
            "2/2 [==============================] - 0s 13ms/step - loss: 0.0073 - mean_absolute_error: 0.0509\n",
            "Epoch 495/500\n",
            "2/2 [==============================] - 0s 16ms/step - loss: 0.0062 - mean_absolute_error: 0.0489\n",
            "Epoch 496/500\n",
            "2/2 [==============================] - 0s 13ms/step - loss: 0.0076 - mean_absolute_error: 0.0540\n",
            "Epoch 497/500\n",
            "2/2 [==============================] - 0s 12ms/step - loss: 0.0082 - mean_absolute_error: 0.0595\n",
            "\n",
            "Epoch 00497: ReduceLROnPlateau reducing learning rate to 9.99999905104687e-10.\n",
            "Epoch 498/500\n",
            "2/2 [==============================] - 0s 11ms/step - loss: 0.0083 - mean_absolute_error: 0.0604\n",
            "Epoch 499/500\n",
            "2/2 [==============================] - 0s 11ms/step - loss: 0.0069 - mean_absolute_error: 0.0516\n",
            "Epoch 500/500\n",
            "2/2 [==============================] - 0s 12ms/step - loss: 0.0089 - mean_absolute_error: 0.0600\n"
          ],
          "name": "stdout"
        },
        {
          "output_type": "execute_result",
          "data": {
            "text/plain": [
              "<tensorflow.python.keras.callbacks.History at 0x7fcf75371b50>"
            ]
          },
          "metadata": {
            "tags": []
          },
          "execution_count": 14
        }
      ]
    },
    {
      "cell_type": "markdown",
      "metadata": {
        "id": "gwpyImwA3yon"
      },
      "source": [
        "### Fazer as previsões e analisar os resultados"
      ]
    },
    {
      "cell_type": "markdown",
      "metadata": {
        "id": "wkXRvDjT4V-B"
      },
      "source": [
        "#### Base de teste"
      ]
    },
    {
      "cell_type": "code",
      "metadata": {
        "id": "Bn_n72dh30K-"
      },
      "source": [
        "dataset_test = pd.read_csv('test.csv')\n",
        "test_pul = dataset_test.iloc[:, 1:2].values"
      ],
      "execution_count": null,
      "outputs": []
    },
    {
      "cell_type": "markdown",
      "metadata": {
        "id": "EOo84exH4bfs"
      },
      "source": [
        "#### Construir a estrutura para teste"
      ]
    },
    {
      "cell_type": "code",
      "metadata": {
        "id": "ob_-mGA_B5px"
      },
      "source": [
        "dataset_total = pd.concat((dataset_train.iloc[:,1], dataset_test.iloc[:,1]), axis = 0)\n",
        "testLength = len(dataset_test)\n",
        "inputs = dataset_total[len(dataset_total) - testLength - window:].values\n",
        "inputs = inputs.reshape(inputs.shape[0],1)\n",
        "\n",
        "inputs = sc.transform(inputs)\n",
        "X_test = []\n",
        "for i in range(window, inputs.shape[0]): \n",
        "    X_test.append(inputs[i-window:i, 0])\n",
        "X_test = np.array(X_test)\n",
        "\n",
        "X_test = np.reshape(X_test, (X_test.shape[0], X_test.shape[1], 1))"
      ],
      "execution_count": null,
      "outputs": []
    },
    {
      "cell_type": "markdown",
      "metadata": {
        "id": "rtkB4NA74e1B"
      },
      "source": [
        "#### Fazer as previsões"
      ]
    },
    {
      "cell_type": "code",
      "metadata": {
        "id": "nKIq1h-E4g9Z"
      },
      "source": [
        "lstm_predicted = regressor.predict(X_test)\n",
        "lstm_predicted = sc.inverse_transform(lstm_predicted)"
      ],
      "execution_count": null,
      "outputs": []
    },
    {
      "cell_type": "markdown",
      "metadata": {
        "id": "guvk7yXr4o0g"
      },
      "source": [
        "#### Visualizar os resultados de treino e teste"
      ]
    },
    {
      "cell_type": "code",
      "metadata": {
        "id": "tstXl2oS4rIo",
        "colab": {
          "base_uri": "https://localhost:8080/",
          "height": 295
        },
        "outputId": "a76cea63-5eee-4a81-cc8b-fb94a877410b"
      },
      "source": [
        "allTargetData = np.vstack((training_set, test_pul))\n",
        "training_predicted = regressor.predict(X_train)\n",
        "training_predicted = sc.inverse_transform(training_predicted)\n",
        "allForecastedData = np.vstack((training_set[0:window], training_predicted, lstm_predicted))\n",
        "plt.plot(allTargetData, color = 'red', label = 'Real')\n",
        "plt.plot(allForecastedData, color = 'blue', label = 'Previsto')\n",
        "plt.title('Previsão de série temporal')\n",
        "plt.xlabel('Tempo')\n",
        "plt.ylabel('Numero Mortes')\n",
        "plt.legend()\n",
        "#plt.savefig('lstm_predictions_training_test.svg')\n",
        "plt.show()"
      ],
      "execution_count": null,
      "outputs": [
        {
          "output_type": "display_data",
          "data": {
            "image/png": "[encoded data removed]",
            "text/plain": [
              "<Figure size 432x288 with 1 Axes>"
            ]
          },
          "metadata": {
            "tags": [],
            "needs_background": "light"
          }
        }
      ]
    },
    {
      "cell_type": "markdown",
      "metadata": {
        "id": "ytEVhQht4we3"
      },
      "source": [
        "#### Métricas de avaliação"
      ]
    },
    {
      "cell_type": "code",
      "metadata": {
        "id": "rqOonVj64ydu",
        "colab": {
          "base_uri": "https://localhost:8080/"
        },
        "outputId": "755eacac-f17a-4834-871b-9c70a9b99db2"
      },
      "source": [
        "rmse = math.sqrt(mean_squared_error(test_pul, lstm_predicted))\n",
        "print('RMSE: ', rmse)"
      ],
      "execution_count": null,
      "outputs": [
        {
          "output_type": "stream",
          "text": [
            "RMSE:  191.69892002917732\n"
          ],
          "name": "stdout"
        }
      ]
    },
    {
      "cell_type": "code",
      "metadata": {
        "id": "L7_uU_8T44QA",
        "colab": {
          "base_uri": "https://localhost:8080/"
        },
        "outputId": "5a815f8a-d9a8-43c5-f2f2-fc9e8f1a9855"
      },
      "source": [
        "mape = np.mean(np.abs((test_pul - lstm_predicted) / test_pul)) * 100\n",
        "print('MAPE: ',mape, '%')"
      ],
      "execution_count": null,
      "outputs": [
        {
          "output_type": "stream",
          "text": [
            "MAPE:  6.563094162117826 %\n"
          ],
          "name": "stdout"
        }
      ]
    },
    {
      "cell_type": "code",
      "metadata": {
        "id": "ODeley1K42WW",
        "colab": {
          "base_uri": "https://localhost:8080/"
        },
        "outputId": "4ec75797-01e0-466f-ee02-703efe42c065"
      },
      "source": [
        "mse = mean_squared_error(test_pul, lstm_predicted)\n",
        "print('MSE: ',mse)"
      ],
      "execution_count": null,
      "outputs": [
        {
          "output_type": "stream",
          "text": [
            "MSE:  36748.475940352924\n"
          ],
          "name": "stdout"
        }
      ]
    },
    {
      "cell_type": "code",
      "metadata": {
        "colab": {
          "base_uri": "https://localhost:8080/"
        },
        "id": "zgNUaRFX0qOP",
        "outputId": "53d8f3a3-333c-4443-960f-bfbfb2e15004"
      },
      "source": [
        "mae = mean_absolute_error(test_pul, lstm_predicted)\n",
        "print('MAE: ',mae)"
      ],
      "execution_count": null,
      "outputs": [
        {
          "output_type": "stream",
          "text": [
            "MAE:  133.40599568684897\n"
          ],
          "name": "stdout"
        }
      ]
    },
    {
      "cell_type": "markdown",
      "metadata": {
        "id": "5JT0V8n3Zqc_"
      },
      "source": [
        "## Parte 3 - Construção da Rede GRU"
      ]
    },
    {
      "cell_type": "markdown",
      "metadata": {
        "id": "nrrCCb-xxqwb"
      },
      "source": [
        "#### Criar a estrutura de dados com janela 15 e output 1"
      ]
    },
    {
      "cell_type": "code",
      "metadata": {
        "id": "iTy1ytPxz0Oq"
      },
      "source": [
        "window = 15\n",
        "trainSize = len(training_set_scaled)\n",
        "X_train = []\n",
        "y_train = []\n",
        "for i in range(window, trainSize):\n",
        "    X_train.append(training_set_scaled[i-window:i, 0])\n",
        "    y_train.append(training_set_scaled[i, 0])\n",
        "X_train, y_train = np.array(X_train), np.array(y_train)"
      ],
      "execution_count": null,
      "outputs": []
    },
    {
      "cell_type": "markdown",
      "metadata": {
        "id": "uNzoODPYx1K2"
      },
      "source": [
        "#### Reshaping"
      ]
    },
    {
      "cell_type": "code",
      "metadata": {
        "colab": {
          "base_uri": "https://localhost:8080/"
        },
        "id": "1maKqU8xz-Po",
        "outputId": "31486aa3-82cf-4035-c479-7b7fb3a83367"
      },
      "source": [
        "X_train.shape"
      ],
      "execution_count": null,
      "outputs": [
        {
          "output_type": "execute_result",
          "data": {
            "text/plain": [
              "(45, 15)"
            ]
          },
          "metadata": {
            "tags": []
          },
          "execution_count": 24
        }
      ]
    },
    {
      "cell_type": "code",
      "metadata": {
        "id": "HbthKVFAz_Ao"
      },
      "source": [
        "X_train = np.reshape(X_train, (X_train.shape[0], X_train.shape[1], 1))"
      ],
      "execution_count": null,
      "outputs": []
    },
    {
      "cell_type": "code",
      "metadata": {
        "colab": {
          "base_uri": "https://localhost:8080/"
        },
        "id": "VDjU8G3w0Nc9",
        "outputId": "7a7889e0-ec33-450d-c54a-20cfbd17804c"
      },
      "source": [
        "X_train.shape"
      ],
      "execution_count": null,
      "outputs": [
        {
          "output_type": "execute_result",
          "data": {
            "text/plain": [
              "(45, 15, 1)"
            ]
          },
          "metadata": {
            "tags": []
          },
          "execution_count": 26
        }
      ]
    },
    {
      "cell_type": "markdown",
      "metadata": {
        "id": "80rgAjATx7f4"
      },
      "source": [
        "#### Variáveis"
      ]
    },
    {
      "cell_type": "code",
      "metadata": {
        "id": "6GHrLfUSvYdp"
      },
      "source": [
        "num_epoch = 500\n",
        "learning_rate = 0.01\n",
        "batch_size = 32"
      ],
      "execution_count": null,
      "outputs": []
    },
    {
      "cell_type": "markdown",
      "metadata": {
        "id": "2e-VsCvpyA2f"
      },
      "source": [
        "#### Callbacks"
      ]
    },
    {
      "cell_type": "code",
      "metadata": {
        "id": "3JleKXRsAlUK"
      },
      "source": [
        "#es = EarlyStopping(monitor=\"loss\", min_delta = 0.00001, patience = 100, mode = 'min', restore_best_weights=True, verbose = True)\n",
        "rlr = ReduceLROnPlateau(monitor='loss', patience=100, mode = 'min', factor=0.1, verbose = True)\n",
        "#mc = ModelCheckpoint(filepath= 'best_GRU_{epoch:03d}-{val_loss:.4f}.h5', save_best_only=True, verbose = True)"
      ],
      "execution_count": null,
      "outputs": []
    },
    {
      "cell_type": "markdown",
      "metadata": {
        "id": "PDneXzF-yDlC"
      },
      "source": [
        "#### Otimizadores"
      ]
    },
    {
      "cell_type": "code",
      "metadata": {
        "id": "-KZttOH0vR49"
      },
      "source": [
        "adam = Adam(lr=learning_rate, decay=1e-7)\n",
        "#sgd = SGD(lr=learning_rate, decay=1e-7, momentum=0.9, nesterov=False)"
      ],
      "execution_count": null,
      "outputs": []
    },
    {
      "cell_type": "markdown",
      "metadata": {
        "id": "SNISYUHeyMu9"
      },
      "source": [
        "#### Construção da Rede LSTM"
      ]
    },
    {
      "cell_type": "code",
      "metadata": {
        "id": "WaFWjBSjZpts"
      },
      "source": [
        "# The GRU architecture\n",
        "regressorGRU = Sequential()\n",
        "# First GRU layer with Dropout regularisation\n",
        "#regressorGRU.add(GRU(units=50, return_sequences=True, input_shape=(X_train.shape[1],1), activation='tanh'))\n",
        "#regressorGRU.add(Dropout(0.2))\n",
        "# Second GRU layer\n",
        "#regressorGRU.add(GRU(units=50, return_sequences=True, input_shape=(X_train.shape[1],1), activation='tanh'))\n",
        "#regressorGRU.add(Dropout(0.2))\n",
        "# Third GRU layer\n",
        "regressorGRU.add(GRU(units=50, return_sequences=True, input_shape=(X_train.shape[1],1), activation='tanh'))\n",
        "regressorGRU.add(Dropout(0.2))\n",
        "# Fourth GRU layer\n",
        "regressorGRU.add(GRU(units=50, activation='tanh'))\n",
        "regressorGRU.add(Dropout(0.2))\n",
        "# The output layer\n",
        "regressorGRU.add(Dense(units=1))\n",
        "# Compiling the RNN\n",
        "regressorGRU.compile(optimizer=adam, loss='mean_squared_error', metrics = ['mean_absolute_error'])"
      ],
      "execution_count": null,
      "outputs": []
    },
    {
      "cell_type": "markdown",
      "metadata": {
        "id": "Hn_meAOKyOYu"
      },
      "source": [
        "#### Treinamento"
      ]
    },
    {
      "cell_type": "code",
      "metadata": {
        "colab": {
          "base_uri": "https://localhost:8080/"
        },
        "id": "V3F2_mbewyW6",
        "outputId": "bf65a706-ef5e-47b3-e62a-9a2a28811d9e"
      },
      "source": [
        "# Fitting to the training set\n",
        "regressorGRU.fit(X_train, y_train, epochs = num_epoch, batch_size = batch_size, callbacks = [rlr]) "
      ],
      "execution_count": null,
      "outputs": [
        {
          "output_type": "stream",
          "text": [
            "Epoch 1/500\n",
            "2/2 [==============================] - 3s 18ms/step - loss: 0.1230 - mean_absolute_error: 0.2612\n",
            "Epoch 2/500\n",
            "2/2 [==============================] - 0s 16ms/step - loss: 0.0680 - mean_absolute_error: 0.2140\n",
            "Epoch 3/500\n",
            "2/2 [==============================] - 0s 16ms/step - loss: 0.0667 - mean_absolute_error: 0.1691\n",
            "Epoch 4/500\n",
            "2/2 [==============================] - 0s 17ms/step - loss: 0.0403 - mean_absolute_error: 0.1657\n",
            "Epoch 5/500\n",
            "2/2 [==============================] - 0s 17ms/step - loss: 0.0475 - mean_absolute_error: 0.1891\n",
            "Epoch 6/500\n",
            "2/2 [==============================] - 0s 17ms/step - loss: 0.0365 - mean_absolute_error: 0.1565\n",
            "Epoch 7/500\n",
            "2/2 [==============================] - 0s 18ms/step - loss: 0.0379 - mean_absolute_error: 0.1399\n",
            "Epoch 8/500\n",
            "2/2 [==============================] - 0s 18ms/step - loss: 0.0298 - mean_absolute_error: 0.1353\n",
            "Epoch 9/500\n",
            "2/2 [==============================] - 0s 16ms/step - loss: 0.0248 - mean_absolute_error: 0.1292\n",
            "Epoch 10/500\n",
            "2/2 [==============================] - 0s 23ms/step - loss: 0.0253 - mean_absolute_error: 0.1324\n",
            "Epoch 11/500\n",
            "2/2 [==============================] - 0s 18ms/step - loss: 0.0204 - mean_absolute_error: 0.1130\n",
            "Epoch 12/500\n",
            "2/2 [==============================] - 0s 17ms/step - loss: 0.0203 - mean_absolute_error: 0.1034\n",
            "Epoch 13/500\n",
            "2/2 [==============================] - 0s 24ms/step - loss: 0.0316 - mean_absolute_error: 0.1365\n",
            "Epoch 14/500\n",
            "2/2 [==============================] - 0s 20ms/step - loss: 0.0210 - mean_absolute_error: 0.1070\n",
            "Epoch 15/500\n",
            "2/2 [==============================] - 0s 24ms/step - loss: 0.0215 - mean_absolute_error: 0.1100\n",
            "Epoch 16/500\n",
            "2/2 [==============================] - 0s 18ms/step - loss: 0.0177 - mean_absolute_error: 0.1000\n",
            "Epoch 17/500\n",
            "2/2 [==============================] - 0s 18ms/step - loss: 0.0183 - mean_absolute_error: 0.0964\n",
            "Epoch 18/500\n",
            "2/2 [==============================] - 0s 22ms/step - loss: 0.0198 - mean_absolute_error: 0.0986\n",
            "Epoch 19/500\n",
            "2/2 [==============================] - 0s 16ms/step - loss: 0.0222 - mean_absolute_error: 0.1173\n",
            "Epoch 20/500\n",
            "2/2 [==============================] - 0s 18ms/step - loss: 0.0215 - mean_absolute_error: 0.1059\n",
            "Epoch 21/500\n",
            "2/2 [==============================] - 0s 19ms/step - loss: 0.0164 - mean_absolute_error: 0.1043\n",
            "Epoch 22/500\n",
            "2/2 [==============================] - 0s 21ms/step - loss: 0.0198 - mean_absolute_error: 0.1131\n",
            "Epoch 23/500\n",
            "2/2 [==============================] - 0s 21ms/step - loss: 0.0177 - mean_absolute_error: 0.0940\n",
            "Epoch 24/500\n",
            "2/2 [==============================] - 0s 21ms/step - loss: 0.0158 - mean_absolute_error: 0.0980\n",
            "Epoch 25/500\n",
            "2/2 [==============================] - 0s 20ms/step - loss: 0.0138 - mean_absolute_error: 0.0933\n",
            "Epoch 26/500\n",
            "2/2 [==============================] - 0s 23ms/step - loss: 0.0148 - mean_absolute_error: 0.0870\n",
            "Epoch 27/500\n",
            "2/2 [==============================] - 0s 23ms/step - loss: 0.0161 - mean_absolute_error: 0.0840\n",
            "Epoch 28/500\n",
            "2/2 [==============================] - 0s 19ms/step - loss: 0.0139 - mean_absolute_error: 0.0748\n",
            "Epoch 29/500\n",
            "2/2 [==============================] - 0s 18ms/step - loss: 0.0147 - mean_absolute_error: 0.0894\n",
            "Epoch 30/500\n",
            "2/2 [==============================] - 0s 21ms/step - loss: 0.0163 - mean_absolute_error: 0.0918\n",
            "Epoch 31/500\n",
            "2/2 [==============================] - 0s 20ms/step - loss: 0.0179 - mean_absolute_error: 0.0993\n",
            "Epoch 32/500\n",
            "2/2 [==============================] - 0s 17ms/step - loss: 0.0124 - mean_absolute_error: 0.0835\n",
            "Epoch 33/500\n",
            "2/2 [==============================] - 0s 16ms/step - loss: 0.0147 - mean_absolute_error: 0.0874\n",
            "Epoch 34/500\n",
            "2/2 [==============================] - 0s 19ms/step - loss: 0.0152 - mean_absolute_error: 0.0848\n",
            "Epoch 35/500\n",
            "2/2 [==============================] - 0s 28ms/step - loss: 0.0141 - mean_absolute_error: 0.0878\n",
            "Epoch 36/500\n",
            "2/2 [==============================] - 0s 18ms/step - loss: 0.0125 - mean_absolute_error: 0.0757\n",
            "Epoch 37/500\n",
            "2/2 [==============================] - 0s 25ms/step - loss: 0.0152 - mean_absolute_error: 0.0875\n",
            "Epoch 38/500\n",
            "2/2 [==============================] - 0s 19ms/step - loss: 0.0160 - mean_absolute_error: 0.0912\n",
            "Epoch 39/500\n",
            "2/2 [==============================] - 0s 18ms/step - loss: 0.0139 - mean_absolute_error: 0.0864\n",
            "Epoch 40/500\n",
            "2/2 [==============================] - 0s 19ms/step - loss: 0.0178 - mean_absolute_error: 0.0884\n",
            "Epoch 41/500\n",
            "2/2 [==============================] - 0s 21ms/step - loss: 0.0095 - mean_absolute_error: 0.0719\n",
            "Epoch 42/500\n",
            "2/2 [==============================] - 0s 21ms/step - loss: 0.0179 - mean_absolute_error: 0.0910\n",
            "Epoch 43/500\n",
            "2/2 [==============================] - 0s 21ms/step - loss: 0.0102 - mean_absolute_error: 0.0714\n",
            "Epoch 44/500\n",
            "2/2 [==============================] - 0s 19ms/step - loss: 0.0130 - mean_absolute_error: 0.0770\n",
            "Epoch 45/500\n",
            "2/2 [==============================] - 0s 19ms/step - loss: 0.0095 - mean_absolute_error: 0.0726\n",
            "Epoch 46/500\n",
            "2/2 [==============================] - 0s 19ms/step - loss: 0.0132 - mean_absolute_error: 0.0799\n",
            "Epoch 47/500\n",
            "2/2 [==============================] - 0s 17ms/step - loss: 0.0117 - mean_absolute_error: 0.0766\n",
            "Epoch 48/500\n",
            "2/2 [==============================] - 0s 19ms/step - loss: 0.0162 - mean_absolute_error: 0.0912\n",
            "Epoch 49/500\n",
            "2/2 [==============================] - 0s 19ms/step - loss: 0.0157 - mean_absolute_error: 0.0866\n",
            "Epoch 50/500\n",
            "2/2 [==============================] - 0s 19ms/step - loss: 0.0204 - mean_absolute_error: 0.1082\n",
            "Epoch 51/500\n",
            "2/2 [==============================] - 0s 18ms/step - loss: 0.0093 - mean_absolute_error: 0.0659\n",
            "Epoch 52/500\n",
            "2/2 [==============================] - 0s 18ms/step - loss: 0.0119 - mean_absolute_error: 0.0795\n",
            "Epoch 53/500\n",
            "2/2 [==============================] - 0s 19ms/step - loss: 0.0130 - mean_absolute_error: 0.0822\n",
            "Epoch 54/500\n",
            "2/2 [==============================] - 0s 20ms/step - loss: 0.0121 - mean_absolute_error: 0.0744\n",
            "Epoch 55/500\n",
            "2/2 [==============================] - 0s 21ms/step - loss: 0.0136 - mean_absolute_error: 0.0810\n",
            "Epoch 56/500\n",
            "2/2 [==============================] - 0s 26ms/step - loss: 0.0144 - mean_absolute_error: 0.0883\n",
            "Epoch 57/500\n",
            "2/2 [==============================] - 0s 27ms/step - loss: 0.0113 - mean_absolute_error: 0.0819\n",
            "Epoch 58/500\n",
            "2/2 [==============================] - 0s 20ms/step - loss: 0.0139 - mean_absolute_error: 0.0811\n",
            "Epoch 59/500\n",
            "2/2 [==============================] - 0s 17ms/step - loss: 0.0116 - mean_absolute_error: 0.0774\n",
            "Epoch 60/500\n",
            "2/2 [==============================] - 0s 21ms/step - loss: 0.0115 - mean_absolute_error: 0.0755\n",
            "Epoch 61/500\n",
            "2/2 [==============================] - 0s 17ms/step - loss: 0.0114 - mean_absolute_error: 0.0738\n",
            "Epoch 62/500\n",
            "2/2 [==============================] - 0s 19ms/step - loss: 0.0081 - mean_absolute_error: 0.0656\n",
            "Epoch 63/500\n",
            "2/2 [==============================] - 0s 18ms/step - loss: 0.0125 - mean_absolute_error: 0.0788\n",
            "Epoch 64/500\n",
            "2/2 [==============================] - 0s 17ms/step - loss: 0.0120 - mean_absolute_error: 0.0676\n",
            "Epoch 65/500\n",
            "2/2 [==============================] - 0s 18ms/step - loss: 0.0104 - mean_absolute_error: 0.0691\n",
            "Epoch 66/500\n",
            "2/2 [==============================] - 0s 18ms/step - loss: 0.0101 - mean_absolute_error: 0.0658\n",
            "Epoch 67/500\n",
            "2/2 [==============================] - 0s 19ms/step - loss: 0.0121 - mean_absolute_error: 0.0717\n",
            "Epoch 68/500\n",
            "2/2 [==============================] - 0s 20ms/step - loss: 0.0117 - mean_absolute_error: 0.0749\n",
            "Epoch 69/500\n",
            "2/2 [==============================] - 0s 19ms/step - loss: 0.0084 - mean_absolute_error: 0.0624\n",
            "Epoch 70/500\n",
            "2/2 [==============================] - 0s 18ms/step - loss: 0.0091 - mean_absolute_error: 0.0704\n",
            "Epoch 71/500\n",
            "2/2 [==============================] - 0s 19ms/step - loss: 0.0109 - mean_absolute_error: 0.0768\n",
            "Epoch 72/500\n",
            "2/2 [==============================] - 0s 19ms/step - loss: 0.0140 - mean_absolute_error: 0.0848\n",
            "Epoch 73/500\n",
            "2/2 [==============================] - 0s 18ms/step - loss: 0.0097 - mean_absolute_error: 0.0721\n",
            "Epoch 74/500\n",
            "2/2 [==============================] - 0s 17ms/step - loss: 0.0105 - mean_absolute_error: 0.0749\n",
            "Epoch 75/500\n",
            "2/2 [==============================] - 0s 17ms/step - loss: 0.0119 - mean_absolute_error: 0.0773\n",
            "Epoch 76/500\n",
            "2/2 [==============================] - 0s 19ms/step - loss: 0.0103 - mean_absolute_error: 0.0689\n",
            "Epoch 77/500\n",
            "2/2 [==============================] - 0s 19ms/step - loss: 0.0098 - mean_absolute_error: 0.0743\n",
            "Epoch 78/500\n",
            "2/2 [==============================] - 0s 18ms/step - loss: 0.0112 - mean_absolute_error: 0.0712\n",
            "Epoch 79/500\n",
            "2/2 [==============================] - 0s 33ms/step - loss: 0.0109 - mean_absolute_error: 0.0735\n",
            "Epoch 80/500\n",
            "2/2 [==============================] - 0s 19ms/step - loss: 0.0099 - mean_absolute_error: 0.0681\n",
            "Epoch 81/500\n",
            "2/2 [==============================] - 0s 19ms/step - loss: 0.0098 - mean_absolute_error: 0.0688\n",
            "Epoch 82/500\n",
            "2/2 [==============================] - 0s 18ms/step - loss: 0.0103 - mean_absolute_error: 0.0749\n",
            "Epoch 83/500\n",
            "2/2 [==============================] - 0s 18ms/step - loss: 0.0109 - mean_absolute_error: 0.0704\n",
            "Epoch 84/500\n",
            "2/2 [==============================] - 0s 19ms/step - loss: 0.0141 - mean_absolute_error: 0.0853\n",
            "Epoch 85/500\n",
            "2/2 [==============================] - 0s 21ms/step - loss: 0.0135 - mean_absolute_error: 0.0801\n",
            "Epoch 86/500\n",
            "2/2 [==============================] - 0s 18ms/step - loss: 0.0122 - mean_absolute_error: 0.0761\n",
            "Epoch 87/500\n",
            "2/2 [==============================] - 0s 18ms/step - loss: 0.0109 - mean_absolute_error: 0.0642\n",
            "Epoch 88/500\n",
            "2/2 [==============================] - 0s 19ms/step - loss: 0.0065 - mean_absolute_error: 0.0545\n",
            "Epoch 89/500\n",
            "2/2 [==============================] - 0s 28ms/step - loss: 0.0117 - mean_absolute_error: 0.0712\n",
            "Epoch 90/500\n",
            "2/2 [==============================] - 0s 19ms/step - loss: 0.0090 - mean_absolute_error: 0.0623\n",
            "Epoch 91/500\n",
            "2/2 [==============================] - 0s 19ms/step - loss: 0.0136 - mean_absolute_error: 0.0932\n",
            "Epoch 92/500\n",
            "2/2 [==============================] - 0s 20ms/step - loss: 0.0096 - mean_absolute_error: 0.0697\n",
            "Epoch 93/500\n",
            "2/2 [==============================] - 0s 19ms/step - loss: 0.0152 - mean_absolute_error: 0.0916\n",
            "Epoch 94/500\n",
            "2/2 [==============================] - 0s 18ms/step - loss: 0.0089 - mean_absolute_error: 0.0693\n",
            "Epoch 95/500\n",
            "2/2 [==============================] - 0s 18ms/step - loss: 0.0095 - mean_absolute_error: 0.0699\n",
            "Epoch 96/500\n",
            "2/2 [==============================] - 0s 19ms/step - loss: 0.0139 - mean_absolute_error: 0.0747\n",
            "Epoch 97/500\n",
            "2/2 [==============================] - 0s 20ms/step - loss: 0.0074 - mean_absolute_error: 0.0568\n",
            "Epoch 98/500\n",
            "2/2 [==============================] - 0s 18ms/step - loss: 0.0076 - mean_absolute_error: 0.0624\n",
            "Epoch 99/500\n",
            "2/2 [==============================] - 0s 19ms/step - loss: 0.0092 - mean_absolute_error: 0.0628\n",
            "Epoch 100/500\n",
            "2/2 [==============================] - 0s 20ms/step - loss: 0.0097 - mean_absolute_error: 0.0656\n",
            "Epoch 101/500\n",
            "2/2 [==============================] - 0s 27ms/step - loss: 0.0117 - mean_absolute_error: 0.0694\n",
            "Epoch 102/500\n",
            "2/2 [==============================] - 0s 20ms/step - loss: 0.0092 - mean_absolute_error: 0.0651\n",
            "Epoch 103/500\n",
            "2/2 [==============================] - 0s 20ms/step - loss: 0.0095 - mean_absolute_error: 0.0644\n",
            "Epoch 104/500\n",
            "2/2 [==============================] - 0s 20ms/step - loss: 0.0084 - mean_absolute_error: 0.0611\n",
            "Epoch 105/500\n",
            "2/2 [==============================] - 0s 19ms/step - loss: 0.0079 - mean_absolute_error: 0.0573\n",
            "Epoch 106/500\n",
            "2/2 [==============================] - 0s 20ms/step - loss: 0.0060 - mean_absolute_error: 0.0566\n",
            "Epoch 107/500\n",
            "2/2 [==============================] - 0s 20ms/step - loss: 0.0077 - mean_absolute_error: 0.0621\n",
            "Epoch 108/500\n",
            "2/2 [==============================] - 0s 20ms/step - loss: 0.0087 - mean_absolute_error: 0.0655\n",
            "Epoch 109/500\n",
            "2/2 [==============================] - 0s 21ms/step - loss: 0.0109 - mean_absolute_error: 0.0654\n",
            "Epoch 110/500\n",
            "2/2 [==============================] - 0s 19ms/step - loss: 0.0078 - mean_absolute_error: 0.0602\n",
            "Epoch 111/500\n",
            "2/2 [==============================] - 0s 19ms/step - loss: 0.0102 - mean_absolute_error: 0.0706\n",
            "Epoch 112/500\n",
            "2/2 [==============================] - 0s 17ms/step - loss: 0.0062 - mean_absolute_error: 0.0574\n",
            "Epoch 113/500\n",
            "2/2 [==============================] - 0s 19ms/step - loss: 0.0101 - mean_absolute_error: 0.0687\n",
            "Epoch 114/500\n",
            "2/2 [==============================] - 0s 22ms/step - loss: 0.0102 - mean_absolute_error: 0.0637\n",
            "Epoch 115/500\n",
            "2/2 [==============================] - 0s 22ms/step - loss: 0.0071 - mean_absolute_error: 0.0544\n",
            "Epoch 116/500\n",
            "2/2 [==============================] - 0s 24ms/step - loss: 0.0109 - mean_absolute_error: 0.0647\n",
            "Epoch 117/500\n",
            "2/2 [==============================] - 0s 25ms/step - loss: 0.0105 - mean_absolute_error: 0.0669\n",
            "Epoch 118/500\n",
            "2/2 [==============================] - 0s 18ms/step - loss: 0.0078 - mean_absolute_error: 0.0693\n",
            "Epoch 119/500\n",
            "2/2 [==============================] - 0s 19ms/step - loss: 0.0088 - mean_absolute_error: 0.0584\n",
            "Epoch 120/500\n",
            "2/2 [==============================] - 0s 19ms/step - loss: 0.0106 - mean_absolute_error: 0.0841\n",
            "Epoch 121/500\n",
            "2/2 [==============================] - 0s 22ms/step - loss: 0.0078 - mean_absolute_error: 0.0675\n",
            "Epoch 122/500\n",
            "2/2 [==============================] - 0s 27ms/step - loss: 0.0109 - mean_absolute_error: 0.0828\n",
            "Epoch 123/500\n",
            "2/2 [==============================] - 0s 19ms/step - loss: 0.0084 - mean_absolute_error: 0.0635\n",
            "Epoch 124/500\n",
            "2/2 [==============================] - 0s 21ms/step - loss: 0.0102 - mean_absolute_error: 0.0726\n",
            "Epoch 125/500\n",
            "2/2 [==============================] - 0s 25ms/step - loss: 0.0083 - mean_absolute_error: 0.0560\n",
            "Epoch 126/500\n",
            "2/2 [==============================] - 0s 22ms/step - loss: 0.0084 - mean_absolute_error: 0.0645\n",
            "Epoch 127/500\n",
            "2/2 [==============================] - 0s 21ms/step - loss: 0.0076 - mean_absolute_error: 0.0622\n",
            "Epoch 128/500\n",
            "2/2 [==============================] - 0s 20ms/step - loss: 0.0105 - mean_absolute_error: 0.0666\n",
            "Epoch 129/500\n",
            "2/2 [==============================] - 0s 19ms/step - loss: 0.0062 - mean_absolute_error: 0.0550\n",
            "Epoch 130/500\n",
            "2/2 [==============================] - 0s 17ms/step - loss: 0.0096 - mean_absolute_error: 0.0638\n",
            "Epoch 131/500\n",
            "2/2 [==============================] - 0s 18ms/step - loss: 0.0090 - mean_absolute_error: 0.0660\n",
            "Epoch 132/500\n",
            "2/2 [==============================] - 0s 20ms/step - loss: 0.0054 - mean_absolute_error: 0.0487\n",
            "Epoch 133/500\n",
            "2/2 [==============================] - 0s 21ms/step - loss: 0.0092 - mean_absolute_error: 0.0712\n",
            "Epoch 134/500\n",
            "2/2 [==============================] - 0s 19ms/step - loss: 0.0064 - mean_absolute_error: 0.0615\n",
            "Epoch 135/500\n",
            "2/2 [==============================] - 0s 20ms/step - loss: 0.0132 - mean_absolute_error: 0.0784\n",
            "Epoch 136/500\n",
            "2/2 [==============================] - 0s 25ms/step - loss: 0.0063 - mean_absolute_error: 0.0550\n",
            "Epoch 137/500\n",
            "2/2 [==============================] - 0s 19ms/step - loss: 0.0057 - mean_absolute_error: 0.0612\n",
            "Epoch 138/500\n",
            "2/2 [==============================] - 0s 20ms/step - loss: 0.0099 - mean_absolute_error: 0.0685\n",
            "Epoch 139/500\n",
            "2/2 [==============================] - 0s 18ms/step - loss: 0.0075 - mean_absolute_error: 0.0619\n",
            "Epoch 140/500\n",
            "2/2 [==============================] - 0s 29ms/step - loss: 0.0050 - mean_absolute_error: 0.0445\n",
            "Epoch 141/500\n",
            "2/2 [==============================] - 0s 19ms/step - loss: 0.0066 - mean_absolute_error: 0.0574\n",
            "Epoch 142/500\n",
            "2/2 [==============================] - 0s 22ms/step - loss: 0.0079 - mean_absolute_error: 0.0608\n",
            "Epoch 143/500\n",
            "2/2 [==============================] - 0s 19ms/step - loss: 0.0073 - mean_absolute_error: 0.0610\n",
            "Epoch 144/500\n",
            "2/2 [==============================] - 0s 20ms/step - loss: 0.0047 - mean_absolute_error: 0.0491\n",
            "Epoch 145/500\n",
            "2/2 [==============================] - 0s 21ms/step - loss: 0.0062 - mean_absolute_error: 0.0566\n",
            "Epoch 146/500\n",
            "2/2 [==============================] - 0s 20ms/step - loss: 0.0073 - mean_absolute_error: 0.0586\n",
            "Epoch 147/500\n",
            "2/2 [==============================] - 0s 21ms/step - loss: 0.0050 - mean_absolute_error: 0.0542\n",
            "Epoch 148/500\n",
            "2/2 [==============================] - 0s 24ms/step - loss: 0.0113 - mean_absolute_error: 0.0842\n",
            "Epoch 149/500\n",
            "2/2 [==============================] - 0s 19ms/step - loss: 0.0100 - mean_absolute_error: 0.0801\n",
            "Epoch 150/500\n",
            "2/2 [==============================] - 0s 21ms/step - loss: 0.0206 - mean_absolute_error: 0.1032\n",
            "Epoch 151/500\n",
            "2/2 [==============================] - 0s 23ms/step - loss: 0.0126 - mean_absolute_error: 0.0831\n",
            "Epoch 152/500\n",
            "2/2 [==============================] - 0s 20ms/step - loss: 0.0128 - mean_absolute_error: 0.0914\n",
            "Epoch 153/500\n",
            "2/2 [==============================] - 0s 19ms/step - loss: 0.0064 - mean_absolute_error: 0.0600\n",
            "Epoch 154/500\n",
            "2/2 [==============================] - 0s 20ms/step - loss: 0.0094 - mean_absolute_error: 0.0732\n",
            "Epoch 155/500\n",
            "2/2 [==============================] - 0s 17ms/step - loss: 0.0110 - mean_absolute_error: 0.0785\n",
            "Epoch 156/500\n",
            "2/2 [==============================] - 0s 19ms/step - loss: 0.0066 - mean_absolute_error: 0.0590\n",
            "Epoch 157/500\n",
            "2/2 [==============================] - 0s 21ms/step - loss: 0.0063 - mean_absolute_error: 0.0529\n",
            "Epoch 158/500\n",
            "2/2 [==============================] - 0s 17ms/step - loss: 0.0070 - mean_absolute_error: 0.0578\n",
            "Epoch 159/500\n",
            "2/2 [==============================] - 0s 20ms/step - loss: 0.0086 - mean_absolute_error: 0.0621\n",
            "Epoch 160/500\n",
            "2/2 [==============================] - 0s 21ms/step - loss: 0.0063 - mean_absolute_error: 0.0531\n",
            "Epoch 161/500\n",
            "2/2 [==============================] - 0s 20ms/step - loss: 0.0061 - mean_absolute_error: 0.0552\n",
            "Epoch 162/500\n",
            "2/2 [==============================] - 0s 21ms/step - loss: 0.0073 - mean_absolute_error: 0.0619\n",
            "Epoch 163/500\n",
            "2/2 [==============================] - 0s 25ms/step - loss: 0.0069 - mean_absolute_error: 0.0567\n",
            "Epoch 164/500\n",
            "2/2 [==============================] - 0s 18ms/step - loss: 0.0071 - mean_absolute_error: 0.0601\n",
            "Epoch 165/500\n",
            "2/2 [==============================] - 0s 20ms/step - loss: 0.0047 - mean_absolute_error: 0.0517\n",
            "Epoch 166/500\n",
            "2/2 [==============================] - 0s 20ms/step - loss: 0.0071 - mean_absolute_error: 0.0646\n",
            "Epoch 167/500\n",
            "2/2 [==============================] - 0s 23ms/step - loss: 0.0075 - mean_absolute_error: 0.0651\n",
            "Epoch 168/500\n",
            "2/2 [==============================] - 0s 20ms/step - loss: 0.0053 - mean_absolute_error: 0.0557\n",
            "Epoch 169/500\n",
            "2/2 [==============================] - 0s 18ms/step - loss: 0.0056 - mean_absolute_error: 0.0535\n",
            "Epoch 170/500\n",
            "2/2 [==============================] - 0s 19ms/step - loss: 0.0067 - mean_absolute_error: 0.0631\n",
            "Epoch 171/500\n",
            "2/2 [==============================] - 0s 20ms/step - loss: 0.0045 - mean_absolute_error: 0.0474\n",
            "Epoch 172/500\n",
            "2/2 [==============================] - 0s 23ms/step - loss: 0.0095 - mean_absolute_error: 0.0697\n",
            "Epoch 173/500\n",
            "2/2 [==============================] - 0s 19ms/step - loss: 0.0051 - mean_absolute_error: 0.0533\n",
            "Epoch 174/500\n",
            "2/2 [==============================] - 0s 24ms/step - loss: 0.0054 - mean_absolute_error: 0.0603\n",
            "Epoch 175/500\n",
            "2/2 [==============================] - 0s 18ms/step - loss: 0.0051 - mean_absolute_error: 0.0529\n",
            "Epoch 176/500\n",
            "2/2 [==============================] - 0s 20ms/step - loss: 0.0055 - mean_absolute_error: 0.0556\n",
            "Epoch 177/500\n",
            "2/2 [==============================] - 0s 21ms/step - loss: 0.0047 - mean_absolute_error: 0.0520\n",
            "Epoch 178/500\n",
            "2/2 [==============================] - 0s 21ms/step - loss: 0.0042 - mean_absolute_error: 0.0508\n",
            "Epoch 179/500\n",
            "2/2 [==============================] - 0s 23ms/step - loss: 0.0099 - mean_absolute_error: 0.0680\n",
            "Epoch 180/500\n",
            "2/2 [==============================] - 0s 32ms/step - loss: 0.0078 - mean_absolute_error: 0.0565\n",
            "Epoch 181/500\n",
            "2/2 [==============================] - 0s 30ms/step - loss: 0.0058 - mean_absolute_error: 0.0586\n",
            "Epoch 182/500\n",
            "2/2 [==============================] - 0s 21ms/step - loss: 0.0050 - mean_absolute_error: 0.0523\n",
            "Epoch 183/500\n",
            "2/2 [==============================] - 0s 21ms/step - loss: 0.0061 - mean_absolute_error: 0.0549\n",
            "Epoch 184/500\n",
            "2/2 [==============================] - 0s 20ms/step - loss: 0.0047 - mean_absolute_error: 0.0531\n",
            "Epoch 185/500\n",
            "2/2 [==============================] - 0s 19ms/step - loss: 0.0079 - mean_absolute_error: 0.0632\n",
            "Epoch 186/500\n",
            "2/2 [==============================] - 0s 21ms/step - loss: 0.0052 - mean_absolute_error: 0.0538\n",
            "Epoch 187/500\n",
            "2/2 [==============================] - 0s 18ms/step - loss: 0.0087 - mean_absolute_error: 0.0638\n",
            "Epoch 188/500\n",
            "2/2 [==============================] - 0s 20ms/step - loss: 0.0054 - mean_absolute_error: 0.0543\n",
            "Epoch 189/500\n",
            "2/2 [==============================] - 0s 20ms/step - loss: 0.0044 - mean_absolute_error: 0.0511\n",
            "Epoch 190/500\n",
            "2/2 [==============================] - 0s 18ms/step - loss: 0.0053 - mean_absolute_error: 0.0588\n",
            "Epoch 191/500\n",
            "2/2 [==============================] - 0s 21ms/step - loss: 0.0045 - mean_absolute_error: 0.0486\n",
            "Epoch 192/500\n",
            "2/2 [==============================] - 0s 24ms/step - loss: 0.0048 - mean_absolute_error: 0.0489\n",
            "Epoch 193/500\n",
            "2/2 [==============================] - 0s 22ms/step - loss: 0.0041 - mean_absolute_error: 0.0447\n",
            "Epoch 194/500\n",
            "2/2 [==============================] - 0s 22ms/step - loss: 0.0050 - mean_absolute_error: 0.0512\n",
            "Epoch 195/500\n",
            "2/2 [==============================] - 0s 22ms/step - loss: 0.0043 - mean_absolute_error: 0.0457\n",
            "Epoch 196/500\n",
            "2/2 [==============================] - 0s 25ms/step - loss: 0.0063 - mean_absolute_error: 0.0541\n",
            "Epoch 197/500\n",
            "2/2 [==============================] - 0s 20ms/step - loss: 0.0047 - mean_absolute_error: 0.0514\n",
            "Epoch 198/500\n",
            "2/2 [==============================] - 0s 20ms/step - loss: 0.0047 - mean_absolute_error: 0.0517\n",
            "Epoch 199/500\n",
            "2/2 [==============================] - 0s 22ms/step - loss: 0.0045 - mean_absolute_error: 0.0532\n",
            "Epoch 200/500\n",
            "2/2 [==============================] - 0s 30ms/step - loss: 0.0033 - mean_absolute_error: 0.0449\n",
            "Epoch 201/500\n",
            "2/2 [==============================] - 0s 20ms/step - loss: 0.0053 - mean_absolute_error: 0.0563\n",
            "Epoch 202/500\n",
            "2/2 [==============================] - 0s 21ms/step - loss: 0.0070 - mean_absolute_error: 0.0614\n",
            "Epoch 203/500\n",
            "2/2 [==============================] - 0s 22ms/step - loss: 0.0088 - mean_absolute_error: 0.0751\n",
            "Epoch 204/500\n",
            "2/2 [==============================] - 0s 28ms/step - loss: 0.0043 - mean_absolute_error: 0.0511\n",
            "Epoch 205/500\n",
            "2/2 [==============================] - 0s 23ms/step - loss: 0.0074 - mean_absolute_error: 0.0655\n",
            "Epoch 206/500\n",
            "2/2 [==============================] - 0s 20ms/step - loss: 0.0038 - mean_absolute_error: 0.0486\n",
            "Epoch 207/500\n",
            "2/2 [==============================] - 0s 20ms/step - loss: 0.0161 - mean_absolute_error: 0.0822\n",
            "Epoch 208/500\n",
            "2/2 [==============================] - 0s 22ms/step - loss: 0.0089 - mean_absolute_error: 0.0650\n",
            "Epoch 209/500\n",
            "2/2 [==============================] - 0s 19ms/step - loss: 0.0046 - mean_absolute_error: 0.0532\n",
            "Epoch 210/500\n",
            "2/2 [==============================] - 0s 19ms/step - loss: 0.0058 - mean_absolute_error: 0.0585\n",
            "Epoch 211/500\n",
            "2/2 [==============================] - 0s 19ms/step - loss: 0.0057 - mean_absolute_error: 0.0584\n",
            "Epoch 212/500\n",
            "2/2 [==============================] - 0s 22ms/step - loss: 0.0043 - mean_absolute_error: 0.0463\n",
            "Epoch 213/500\n",
            "2/2 [==============================] - 0s 20ms/step - loss: 0.0043 - mean_absolute_error: 0.0441\n",
            "Epoch 214/500\n",
            "2/2 [==============================] - 0s 23ms/step - loss: 0.0060 - mean_absolute_error: 0.0529\n",
            "Epoch 215/500\n",
            "2/2 [==============================] - 0s 21ms/step - loss: 0.0027 - mean_absolute_error: 0.0395\n",
            "Epoch 216/500\n",
            "2/2 [==============================] - 0s 20ms/step - loss: 0.0043 - mean_absolute_error: 0.0524\n",
            "Epoch 217/500\n",
            "2/2 [==============================] - 0s 19ms/step - loss: 0.0046 - mean_absolute_error: 0.0528\n",
            "Epoch 218/500\n",
            "2/2 [==============================] - 0s 18ms/step - loss: 0.0066 - mean_absolute_error: 0.0630\n",
            "Epoch 219/500\n",
            "2/2 [==============================] - 0s 22ms/step - loss: 0.0050 - mean_absolute_error: 0.0558\n",
            "Epoch 220/500\n",
            "2/2 [==============================] - 0s 20ms/step - loss: 0.0029 - mean_absolute_error: 0.0425\n",
            "Epoch 221/500\n",
            "2/2 [==============================] - 0s 20ms/step - loss: 0.0042 - mean_absolute_error: 0.0514\n",
            "Epoch 222/500\n",
            "2/2 [==============================] - 0s 19ms/step - loss: 0.0045 - mean_absolute_error: 0.0489\n",
            "Epoch 223/500\n",
            "2/2 [==============================] - 0s 20ms/step - loss: 0.0038 - mean_absolute_error: 0.0501\n",
            "Epoch 224/500\n",
            "2/2 [==============================] - 0s 19ms/step - loss: 0.0046 - mean_absolute_error: 0.0501\n",
            "Epoch 225/500\n",
            "2/2 [==============================] - 0s 29ms/step - loss: 0.0036 - mean_absolute_error: 0.0480\n",
            "Epoch 226/500\n",
            "2/2 [==============================] - 0s 18ms/step - loss: 0.0029 - mean_absolute_error: 0.0409\n",
            "Epoch 227/500\n",
            "2/2 [==============================] - 0s 19ms/step - loss: 0.0048 - mean_absolute_error: 0.0508\n",
            "Epoch 228/500\n",
            "2/2 [==============================] - 0s 26ms/step - loss: 0.0050 - mean_absolute_error: 0.0527\n",
            "Epoch 229/500\n",
            "2/2 [==============================] - 0s 18ms/step - loss: 0.0036 - mean_absolute_error: 0.0460\n",
            "Epoch 230/500\n",
            "2/2 [==============================] - 0s 21ms/step - loss: 0.0048 - mean_absolute_error: 0.0492\n",
            "Epoch 231/500\n",
            "2/2 [==============================] - 0s 18ms/step - loss: 0.0056 - mean_absolute_error: 0.0546\n",
            "Epoch 232/500\n",
            "2/2 [==============================] - 0s 19ms/step - loss: 0.0031 - mean_absolute_error: 0.0449\n",
            "Epoch 233/500\n",
            "2/2 [==============================] - 0s 20ms/step - loss: 0.0032 - mean_absolute_error: 0.0460\n",
            "Epoch 234/500\n",
            "2/2 [==============================] - 0s 20ms/step - loss: 0.0039 - mean_absolute_error: 0.0470\n",
            "Epoch 235/500\n",
            "2/2 [==============================] - 0s 20ms/step - loss: 0.0046 - mean_absolute_error: 0.0477\n",
            "Epoch 236/500\n",
            "2/2 [==============================] - 0s 20ms/step - loss: 0.0040 - mean_absolute_error: 0.0432\n",
            "Epoch 237/500\n",
            "2/2 [==============================] - 0s 22ms/step - loss: 0.0047 - mean_absolute_error: 0.0456\n",
            "Epoch 238/500\n",
            "2/2 [==============================] - 0s 20ms/step - loss: 0.0051 - mean_absolute_error: 0.0568\n",
            "Epoch 239/500\n",
            "2/2 [==============================] - 0s 18ms/step - loss: 0.0033 - mean_absolute_error: 0.0474\n",
            "Epoch 240/500\n",
            "2/2 [==============================] - 0s 17ms/step - loss: 0.0041 - mean_absolute_error: 0.0501\n",
            "Epoch 241/500\n",
            "2/2 [==============================] - 0s 21ms/step - loss: 0.0039 - mean_absolute_error: 0.0470\n",
            "Epoch 242/500\n",
            "2/2 [==============================] - 0s 18ms/step - loss: 0.0022 - mean_absolute_error: 0.0390\n",
            "Epoch 243/500\n",
            "2/2 [==============================] - 0s 22ms/step - loss: 0.0041 - mean_absolute_error: 0.0477\n",
            "Epoch 244/500\n",
            "2/2 [==============================] - 0s 24ms/step - loss: 0.0057 - mean_absolute_error: 0.0546\n",
            "Epoch 245/500\n",
            "2/2 [==============================] - 0s 19ms/step - loss: 0.0036 - mean_absolute_error: 0.0471\n",
            "Epoch 246/500\n",
            "2/2 [==============================] - 0s 24ms/step - loss: 0.0021 - mean_absolute_error: 0.0375\n",
            "Epoch 247/500\n",
            "2/2 [==============================] - 0s 20ms/step - loss: 0.0041 - mean_absolute_error: 0.0527\n",
            "Epoch 248/500\n",
            "2/2 [==============================] - 0s 20ms/step - loss: 0.0037 - mean_absolute_error: 0.0459\n",
            "Epoch 249/500\n",
            "2/2 [==============================] - 0s 18ms/step - loss: 0.0034 - mean_absolute_error: 0.0438\n",
            "Epoch 250/500\n",
            "2/2 [==============================] - 0s 21ms/step - loss: 0.0044 - mean_absolute_error: 0.0501\n",
            "Epoch 251/500\n",
            "2/2 [==============================] - 0s 22ms/step - loss: 0.0021 - mean_absolute_error: 0.0344\n",
            "Epoch 252/500\n",
            "2/2 [==============================] - 0s 20ms/step - loss: 0.0032 - mean_absolute_error: 0.0456\n",
            "Epoch 253/500\n",
            "2/2 [==============================] - 0s 21ms/step - loss: 0.0025 - mean_absolute_error: 0.0379\n",
            "Epoch 254/500\n",
            "2/2 [==============================] - 0s 22ms/step - loss: 0.0024 - mean_absolute_error: 0.0373\n",
            "Epoch 255/500\n",
            "2/2 [==============================] - 0s 20ms/step - loss: 0.0025 - mean_absolute_error: 0.0411\n",
            "Epoch 256/500\n",
            "2/2 [==============================] - 0s 23ms/step - loss: 0.0025 - mean_absolute_error: 0.0402\n",
            "Epoch 257/500\n",
            "2/2 [==============================] - 0s 18ms/step - loss: 0.0041 - mean_absolute_error: 0.0498\n",
            "Epoch 258/500\n",
            "2/2 [==============================] - 0s 20ms/step - loss: 0.0031 - mean_absolute_error: 0.0446\n",
            "Epoch 259/500\n",
            "2/2 [==============================] - 0s 22ms/step - loss: 0.0025 - mean_absolute_error: 0.0405\n",
            "Epoch 260/500\n",
            "2/2 [==============================] - 0s 30ms/step - loss: 0.0028 - mean_absolute_error: 0.0416\n",
            "Epoch 261/500\n",
            "2/2 [==============================] - 0s 19ms/step - loss: 0.0048 - mean_absolute_error: 0.0521\n",
            "Epoch 262/500\n",
            "2/2 [==============================] - 0s 21ms/step - loss: 0.0043 - mean_absolute_error: 0.0498\n",
            "Epoch 263/500\n",
            "2/2 [==============================] - 0s 23ms/step - loss: 0.0024 - mean_absolute_error: 0.0361\n",
            "Epoch 264/500\n",
            "2/2 [==============================] - 0s 22ms/step - loss: 0.0043 - mean_absolute_error: 0.0539\n",
            "Epoch 265/500\n",
            "2/2 [==============================] - 0s 19ms/step - loss: 0.0035 - mean_absolute_error: 0.0462\n",
            "Epoch 266/500\n",
            "2/2 [==============================] - 0s 24ms/step - loss: 0.0023 - mean_absolute_error: 0.0405\n",
            "Epoch 267/500\n",
            "2/2 [==============================] - 0s 19ms/step - loss: 0.0055 - mean_absolute_error: 0.0503\n",
            "Epoch 268/500\n",
            "2/2 [==============================] - 0s 18ms/step - loss: 0.0038 - mean_absolute_error: 0.0475\n",
            "Epoch 269/500\n",
            "2/2 [==============================] - 0s 20ms/step - loss: 0.0028 - mean_absolute_error: 0.0397\n",
            "Epoch 270/500\n",
            "2/2 [==============================] - 0s 24ms/step - loss: 0.0143 - mean_absolute_error: 0.0737\n",
            "Epoch 271/500\n",
            "2/2 [==============================] - 0s 19ms/step - loss: 0.0035 - mean_absolute_error: 0.0458\n",
            "Epoch 272/500\n",
            "2/2 [==============================] - 0s 18ms/step - loss: 0.0056 - mean_absolute_error: 0.0620\n",
            "Epoch 273/500\n",
            "2/2 [==============================] - 0s 19ms/step - loss: 0.0070 - mean_absolute_error: 0.0591\n",
            "Epoch 274/500\n",
            "2/2 [==============================] - 0s 22ms/step - loss: 0.0063 - mean_absolute_error: 0.0604\n",
            "Epoch 275/500\n",
            "2/2 [==============================] - 0s 22ms/step - loss: 0.0036 - mean_absolute_error: 0.0474\n",
            "Epoch 276/500\n",
            "2/2 [==============================] - 0s 21ms/step - loss: 0.0024 - mean_absolute_error: 0.0393\n",
            "Epoch 277/500\n",
            "2/2 [==============================] - 0s 19ms/step - loss: 0.0025 - mean_absolute_error: 0.0399\n",
            "Epoch 278/500\n",
            "2/2 [==============================] - 0s 28ms/step - loss: 0.0042 - mean_absolute_error: 0.0489\n",
            "Epoch 279/500\n",
            "2/2 [==============================] - 0s 20ms/step - loss: 0.0035 - mean_absolute_error: 0.0463\n",
            "Epoch 280/500\n",
            "2/2 [==============================] - 0s 19ms/step - loss: 0.0036 - mean_absolute_error: 0.0451\n",
            "Epoch 281/500\n",
            "2/2 [==============================] - 0s 21ms/step - loss: 0.0025 - mean_absolute_error: 0.0439\n",
            "Epoch 282/500\n",
            "2/2 [==============================] - 0s 27ms/step - loss: 0.0034 - mean_absolute_error: 0.0451\n",
            "Epoch 283/500\n",
            "2/2 [==============================] - 0s 19ms/step - loss: 0.0026 - mean_absolute_error: 0.0375\n",
            "Epoch 284/500\n",
            "2/2 [==============================] - 0s 20ms/step - loss: 0.0029 - mean_absolute_error: 0.0422\n",
            "Epoch 285/500\n",
            "2/2 [==============================] - 0s 20ms/step - loss: 0.0035 - mean_absolute_error: 0.0430\n",
            "Epoch 286/500\n",
            "2/2 [==============================] - 0s 19ms/step - loss: 0.0020 - mean_absolute_error: 0.0374\n",
            "Epoch 287/500\n",
            "2/2 [==============================] - 0s 25ms/step - loss: 0.0019 - mean_absolute_error: 0.0366\n",
            "Epoch 288/500\n",
            "2/2 [==============================] - 0s 21ms/step - loss: 0.0031 - mean_absolute_error: 0.0405\n",
            "Epoch 289/500\n",
            "2/2 [==============================] - 0s 22ms/step - loss: 0.0025 - mean_absolute_error: 0.0379\n",
            "Epoch 290/500\n",
            "2/2 [==============================] - 0s 23ms/step - loss: 0.0036 - mean_absolute_error: 0.0420\n",
            "Epoch 291/500\n",
            "2/2 [==============================] - 0s 19ms/step - loss: 0.0016 - mean_absolute_error: 0.0330\n",
            "Epoch 292/500\n",
            "2/2 [==============================] - 0s 22ms/step - loss: 0.0015 - mean_absolute_error: 0.0308\n",
            "Epoch 293/500\n",
            "2/2 [==============================] - 0s 19ms/step - loss: 0.0028 - mean_absolute_error: 0.0409\n",
            "Epoch 294/500\n",
            "2/2 [==============================] - 0s 19ms/step - loss: 0.0043 - mean_absolute_error: 0.0480\n",
            "Epoch 295/500\n",
            "2/2 [==============================] - 0s 17ms/step - loss: 0.0030 - mean_absolute_error: 0.0420\n",
            "Epoch 296/500\n",
            "2/2 [==============================] - 0s 19ms/step - loss: 0.0021 - mean_absolute_error: 0.0373\n",
            "Epoch 297/500\n",
            "2/2 [==============================] - 0s 24ms/step - loss: 0.0026 - mean_absolute_error: 0.0400\n",
            "Epoch 298/500\n",
            "2/2 [==============================] - 0s 23ms/step - loss: 0.0022 - mean_absolute_error: 0.0382\n",
            "Epoch 299/500\n",
            "2/2 [==============================] - 0s 18ms/step - loss: 0.0021 - mean_absolute_error: 0.0373\n",
            "Epoch 300/500\n",
            "2/2 [==============================] - 0s 19ms/step - loss: 0.0024 - mean_absolute_error: 0.0358\n",
            "Epoch 301/500\n",
            "2/2 [==============================] - 0s 21ms/step - loss: 0.0024 - mean_absolute_error: 0.0367\n",
            "Epoch 302/500\n",
            "2/2 [==============================] - 0s 23ms/step - loss: 0.0018 - mean_absolute_error: 0.0322\n",
            "Epoch 303/500\n",
            "2/2 [==============================] - 0s 20ms/step - loss: 0.0036 - mean_absolute_error: 0.0423\n",
            "Epoch 304/500\n",
            "2/2 [==============================] - 0s 18ms/step - loss: 0.0025 - mean_absolute_error: 0.0392\n",
            "Epoch 305/500\n",
            "2/2 [==============================] - 0s 22ms/step - loss: 0.0055 - mean_absolute_error: 0.0552\n",
            "Epoch 306/500\n",
            "2/2 [==============================] - 0s 29ms/step - loss: 0.0028 - mean_absolute_error: 0.0407\n",
            "Epoch 307/500\n",
            "2/2 [==============================] - 0s 20ms/step - loss: 0.0033 - mean_absolute_error: 0.0444\n",
            "Epoch 308/500\n",
            "2/2 [==============================] - 0s 30ms/step - loss: 0.0037 - mean_absolute_error: 0.0491\n",
            "Epoch 309/500\n",
            "2/2 [==============================] - 0s 21ms/step - loss: 0.0061 - mean_absolute_error: 0.0572\n",
            "Epoch 310/500\n",
            "2/2 [==============================] - 0s 24ms/step - loss: 0.0031 - mean_absolute_error: 0.0453\n",
            "Epoch 311/500\n",
            "2/2 [==============================] - 0s 25ms/step - loss: 0.0031 - mean_absolute_error: 0.0426\n",
            "Epoch 312/500\n",
            "2/2 [==============================] - 0s 21ms/step - loss: 0.0029 - mean_absolute_error: 0.0388\n",
            "Epoch 313/500\n",
            "2/2 [==============================] - 0s 18ms/step - loss: 0.0030 - mean_absolute_error: 0.0436\n",
            "Epoch 314/500\n",
            "2/2 [==============================] - 0s 18ms/step - loss: 0.0019 - mean_absolute_error: 0.0317\n",
            "Epoch 315/500\n",
            "2/2 [==============================] - 0s 19ms/step - loss: 0.0025 - mean_absolute_error: 0.0384\n",
            "Epoch 316/500\n",
            "2/2 [==============================] - 0s 25ms/step - loss: 0.0029 - mean_absolute_error: 0.0422\n",
            "Epoch 317/500\n",
            "2/2 [==============================] - 0s 22ms/step - loss: 0.0019 - mean_absolute_error: 0.0337\n",
            "Epoch 318/500\n",
            "2/2 [==============================] - 0s 21ms/step - loss: 0.0031 - mean_absolute_error: 0.0428\n",
            "Epoch 319/500\n",
            "2/2 [==============================] - 0s 20ms/step - loss: 0.0020 - mean_absolute_error: 0.0315\n",
            "Epoch 320/500\n",
            "2/2 [==============================] - 0s 21ms/step - loss: 0.0031 - mean_absolute_error: 0.0433\n",
            "Epoch 321/500\n",
            "2/2 [==============================] - 0s 28ms/step - loss: 0.0020 - mean_absolute_error: 0.0359\n",
            "Epoch 322/500\n",
            "2/2 [==============================] - 0s 21ms/step - loss: 0.0022 - mean_absolute_error: 0.0378\n",
            "Epoch 323/500\n",
            "2/2 [==============================] - 0s 22ms/step - loss: 0.0027 - mean_absolute_error: 0.0435\n",
            "Epoch 324/500\n",
            "2/2 [==============================] - 0s 26ms/step - loss: 0.0032 - mean_absolute_error: 0.0438\n",
            "Epoch 325/500\n",
            "2/2 [==============================] - 0s 23ms/step - loss: 0.0024 - mean_absolute_error: 0.0352\n",
            "Epoch 326/500\n",
            "2/2 [==============================] - 0s 20ms/step - loss: 0.0029 - mean_absolute_error: 0.0378\n",
            "Epoch 327/500\n",
            "2/2 [==============================] - 0s 20ms/step - loss: 0.0039 - mean_absolute_error: 0.0473\n",
            "Epoch 328/500\n",
            "2/2 [==============================] - 0s 21ms/step - loss: 0.0016 - mean_absolute_error: 0.0328\n",
            "Epoch 329/500\n",
            "2/2 [==============================] - 0s 22ms/step - loss: 0.0049 - mean_absolute_error: 0.0496\n",
            "Epoch 330/500\n",
            "2/2 [==============================] - 0s 20ms/step - loss: 0.0019 - mean_absolute_error: 0.0376\n",
            "Epoch 331/500\n",
            "2/2 [==============================] - 0s 26ms/step - loss: 0.0028 - mean_absolute_error: 0.0393\n",
            "Epoch 332/500\n",
            "2/2 [==============================] - 0s 22ms/step - loss: 0.0023 - mean_absolute_error: 0.0376\n",
            "Epoch 333/500\n",
            "2/2 [==============================] - 0s 21ms/step - loss: 0.0035 - mean_absolute_error: 0.0435\n",
            "Epoch 334/500\n",
            "2/2 [==============================] - 0s 21ms/step - loss: 0.0030 - mean_absolute_error: 0.0424\n",
            "Epoch 335/500\n",
            "2/2 [==============================] - 0s 23ms/step - loss: 0.0035 - mean_absolute_error: 0.0444\n",
            "Epoch 336/500\n",
            "2/2 [==============================] - 0s 19ms/step - loss: 0.0021 - mean_absolute_error: 0.0362\n",
            "Epoch 337/500\n",
            "2/2 [==============================] - 0s 18ms/step - loss: 0.0012 - mean_absolute_error: 0.0273\n",
            "Epoch 338/500\n",
            "2/2 [==============================] - 0s 20ms/step - loss: 0.0030 - mean_absolute_error: 0.0368\n",
            "Epoch 339/500\n",
            "2/2 [==============================] - 0s 24ms/step - loss: 0.0014 - mean_absolute_error: 0.0268\n",
            "Epoch 340/500\n",
            "2/2 [==============================] - 0s 22ms/step - loss: 0.0025 - mean_absolute_error: 0.0378\n",
            "Epoch 341/500\n",
            "2/2 [==============================] - 0s 22ms/step - loss: 0.0021 - mean_absolute_error: 0.0370\n",
            "Epoch 342/500\n",
            "2/2 [==============================] - 0s 21ms/step - loss: 0.0030 - mean_absolute_error: 0.0436\n",
            "Epoch 343/500\n",
            "2/2 [==============================] - 0s 22ms/step - loss: 0.0034 - mean_absolute_error: 0.0438\n",
            "Epoch 344/500\n",
            "2/2 [==============================] - 0s 22ms/step - loss: 0.0110 - mean_absolute_error: 0.0546\n",
            "Epoch 345/500\n",
            "2/2 [==============================] - 0s 21ms/step - loss: 0.0046 - mean_absolute_error: 0.0507\n",
            "Epoch 346/500\n",
            "2/2 [==============================] - 0s 21ms/step - loss: 0.0134 - mean_absolute_error: 0.0979\n",
            "Epoch 347/500\n",
            "2/2 [==============================] - 0s 22ms/step - loss: 0.0072 - mean_absolute_error: 0.0723\n",
            "Epoch 348/500\n",
            "2/2 [==============================] - 0s 25ms/step - loss: 0.0104 - mean_absolute_error: 0.0817\n",
            "Epoch 349/500\n",
            "2/2 [==============================] - 0s 25ms/step - loss: 0.0052 - mean_absolute_error: 0.0581\n",
            "Epoch 350/500\n",
            "2/2 [==============================] - 0s 20ms/step - loss: 0.0063 - mean_absolute_error: 0.0585\n",
            "Epoch 351/500\n",
            "2/2 [==============================] - 0s 21ms/step - loss: 0.0065 - mean_absolute_error: 0.0590\n",
            "Epoch 352/500\n",
            "2/2 [==============================] - 0s 21ms/step - loss: 0.0063 - mean_absolute_error: 0.0583\n",
            "Epoch 353/500\n",
            "2/2 [==============================] - 0s 22ms/step - loss: 0.0065 - mean_absolute_error: 0.0625\n",
            "Epoch 354/500\n",
            "2/2 [==============================] - 0s 23ms/step - loss: 0.0060 - mean_absolute_error: 0.0663\n",
            "Epoch 355/500\n",
            "2/2 [==============================] - 0s 22ms/step - loss: 0.0045 - mean_absolute_error: 0.0544\n",
            "Epoch 356/500\n",
            "2/2 [==============================] - 0s 19ms/step - loss: 0.0060 - mean_absolute_error: 0.0585\n",
            "Epoch 357/500\n",
            "2/2 [==============================] - 0s 21ms/step - loss: 0.0034 - mean_absolute_error: 0.0461\n",
            "Epoch 358/500\n",
            "2/2 [==============================] - 0s 25ms/step - loss: 0.0055 - mean_absolute_error: 0.0551\n",
            "Epoch 359/500\n",
            "2/2 [==============================] - 0s 24ms/step - loss: 0.0043 - mean_absolute_error: 0.0526\n",
            "Epoch 360/500\n",
            "2/2 [==============================] - 0s 21ms/step - loss: 0.0075 - mean_absolute_error: 0.0644\n",
            "Epoch 361/500\n",
            "2/2 [==============================] - 0s 21ms/step - loss: 0.0035 - mean_absolute_error: 0.0434\n",
            "Epoch 362/500\n",
            "2/2 [==============================] - 0s 28ms/step - loss: 0.0044 - mean_absolute_error: 0.0500\n",
            "Epoch 363/500\n",
            "2/2 [==============================] - 0s 24ms/step - loss: 0.0038 - mean_absolute_error: 0.0490\n",
            "Epoch 364/500\n",
            "2/2 [==============================] - 0s 22ms/step - loss: 0.0037 - mean_absolute_error: 0.0449\n",
            "Epoch 365/500\n",
            "2/2 [==============================] - 0s 23ms/step - loss: 0.0026 - mean_absolute_error: 0.0366\n",
            "Epoch 366/500\n",
            "2/2 [==============================] - 0s 21ms/step - loss: 0.0031 - mean_absolute_error: 0.0451\n",
            "Epoch 367/500\n",
            "2/2 [==============================] - 0s 21ms/step - loss: 0.0032 - mean_absolute_error: 0.0426\n",
            "Epoch 368/500\n",
            "2/2 [==============================] - 0s 25ms/step - loss: 0.0033 - mean_absolute_error: 0.0415\n",
            "Epoch 369/500\n",
            "2/2 [==============================] - 0s 17ms/step - loss: 0.0019 - mean_absolute_error: 0.0350\n",
            "Epoch 370/500\n",
            "2/2 [==============================] - 0s 25ms/step - loss: 0.0026 - mean_absolute_error: 0.0396\n",
            "Epoch 371/500\n",
            "2/2 [==============================] - 0s 21ms/step - loss: 0.0037 - mean_absolute_error: 0.0453\n",
            "Epoch 372/500\n",
            "2/2 [==============================] - 0s 25ms/step - loss: 0.0035 - mean_absolute_error: 0.0452\n",
            "Epoch 373/500\n",
            "2/2 [==============================] - 0s 18ms/step - loss: 0.0024 - mean_absolute_error: 0.0412\n",
            "Epoch 374/500\n",
            "2/2 [==============================] - 0s 21ms/step - loss: 0.0033 - mean_absolute_error: 0.0503\n",
            "Epoch 375/500\n",
            "2/2 [==============================] - 0s 18ms/step - loss: 0.0022 - mean_absolute_error: 0.0387\n",
            "Epoch 376/500\n",
            "2/2 [==============================] - 0s 21ms/step - loss: 0.0023 - mean_absolute_error: 0.0390\n",
            "Epoch 377/500\n",
            "2/2 [==============================] - 0s 19ms/step - loss: 0.0017 - mean_absolute_error: 0.0342\n",
            "Epoch 378/500\n",
            "2/2 [==============================] - 0s 21ms/step - loss: 0.0035 - mean_absolute_error: 0.0471\n",
            "Epoch 379/500\n",
            "2/2 [==============================] - 0s 19ms/step - loss: 0.0033 - mean_absolute_error: 0.0458\n",
            "Epoch 380/500\n",
            "2/2 [==============================] - 0s 19ms/step - loss: 0.0013 - mean_absolute_error: 0.0279\n",
            "Epoch 381/500\n",
            "2/2 [==============================] - 0s 28ms/step - loss: 0.0017 - mean_absolute_error: 0.0344\n",
            "Epoch 382/500\n",
            "2/2 [==============================] - 0s 19ms/step - loss: 0.0031 - mean_absolute_error: 0.0435\n",
            "Epoch 383/500\n",
            "2/2 [==============================] - 0s 23ms/step - loss: 0.0023 - mean_absolute_error: 0.0350\n",
            "Epoch 384/500\n",
            "2/2 [==============================] - 0s 22ms/step - loss: 0.0027 - mean_absolute_error: 0.0382\n",
            "Epoch 385/500\n",
            "2/2 [==============================] - 0s 22ms/step - loss: 0.0036 - mean_absolute_error: 0.0503\n",
            "Epoch 386/500\n",
            "2/2 [==============================] - 0s 25ms/step - loss: 0.0022 - mean_absolute_error: 0.0372\n",
            "Epoch 387/500\n",
            "2/2 [==============================] - 0s 21ms/step - loss: 0.0017 - mean_absolute_error: 0.0337\n",
            "Epoch 388/500\n",
            "2/2 [==============================] - 0s 20ms/step - loss: 0.0026 - mean_absolute_error: 0.0373\n",
            "Epoch 389/500\n",
            "2/2 [==============================] - 0s 21ms/step - loss: 0.0027 - mean_absolute_error: 0.0368\n",
            "Epoch 390/500\n",
            "2/2 [==============================] - 0s 23ms/step - loss: 0.0022 - mean_absolute_error: 0.0337\n",
            "Epoch 391/500\n",
            "2/2 [==============================] - 0s 23ms/step - loss: 0.0023 - mean_absolute_error: 0.0381\n",
            "Epoch 392/500\n",
            "2/2 [==============================] - 0s 21ms/step - loss: 0.0017 - mean_absolute_error: 0.0317\n",
            "Epoch 393/500\n",
            "2/2 [==============================] - 0s 20ms/step - loss: 0.0024 - mean_absolute_error: 0.0401\n",
            "Epoch 394/500\n",
            "2/2 [==============================] - 0s 19ms/step - loss: 0.0018 - mean_absolute_error: 0.0319\n",
            "Epoch 395/500\n",
            "2/2 [==============================] - 0s 23ms/step - loss: 0.0027 - mean_absolute_error: 0.0375\n",
            "Epoch 396/500\n",
            "2/2 [==============================] - 0s 20ms/step - loss: 0.0042 - mean_absolute_error: 0.0447\n",
            "Epoch 397/500\n",
            "2/2 [==============================] - 0s 20ms/step - loss: 0.0028 - mean_absolute_error: 0.0454\n",
            "Epoch 398/500\n",
            "2/2 [==============================] - 0s 22ms/step - loss: 0.0026 - mean_absolute_error: 0.0399\n",
            "Epoch 399/500\n",
            "2/2 [==============================] - 0s 19ms/step - loss: 0.0023 - mean_absolute_error: 0.0347\n",
            "Epoch 400/500\n",
            "2/2 [==============================] - 0s 23ms/step - loss: 0.0024 - mean_absolute_error: 0.0385\n",
            "Epoch 401/500\n",
            "2/2 [==============================] - 0s 31ms/step - loss: 0.0027 - mean_absolute_error: 0.0394\n",
            "Epoch 402/500\n",
            "2/2 [==============================] - 0s 19ms/step - loss: 0.0048 - mean_absolute_error: 0.0517\n",
            "Epoch 403/500\n",
            "2/2 [==============================] - 0s 20ms/step - loss: 0.0019 - mean_absolute_error: 0.0323\n",
            "Epoch 404/500\n",
            "2/2 [==============================] - 0s 21ms/step - loss: 0.0081 - mean_absolute_error: 0.0592\n",
            "Epoch 405/500\n",
            "2/2 [==============================] - 0s 20ms/step - loss: 0.0076 - mean_absolute_error: 0.0584\n",
            "Epoch 406/500\n",
            "2/2 [==============================] - 0s 20ms/step - loss: 0.0086 - mean_absolute_error: 0.0716\n",
            "Epoch 407/500\n",
            "2/2 [==============================] - 0s 22ms/step - loss: 0.0046 - mean_absolute_error: 0.0524\n",
            "Epoch 408/500\n",
            "2/2 [==============================] - 0s 25ms/step - loss: 0.0065 - mean_absolute_error: 0.0666\n",
            "Epoch 409/500\n",
            "2/2 [==============================] - 0s 18ms/step - loss: 0.0036 - mean_absolute_error: 0.0478\n",
            "Epoch 410/500\n",
            "2/2 [==============================] - 0s 21ms/step - loss: 0.0032 - mean_absolute_error: 0.0406\n",
            "Epoch 411/500\n",
            "2/2 [==============================] - 0s 22ms/step - loss: 0.0032 - mean_absolute_error: 0.0452\n",
            "Epoch 412/500\n",
            "2/2 [==============================] - 0s 27ms/step - loss: 0.0021 - mean_absolute_error: 0.0359\n",
            "Epoch 413/500\n",
            "2/2 [==============================] - 0s 21ms/step - loss: 0.0042 - mean_absolute_error: 0.0489\n",
            "Epoch 414/500\n",
            "2/2 [==============================] - 0s 22ms/step - loss: 0.0030 - mean_absolute_error: 0.0439\n",
            "Epoch 415/500\n",
            "2/2 [==============================] - 0s 22ms/step - loss: 0.0026 - mean_absolute_error: 0.0393\n",
            "Epoch 416/500\n",
            "2/2 [==============================] - 0s 21ms/step - loss: 0.0019 - mean_absolute_error: 0.0356\n",
            "Epoch 417/500\n",
            "2/2 [==============================] - 0s 20ms/step - loss: 0.0023 - mean_absolute_error: 0.0399\n",
            "Epoch 418/500\n",
            "2/2 [==============================] - 0s 19ms/step - loss: 0.0030 - mean_absolute_error: 0.0438\n",
            "Epoch 419/500\n",
            "2/2 [==============================] - 0s 21ms/step - loss: 0.0032 - mean_absolute_error: 0.0444\n",
            "Epoch 420/500\n",
            "2/2 [==============================] - 0s 24ms/step - loss: 0.0032 - mean_absolute_error: 0.0446\n",
            "Epoch 421/500\n",
            "2/2 [==============================] - 0s 20ms/step - loss: 0.0021 - mean_absolute_error: 0.0360\n",
            "Epoch 422/500\n",
            "2/2 [==============================] - 0s 24ms/step - loss: 0.0025 - mean_absolute_error: 0.0405\n",
            "Epoch 423/500\n",
            "2/2 [==============================] - 0s 23ms/step - loss: 0.0023 - mean_absolute_error: 0.0387\n",
            "Epoch 424/500\n",
            "2/2 [==============================] - 0s 22ms/step - loss: 0.0020 - mean_absolute_error: 0.0357\n",
            "Epoch 425/500\n",
            "2/2 [==============================] - 0s 23ms/step - loss: 0.0020 - mean_absolute_error: 0.0363\n",
            "Epoch 426/500\n",
            "2/2 [==============================] - 0s 24ms/step - loss: 0.0015 - mean_absolute_error: 0.0320\n",
            "Epoch 427/500\n",
            "2/2 [==============================] - 0s 31ms/step - loss: 0.0020 - mean_absolute_error: 0.0309\n",
            "Epoch 428/500\n",
            "2/2 [==============================] - 0s 21ms/step - loss: 0.0020 - mean_absolute_error: 0.0353\n",
            "Epoch 429/500\n",
            "2/2 [==============================] - 0s 22ms/step - loss: 0.0024 - mean_absolute_error: 0.0379\n",
            "Epoch 430/500\n",
            "2/2 [==============================] - 0s 21ms/step - loss: 0.0014 - mean_absolute_error: 0.0311\n",
            "Epoch 431/500\n",
            "2/2 [==============================] - 0s 20ms/step - loss: 0.0027 - mean_absolute_error: 0.0389\n",
            "Epoch 432/500\n",
            "2/2 [==============================] - 0s 21ms/step - loss: 0.0017 - mean_absolute_error: 0.0319\n",
            "Epoch 433/500\n",
            "2/2 [==============================] - 0s 21ms/step - loss: 0.0018 - mean_absolute_error: 0.0327\n",
            "Epoch 434/500\n",
            "2/2 [==============================] - 0s 22ms/step - loss: 0.0035 - mean_absolute_error: 0.0451\n",
            "Epoch 435/500\n",
            "2/2 [==============================] - 0s 20ms/step - loss: 0.0025 - mean_absolute_error: 0.0343\n",
            "Epoch 436/500\n",
            "2/2 [==============================] - 0s 22ms/step - loss: 0.0042 - mean_absolute_error: 0.0421\n",
            "Epoch 437/500\n",
            "2/2 [==============================] - 0s 21ms/step - loss: 0.0017 - mean_absolute_error: 0.0357\n",
            "\n",
            "Epoch 00437: ReduceLROnPlateau reducing learning rate to 0.0009999999776482583.\n",
            "Epoch 438/500\n",
            "2/2 [==============================] - 0s 25ms/step - loss: 0.0042 - mean_absolute_error: 0.0481\n",
            "Epoch 439/500\n",
            "2/2 [==============================] - 0s 20ms/step - loss: 0.0021 - mean_absolute_error: 0.0352\n",
            "Epoch 440/500\n",
            "2/2 [==============================] - 0s 20ms/step - loss: 0.0021 - mean_absolute_error: 0.0357\n",
            "Epoch 441/500\n",
            "2/2 [==============================] - 0s 20ms/step - loss: 0.0032 - mean_absolute_error: 0.0424\n",
            "Epoch 442/500\n",
            "2/2 [==============================] - 0s 19ms/step - loss: 0.0017 - mean_absolute_error: 0.0331\n",
            "Epoch 443/500\n",
            "2/2 [==============================] - 0s 26ms/step - loss: 0.0017 - mean_absolute_error: 0.0325\n",
            "Epoch 444/500\n",
            "2/2 [==============================] - 0s 21ms/step - loss: 0.0012 - mean_absolute_error: 0.0263\n",
            "Epoch 445/500\n",
            "2/2 [==============================] - 0s 23ms/step - loss: 0.0013 - mean_absolute_error: 0.0294\n",
            "Epoch 446/500\n",
            "2/2 [==============================] - 0s 20ms/step - loss: 0.0025 - mean_absolute_error: 0.0395\n",
            "Epoch 447/500\n",
            "2/2 [==============================] - 0s 22ms/step - loss: 0.0016 - mean_absolute_error: 0.0309\n",
            "Epoch 448/500\n",
            "2/2 [==============================] - 0s 21ms/step - loss: 0.0016 - mean_absolute_error: 0.0308\n",
            "Epoch 449/500\n",
            "2/2 [==============================] - 0s 20ms/step - loss: 0.0017 - mean_absolute_error: 0.0324\n",
            "Epoch 450/500\n",
            "2/2 [==============================] - 0s 27ms/step - loss: 0.0013 - mean_absolute_error: 0.0277\n",
            "Epoch 451/500\n",
            "2/2 [==============================] - 0s 23ms/step - loss: 0.0016 - mean_absolute_error: 0.0277\n",
            "Epoch 452/500\n",
            "2/2 [==============================] - 0s 21ms/step - loss: 0.0018 - mean_absolute_error: 0.0326\n",
            "Epoch 453/500\n",
            "2/2 [==============================] - 0s 21ms/step - loss: 0.0015 - mean_absolute_error: 0.0290\n",
            "Epoch 454/500\n",
            "2/2 [==============================] - 0s 20ms/step - loss: 0.0018 - mean_absolute_error: 0.0323\n",
            "Epoch 455/500\n",
            "2/2 [==============================] - 0s 23ms/step - loss: 0.0017 - mean_absolute_error: 0.0300\n",
            "Epoch 456/500\n",
            "2/2 [==============================] - 0s 21ms/step - loss: 0.0017 - mean_absolute_error: 0.0338\n",
            "Epoch 457/500\n",
            "2/2 [==============================] - 0s 26ms/step - loss: 0.0020 - mean_absolute_error: 0.0360\n",
            "Epoch 458/500\n",
            "2/2 [==============================] - 0s 22ms/step - loss: 0.0018 - mean_absolute_error: 0.0316\n",
            "Epoch 459/500\n",
            "2/2 [==============================] - 0s 20ms/step - loss: 0.0034 - mean_absolute_error: 0.0389\n",
            "Epoch 460/500\n",
            "2/2 [==============================] - 0s 20ms/step - loss: 0.0014 - mean_absolute_error: 0.0299\n",
            "Epoch 461/500\n",
            "2/2 [==============================] - 0s 27ms/step - loss: 9.8624e-04 - mean_absolute_error: 0.0235\n",
            "Epoch 462/500\n",
            "2/2 [==============================] - 0s 23ms/step - loss: 0.0012 - mean_absolute_error: 0.0259\n",
            "Epoch 463/500\n",
            "2/2 [==============================] - 0s 23ms/step - loss: 0.0018 - mean_absolute_error: 0.0329\n",
            "Epoch 464/500\n",
            "2/2 [==============================] - 0s 22ms/step - loss: 0.0019 - mean_absolute_error: 0.0337\n",
            "Epoch 465/500\n",
            "2/2 [==============================] - 0s 26ms/step - loss: 0.0016 - mean_absolute_error: 0.0290\n",
            "Epoch 466/500\n",
            "2/2 [==============================] - 0s 21ms/step - loss: 0.0018 - mean_absolute_error: 0.0329\n",
            "Epoch 467/500\n",
            "2/2 [==============================] - 0s 21ms/step - loss: 0.0021 - mean_absolute_error: 0.0329\n",
            "Epoch 468/500\n",
            "2/2 [==============================] - 0s 22ms/step - loss: 0.0015 - mean_absolute_error: 0.0306\n",
            "Epoch 469/500\n",
            "2/2 [==============================] - 0s 21ms/step - loss: 0.0013 - mean_absolute_error: 0.0301\n",
            "Epoch 470/500\n",
            "2/2 [==============================] - 0s 21ms/step - loss: 0.0016 - mean_absolute_error: 0.0281\n",
            "Epoch 471/500\n",
            "2/2 [==============================] - 0s 21ms/step - loss: 0.0014 - mean_absolute_error: 0.0306\n",
            "Epoch 472/500\n",
            "2/2 [==============================] - 0s 22ms/step - loss: 0.0027 - mean_absolute_error: 0.0343\n",
            "Epoch 473/500\n",
            "2/2 [==============================] - 0s 22ms/step - loss: 0.0021 - mean_absolute_error: 0.0307\n",
            "Epoch 474/500\n",
            "2/2 [==============================] - 0s 21ms/step - loss: 9.2271e-04 - mean_absolute_error: 0.0242\n",
            "Epoch 475/500\n",
            "2/2 [==============================] - 0s 25ms/step - loss: 0.0017 - mean_absolute_error: 0.0340\n",
            "Epoch 476/500\n",
            "2/2 [==============================] - 0s 24ms/step - loss: 0.0014 - mean_absolute_error: 0.0297\n",
            "Epoch 477/500\n",
            "2/2 [==============================] - 0s 32ms/step - loss: 0.0013 - mean_absolute_error: 0.0281\n",
            "Epoch 478/500\n",
            "2/2 [==============================] - 0s 20ms/step - loss: 0.0014 - mean_absolute_error: 0.0284\n",
            "Epoch 479/500\n",
            "2/2 [==============================] - 0s 22ms/step - loss: 0.0017 - mean_absolute_error: 0.0334\n",
            "Epoch 480/500\n",
            "2/2 [==============================] - 0s 24ms/step - loss: 0.0016 - mean_absolute_error: 0.0329\n",
            "Epoch 481/500\n",
            "2/2 [==============================] - 0s 20ms/step - loss: 0.0011 - mean_absolute_error: 0.0260\n",
            "Epoch 482/500\n",
            "2/2 [==============================] - 0s 22ms/step - loss: 0.0012 - mean_absolute_error: 0.0279\n",
            "Epoch 483/500\n",
            "2/2 [==============================] - 0s 21ms/step - loss: 0.0014 - mean_absolute_error: 0.0286\n",
            "Epoch 484/500\n",
            "2/2 [==============================] - 0s 23ms/step - loss: 8.4920e-04 - mean_absolute_error: 0.0225\n",
            "Epoch 485/500\n",
            "2/2 [==============================] - 0s 23ms/step - loss: 8.9938e-04 - mean_absolute_error: 0.0233\n",
            "Epoch 486/500\n",
            "2/2 [==============================] - 0s 27ms/step - loss: 0.0014 - mean_absolute_error: 0.0303\n",
            "Epoch 487/500\n",
            "2/2 [==============================] - 0s 20ms/step - loss: 0.0013 - mean_absolute_error: 0.0275\n",
            "Epoch 488/500\n",
            "2/2 [==============================] - 0s 21ms/step - loss: 0.0012 - mean_absolute_error: 0.0291\n",
            "Epoch 489/500\n",
            "2/2 [==============================] - 0s 24ms/step - loss: 0.0013 - mean_absolute_error: 0.0260\n",
            "Epoch 490/500\n",
            "2/2 [==============================] - 0s 23ms/step - loss: 0.0015 - mean_absolute_error: 0.0288\n",
            "Epoch 491/500\n",
            "2/2 [==============================] - 0s 23ms/step - loss: 0.0016 - mean_absolute_error: 0.0317\n",
            "Epoch 492/500\n",
            "2/2 [==============================] - 0s 26ms/step - loss: 0.0016 - mean_absolute_error: 0.0307\n",
            "Epoch 493/500\n",
            "2/2 [==============================] - 0s 21ms/step - loss: 0.0016 - mean_absolute_error: 0.0306\n",
            "Epoch 494/500\n",
            "2/2 [==============================] - 0s 21ms/step - loss: 0.0014 - mean_absolute_error: 0.0274\n",
            "Epoch 495/500\n",
            "2/2 [==============================] - 0s 26ms/step - loss: 0.0011 - mean_absolute_error: 0.0268\n",
            "Epoch 496/500\n",
            "2/2 [==============================] - 0s 22ms/step - loss: 0.0018 - mean_absolute_error: 0.0341\n",
            "Epoch 497/500\n",
            "2/2 [==============================] - 0s 25ms/step - loss: 0.0023 - mean_absolute_error: 0.0295\n",
            "Epoch 498/500\n",
            "2/2 [==============================] - 0s 20ms/step - loss: 0.0017 - mean_absolute_error: 0.0329\n",
            "Epoch 499/500\n",
            "2/2 [==============================] - 0s 29ms/step - loss: 0.0011 - mean_absolute_error: 0.0247\n",
            "Epoch 500/500\n",
            "2/2 [==============================] - 0s 23ms/step - loss: 0.0011 - mean_absolute_error: 0.0252\n"
          ],
          "name": "stdout"
        },
        {
          "output_type": "execute_result",
          "data": {
            "text/plain": [
              "<tensorflow.python.keras.callbacks.History at 0x7fcf71f3a5d0>"
            ]
          },
          "metadata": {
            "tags": []
          },
          "execution_count": 31
        }
      ]
    },
    {
      "cell_type": "markdown",
      "metadata": {
        "id": "B6Bs7A6iyeqH"
      },
      "source": [
        "### Fazer as previsões e analisar os resultados"
      ]
    },
    {
      "cell_type": "markdown",
      "metadata": {
        "id": "BlNtsTiCyhZq"
      },
      "source": [
        "#### Base de teste"
      ]
    },
    {
      "cell_type": "code",
      "metadata": {
        "id": "rr0Y3R6Jw-BP"
      },
      "source": [
        "dataset_test = pd.read_csv('test.csv')\n",
        "test_pul = dataset_test.iloc[:, 1:2].values"
      ],
      "execution_count": null,
      "outputs": []
    },
    {
      "cell_type": "markdown",
      "metadata": {
        "id": "x8o4Q4CNyuDB"
      },
      "source": [
        "#### Construir a estrutura para teste"
      ]
    },
    {
      "cell_type": "code",
      "metadata": {
        "id": "NmVOSqb7xBs4"
      },
      "source": [
        "dataset_total = pd.concat((dataset_train.iloc[:,1], dataset_test.iloc[:,1]), axis = 0)\n",
        "testLength = len(dataset_test)\n",
        "inputs = dataset_total[len(dataset_total) - testLength - window:].values\n",
        "inputs = inputs.reshape(inputs.shape[0],1)\n",
        "\n",
        "inputs = sc.transform(inputs)\n",
        "X_test = []\n",
        "for i in range(window, inputs.shape[0]): \n",
        "    X_test.append(inputs[i-window:i, 0])\n",
        "X_test = np.array(X_test)\n",
        "\n",
        "X_test = np.reshape(X_test, (X_test.shape[0], X_test.shape[1], 1))"
      ],
      "execution_count": null,
      "outputs": []
    },
    {
      "cell_type": "markdown",
      "metadata": {
        "id": "p4ZTe7DHy8zT"
      },
      "source": [
        "#### Fazer as previsões"
      ]
    },
    {
      "cell_type": "code",
      "metadata": {
        "id": "DRlJrRExxFvu"
      },
      "source": [
        "GRU_predicted = regressorGRU.predict(X_test)\n",
        "GRU_predicted = sc.inverse_transform(GRU_predicted)"
      ],
      "execution_count": null,
      "outputs": []
    },
    {
      "cell_type": "markdown",
      "metadata": {
        "id": "K07y9kO8zEXY"
      },
      "source": [
        "#### Visualizar os resultados de treino e teste"
      ]
    },
    {
      "cell_type": "code",
      "metadata": {
        "colab": {
          "base_uri": "https://localhost:8080/",
          "height": 295
        },
        "id": "zlKzHEgdya-x",
        "outputId": "8ddd840d-88ec-4fd8-bba9-175d30b69747"
      },
      "source": [
        "allTargetData = np.vstack((training_set, test_pul))\n",
        "training_predicted = regressorGRU.predict(X_train)\n",
        "training_predicted = sc.inverse_transform(training_predicted)\n",
        "allForecastedData = np.vstack((training_set[0:window], training_predicted, GRU_predicted))\n",
        "plt.plot(allTargetData, color = 'red', label = 'Real')\n",
        "plt.plot(allForecastedData, color = 'blue', label = 'Previsto')\n",
        "plt.title('Previsão de série temporal')\n",
        "plt.xlabel('Tempo')\n",
        "plt.ylabel('Mortes')\n",
        "plt.legend()\n",
        "plt.savefig('gru_predictions_training_test.svg')\n",
        "plt.show()"
      ],
      "execution_count": null,
      "outputs": [
        {
          "output_type": "display_data",
          "data": {
            "image/png": "[encoded data removed]",
            "text/plain": [
              "<Figure size 432x288 with 1 Axes>"
            ]
          },
          "metadata": {
            "tags": [],
            "needs_background": "light"
          }
        }
      ]
    },
    {
      "cell_type": "markdown",
      "metadata": {
        "id": "nVVSR9uozF7J"
      },
      "source": [
        "#### Métricas"
      ]
    },
    {
      "cell_type": "code",
      "metadata": {
        "colab": {
          "base_uri": "https://localhost:8080/"
        },
        "id": "nA1GMEgFzZa-",
        "outputId": "905a401f-4cef-4fcd-a91e-f1cf17b519de"
      },
      "source": [
        "rmse = math.sqrt(mean_squared_error(test_pul, GRU_predicted))\n",
        "print('RMSE: ', rmse)"
      ],
      "execution_count": null,
      "outputs": [
        {
          "output_type": "stream",
          "text": [
            "RMSE:  217.61153913228267\n"
          ],
          "name": "stdout"
        }
      ]
    },
    {
      "cell_type": "code",
      "metadata": {
        "colab": {
          "base_uri": "https://localhost:8080/"
        },
        "id": "qhHCUzVQzau4",
        "outputId": "07fe13f7-55d8-4c3c-db38-8ab15300afe2"
      },
      "source": [
        "mse = mean_squared_error(test_pul, GRU_predicted)\n",
        "print('MSE: ',mse)"
      ],
      "execution_count": null,
      "outputs": [
        {
          "output_type": "stream",
          "text": [
            "MSE:  47354.781963520996\n"
          ],
          "name": "stdout"
        }
      ]
    },
    {
      "cell_type": "code",
      "metadata": {
        "colab": {
          "base_uri": "https://localhost:8080/"
        },
        "id": "YyBVv5n5zgMr",
        "outputId": "d092ecd2-6199-43ff-f1b4-a5ce92db6c6d"
      },
      "source": [
        "mape = np.mean(np.abs((test_pul - GRU_predicted) / test_pul)) * 100\n",
        "print('MAPE: ',mape, '%')"
      ],
      "execution_count": null,
      "outputs": [
        {
          "output_type": "stream",
          "text": [
            "MAPE:  7.364326950596284 %\n"
          ],
          "name": "stdout"
        }
      ]
    },
    {
      "cell_type": "code",
      "metadata": {
        "colab": {
          "base_uri": "https://localhost:8080/"
        },
        "id": "ZFUIx9WBzjgB",
        "outputId": "82483369-2c74-40be-fb8c-83bf57cb9d0b"
      },
      "source": [
        "mae = mean_absolute_error(test_pul, GRU_predicted)\n",
        "print('MAE: ',mae)"
      ],
      "execution_count": null,
      "outputs": [
        {
          "output_type": "stream",
          "text": [
            "MAE:  155.59162394205728\n"
          ],
          "name": "stdout"
        }
      ]
    }
  ]
}